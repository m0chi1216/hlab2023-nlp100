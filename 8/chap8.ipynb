{
 "cells": [
  {
   "attachments": {},
   "cell_type": "markdown",
   "metadata": {},
   "source": [
    "# 70. 単語ベクトルの和による特徴量"
   ]
  },
  {
   "cell_type": "code",
   "execution_count": 1,
   "metadata": {},
   "outputs": [
    {
     "name": "stderr",
     "output_type": "stream",
     "text": [
      "/home/z44716r/miniconda3/envs/nlp100/lib/python3.10/site-packages/tqdm/auto.py:21: TqdmWarning: IProgress not found. Please update jupyter and ipywidgets. See https://ipywidgets.readthedocs.io/en/stable/user_install.html\n",
      "  from .autonotebook import tqdm as notebook_tqdm\n"
     ]
    }
   ],
   "source": [
    "import torch\n",
    "import pandas as pd\n",
    "import string\n",
    "import re"
   ]
  },
  {
   "cell_type": "code",
   "execution_count": 34,
   "metadata": {},
   "outputs": [],
   "source": [
    "df_train = pd.read_csv('./../6/data/train.txt', sep='\\t')\n",
    "df_valid = pd.read_csv('./../6/data/valid.txt', sep='\\t')\n",
    "df_test = pd.read_csv('./../6/data/test.txt', sep='\\t')"
   ]
  },
  {
   "cell_type": "code",
   "execution_count": 35,
   "metadata": {},
   "outputs": [
    {
     "name": "stdout",
     "output_type": "stream",
     "text": [
      "     CATEGORY                                              TITLE\n",
      "0           t  UPDATE 1-US eyes bankruptcy link in GM ignitio...\n",
      "1           e  17 Times Zach Braff's 'Wish I Was Here' Refere...\n",
      "2           e  Orlando Bloom - Orlando Bloom wants to inspire...\n",
      "3           b  Factbox: Energy Future Holdings and largest de...\n",
      "4           b  UPDATE 10-Oil steadies after big drop on easin...\n",
      "...       ...                                                ...\n",
      "1329        t  To snap a thief: App takes 'theftie' photos an...\n",
      "1330        e  Macaulay Culkin's The Pizza Underground Booed ...\n",
      "1331        b  Treasury Volatility Drops on Yellen Low-Rates ...\n",
      "1332        b  Shell Profit Falls 3 Percent on Lower Producti...\n",
      "1333        e  Peter Mayhew - Peter Mayhew returning to Star ...\n",
      "\n",
      "[1334 rows x 2 columns]\n"
     ]
    }
   ],
   "source": [
    "print(df_test)"
   ]
  },
  {
   "cell_type": "code",
   "execution_count": 4,
   "metadata": {},
   "outputs": [],
   "source": [
    "def preprocessing_text(text):\n",
    "    for p in string.punctuation:\n",
    "        text = text.replace(p, \" \") \n",
    "    text = text.lower()\n",
    "    text = re.sub('[0-9]+', '0', text)\n",
    "    return text"
   ]
  },
  {
   "cell_type": "code",
   "execution_count": 36,
   "metadata": {},
   "outputs": [],
   "source": [
    "df_train['TITLE'] = df_train['TITLE'].map(preprocessing_text)\n",
    "df_valid['TITLE'] = df_valid['TITLE'].map(preprocessing_text)\n",
    "df_test['TITLE'] = df_test['TITLE'].map(preprocessing_text)"
   ]
  },
  {
   "cell_type": "code",
   "execution_count": 37,
   "metadata": {},
   "outputs": [
    {
     "name": "stdout",
     "output_type": "stream",
     "text": [
      "     CATEGORY                                              TITLE\n",
      "0           t  update 0 us eyes bankruptcy link in gm ignitio...\n",
      "1           e  0 times zach braff s  wish i was here  referen...\n",
      "2           e  orlando bloom   orlando bloom wants to inspire...\n",
      "3           b  factbox  energy future holdings and largest de...\n",
      "4           b  update 0 oil steadies after big drop on easing...\n",
      "...       ...                                                ...\n",
      "1329        t  to snap a thief  app takes  theftie  photos an...\n",
      "1330        e  macaulay culkin s the pizza underground booed ...\n",
      "1331        b  treasury volatility drops on yellen low rates ...\n",
      "1332        b  shell profit falls 0 percent on lower producti...\n",
      "1333        e  peter mayhew   peter mayhew returning to star ...\n",
      "\n",
      "[1334 rows x 2 columns]\n"
     ]
    }
   ],
   "source": [
    "print(df_test)"
   ]
  },
  {
   "cell_type": "code",
   "execution_count": 8,
   "metadata": {},
   "outputs": [],
   "source": [
    "from gensim.models import KeyedVectors\n",
    "model = KeyedVectors.load_word2vec_format('GoogleNews-vectors-negative300.bin.gz', binary=True)"
   ]
  },
  {
   "cell_type": "code",
   "execution_count": 30,
   "metadata": {},
   "outputs": [],
   "source": [
    "def sentence2vec(sentence):\n",
    "    words = sentence.split()\n",
    "    vec = []\n",
    "    for word in words:\n",
    "        if word in model.key_to_index:\n",
    "            vec.append(model[word])\n",
    "    return torch.tensor(sum(vec)/len(vec))"
   ]
  },
  {
   "cell_type": "code",
   "execution_count": 40,
   "metadata": {},
   "outputs": [
    {
     "name": "stdout",
     "output_type": "stream",
     "text": [
      "tensor([-0.0064,  0.1666,  0.0461,  0.0635, -0.0651, -0.0059,  0.1076, -0.0627,\n",
      "        -0.0975,  0.0043, -0.0691, -0.1365, -0.0534,  0.0007, -0.0624,  0.1193,\n",
      "         0.0442,  0.1467,  0.1217, -0.1173, -0.1886,  0.0437,  0.1072,  0.0053,\n",
      "        -0.1796, -0.0396, -0.1024,  0.0732,  0.0245, -0.0174, -0.0630,  0.0473,\n",
      "        -0.2296, -0.0962, -0.1084, -0.0104,  0.0239, -0.0671,  0.0096,  0.0771,\n",
      "         0.1613, -0.1780,  0.1324, -0.0715, -0.0157, -0.2377, -0.0110, -0.1320,\n",
      "        -0.0738,  0.0753, -0.0649,  0.0859,  0.1310,  0.1611,  0.1163,  0.0762,\n",
      "        -0.0607, -0.0691, -0.0372,  0.0264,  0.1182, -0.0639, -0.0516, -0.0295,\n",
      "        -0.1074, -0.0647, -0.0289,  0.0035,  0.0780,  0.0920,  0.1152,  0.0538,\n",
      "        -0.0842,  0.0648, -0.1462,  0.0180,  0.0691, -0.0541, -0.0080,  0.1553,\n",
      "        -0.0535,  0.0303, -0.0819, -0.1530, -0.0576,  0.1530, -0.0348,  0.0070,\n",
      "        -0.0972,  0.0549,  0.0286, -0.0829, -0.1797, -0.2237, -0.0668, -0.0294,\n",
      "         0.0943,  0.0873,  0.0802, -0.0574, -0.1852,  0.0316,  0.1636, -0.0302,\n",
      "        -0.1060, -0.0248, -0.1045, -0.0209, -0.0779, -0.0780, -0.1567, -0.1110,\n",
      "        -0.0046, -0.1114,  0.0859, -0.2010, -0.1202, -0.0797,  0.0641,  0.0789,\n",
      "         0.0157,  0.0459,  0.0507, -0.0373,  0.1580, -0.0551, -0.0328,  0.0985,\n",
      "        -0.0116,  0.0457, -0.0675, -0.0818,  0.1107, -0.0541,  0.0234, -0.0082,\n",
      "        -0.0527,  0.0089,  0.0488,  0.0347,  0.0135, -0.1874, -0.0652, -0.0315,\n",
      "         0.1307,  0.0662,  0.0023, -0.0254, -0.0734, -0.1256,  0.2466, -0.0034,\n",
      "        -0.0917,  0.0919, -0.0925, -0.0784,  0.0942, -0.1268,  0.0269, -0.0193,\n",
      "         0.1204,  0.1317, -0.0322, -0.0581,  0.1007, -0.1548,  0.0677, -0.0901,\n",
      "        -0.1146,  0.1221, -0.1010,  0.0429, -0.0816, -0.0587, -0.0609,  0.1097,\n",
      "         0.1019, -0.0551,  0.0256,  0.0142, -0.1929, -0.0420,  0.0715,  0.0204,\n",
      "        -0.1469, -0.0587, -0.0489, -0.0117,  0.0460,  0.0373,  0.0343,  0.0677,\n",
      "        -0.0757,  0.0696,  0.0944,  0.1123, -0.0836,  0.0943, -0.0799, -0.0776,\n",
      "        -0.0827, -0.0550,  0.0013, -0.0670, -0.0909, -0.0846,  0.0893, -0.0194,\n",
      "        -0.0191,  0.0087, -0.0654,  0.1155, -0.0895, -0.0064, -0.1484,  0.0737,\n",
      "         0.1061, -0.0303,  0.0874,  0.0585,  0.0725, -0.0762,  0.0214,  0.0682,\n",
      "         0.0428,  0.0050, -0.1128,  0.0238, -0.0529, -0.0255, -0.0947, -0.1176,\n",
      "        -0.0583,  0.0639,  0.0627,  0.1071, -0.0615, -0.1600,  0.2095,  0.0779,\n",
      "         0.0045,  0.0541, -0.0893, -0.0577, -0.1262,  0.1963, -0.0653,  0.0957,\n",
      "         0.0875, -0.1182, -0.0027,  0.0540,  0.1460,  0.0643,  0.1719, -0.0827,\n",
      "         0.0367, -0.0033, -0.2261,  0.0039, -0.0080, -0.0147, -0.0190,  0.0090,\n",
      "         0.1628,  0.0382, -0.0764, -0.0383, -0.0628, -0.1030, -0.0470,  0.0984,\n",
      "         0.0473,  0.0964,  0.0114, -0.1061, -0.1200,  0.0396, -0.1168,  0.0004,\n",
      "        -0.0479,  0.0007,  0.1033,  0.0315,  0.1101, -0.0211, -0.0150,  0.0734,\n",
      "         0.0035,  0.0981, -0.0166,  0.0648, -0.0562, -0.1275,  0.0123, -0.0668,\n",
      "        -0.1154, -0.1147,  0.1040,  0.1096])\n",
      "torch.Size([300])\n"
     ]
    }
   ],
   "source": [
    "print(sentence2vec(df_test.loc[2]['TITLE']))\n",
    "print(sentence2vec(df_test.loc[2]['TITLE']).shape)"
   ]
  },
  {
   "cell_type": "code",
   "execution_count": 41,
   "metadata": {},
   "outputs": [],
   "source": [
    "X_train = torch.stack([sentence2vec(title) for title in df_train['TITLE']])\n",
    "X_valid = torch.stack([sentence2vec(title) for title in df_valid['TITLE']])\n",
    "X_test = torch.stack([sentence2vec(title) for title in df_test['TITLE']])"
   ]
  },
  {
   "cell_type": "code",
   "execution_count": 42,
   "metadata": {},
   "outputs": [
    {
     "data": {
      "text/plain": [
       "torch.Size([10672, 300])"
      ]
     },
     "execution_count": 42,
     "metadata": {},
     "output_type": "execute_result"
    }
   ],
   "source": [
    "X_train.shape"
   ]
  },
  {
   "cell_type": "code",
   "execution_count": 43,
   "metadata": {},
   "outputs": [],
   "source": [
    "category_label = {'b': 0, 't': 1, 'e':2, 'm':3}"
   ]
  },
  {
   "cell_type": "code",
   "execution_count": 54,
   "metadata": {},
   "outputs": [],
   "source": [
    "y_train = torch.tensor(df_train['CATEGORY'].map(lambda x: category_label[x]))\n",
    "y_valid = torch.tensor(df_valid['CATEGORY'].map(lambda x: category_label[x]))\n",
    "y_test = torch.tensor(df_test['CATEGORY'].map(lambda x: category_label[x]))"
   ]
  },
  {
   "cell_type": "code",
   "execution_count": 56,
   "metadata": {},
   "outputs": [
    {
     "name": "stdout",
     "output_type": "stream",
     "text": [
      "torch.Size([10672])\n"
     ]
    }
   ],
   "source": [
    "print(y_train.shape)"
   ]
  },
  {
   "cell_type": "code",
   "execution_count": 57,
   "metadata": {},
   "outputs": [],
   "source": [
    "torch.save(X_train, './data/X_train.pt')\n",
    "torch.save(X_valid, './data/X_valid.pt')\n",
    "torch.save(X_test,  './data/X_test.pt')\n",
    "torch.save(y_train, './data/y_train.pt')\n",
    "torch.save(y_valid, './data/y_valid.pt')\n",
    "torch.save(y_test,  './data/y_test.pt')"
   ]
  },
  {
   "attachments": {},
   "cell_type": "markdown",
   "metadata": {},
   "source": [
    "# 71. 単層ニューラルネットワークによる予測"
   ]
  },
  {
   "cell_type": "code",
   "execution_count": 58,
   "metadata": {},
   "outputs": [],
   "source": [
    "from torch import nn"
   ]
  },
  {
   "cell_type": "code",
   "execution_count": 90,
   "metadata": {},
   "outputs": [],
   "source": [
    "class SP(nn.Module):\n",
    "    def __init__(self):\n",
    "        super().__init__()\n",
    "        self.l = nn.Linear(300,4)\n",
    "    def forward(self, x):\n",
    "        x = self.l(x)\n",
    "        return x"
   ]
  },
  {
   "cell_type": "code",
   "execution_count": 91,
   "metadata": {},
   "outputs": [],
   "source": [
    "model = SP()"
   ]
  },
  {
   "cell_type": "code",
   "execution_count": 92,
   "metadata": {},
   "outputs": [
    {
     "name": "stdout",
     "output_type": "stream",
     "text": [
      "SP(\n",
      "  (l): Linear(in_features=300, out_features=4, bias=True)\n",
      ")\n"
     ]
    }
   ],
   "source": [
    "print(model)"
   ]
  },
  {
   "cell_type": "code",
   "execution_count": 103,
   "metadata": {},
   "outputs": [
    {
     "name": "stdout",
     "output_type": "stream",
     "text": [
      "tensor([ 0.0190, -0.0010,  0.0423, -0.0975], grad_fn=<AddBackward0>)\n",
      "tensor([0.2568, 0.2517, 0.2629, 0.2286], grad_fn=<SoftmaxBackward0>)\n"
     ]
    }
   ],
   "source": [
    "logits = model.forward(X_train[0])\n",
    "y_1 =  torch.softmax(logits, dim=-1)\n",
    "print(logits)\n",
    "print(y_1)\n",
    "y_14 = torch.softmax(model.forward(X_train[:4]), dim=-1)"
   ]
  },
  {
   "cell_type": "code",
   "execution_count": 94,
   "metadata": {},
   "outputs": [
    {
     "data": {
      "text/plain": [
       "tensor([[0.2568, 0.2517, 0.2629, 0.2286],\n",
       "        [0.2453, 0.2469, 0.2574, 0.2505],\n",
       "        [0.2574, 0.2567, 0.2483, 0.2376],\n",
       "        [0.2530, 0.2501, 0.2550, 0.2419]], grad_fn=<SoftmaxBackward0>)"
      ]
     },
     "execution_count": 94,
     "metadata": {},
     "output_type": "execute_result"
    }
   ],
   "source": [
    "y_14"
   ]
  },
  {
   "attachments": {},
   "cell_type": "markdown",
   "metadata": {},
   "source": [
    "# 72. 損失と勾配の計算"
   ]
  },
  {
   "cell_type": "code",
   "execution_count": 112,
   "metadata": {},
   "outputs": [],
   "source": [
    "criterion = nn.CrossEntropyLoss()"
   ]
  },
  {
   "cell_type": "code",
   "execution_count": 113,
   "metadata": {},
   "outputs": [],
   "source": [
    "logits = model(X_train[0])\n",
    "loss = criterion(logits, y_train[0])"
   ]
  },
  {
   "cell_type": "code",
   "execution_count": 114,
   "metadata": {},
   "outputs": [
    {
     "name": "stdout",
     "output_type": "stream",
     "text": [
      "損失: 1.3361155986785889\n"
     ]
    }
   ],
   "source": [
    "print(f'損失: {loss}')"
   ]
  },
  {
   "cell_type": "code",
   "execution_count": 115,
   "metadata": {},
   "outputs": [
    {
     "name": "stdout",
     "output_type": "stream",
     "text": [
      "初期化勾配：tensor([[0., 0., 0.,  ..., 0., 0., 0.],\n",
      "        [0., 0., 0.,  ..., 0., 0., 0.],\n",
      "        [0., 0., 0.,  ..., 0., 0., 0.],\n",
      "        [0., 0., 0.,  ..., 0., 0., 0.]])\n",
      "更新後勾配：tensor([[-0.0188, -0.0018,  0.0171,  ..., -0.0169,  0.0233,  0.0182],\n",
      "        [-0.0184, -0.0018,  0.0168,  ..., -0.0166,  0.0228,  0.0179],\n",
      "        [ 0.0540,  0.0052, -0.0492,  ...,  0.0486, -0.0669, -0.0524],\n",
      "        [-0.0167, -0.0016,  0.0153,  ..., -0.0151,  0.0207,  0.0162]])\n"
     ]
    }
   ],
   "source": [
    "model.zero_grad()\n",
    "print(f'初期化勾配：{model.l.weight.grad}')\n",
    "loss.backward()\n",
    "print(f'更新後勾配：{model.l.weight.grad}')"
   ]
  },
  {
   "attachments": {},
   "cell_type": "markdown",
   "metadata": {},
   "source": [
    "# 73. 確率的勾配降下法による学習"
   ]
  },
  {
   "cell_type": "code",
   "execution_count": 116,
   "metadata": {},
   "outputs": [],
   "source": [
    "import torch.utils.data as data"
   ]
  },
  {
   "cell_type": "code",
   "execution_count": 117,
   "metadata": {},
   "outputs": [],
   "source": [
    "class NewsDataset(data.Dataset):\n",
    "    def __init__(self, X, y, phase='train'):\n",
    "        self.X = X\n",
    "        self.y = y\n",
    "        self.phase = phase\n",
    "    \n",
    "    def __len__(self):\n",
    "        return len(self.y)\n",
    "\n",
    "    def __getitem__(self, idx):\n",
    "        return self.X[idx], self.y[idx]"
   ]
  },
  {
   "cell_type": "code",
   "execution_count": 124,
   "metadata": {},
   "outputs": [],
   "source": [
    "train_ds = NewsDataset(X_train, y_train, phase='train')\n",
    "valid_ds = NewsDataset(X_valid, y_valid, phase='val')\n",
    "test_ds = NewsDataset(X_test, y_test, phase='val')"
   ]
  },
  {
   "cell_type": "code",
   "execution_count": 123,
   "metadata": {},
   "outputs": [
    {
     "name": "stdout",
     "output_type": "stream",
     "text": [
      "(tensor([-7.3273e-02, -7.0496e-03,  6.6753e-02,  6.8593e-02,  8.5124e-02,\n",
      "        -7.9244e-02, -3.2888e-02, -2.3075e-01,  9.4126e-02,  6.0750e-02,\n",
      "         2.7913e-02, -8.7077e-02,  3.9673e-04,  3.7638e-03,  1.7118e-02,\n",
      "        -2.7059e-03,  9.9487e-03,  1.0543e-01,  1.3762e-02, -1.6479e-02,\n",
      "        -4.8584e-02,  4.0927e-02,  6.1971e-02, -2.4729e-02,  6.2948e-02,\n",
      "        -1.0811e-01, -2.1730e-02,  6.1198e-02,  1.0673e-01, -1.7207e-02,\n",
      "         5.8484e-02,  3.3276e-02, -7.4178e-02,  3.8737e-02, -8.0037e-02,\n",
      "         7.7947e-02,  1.9435e-02,  9.6232e-03,  3.3539e-02,  8.5426e-02,\n",
      "        -2.1596e-02, -1.3161e-01,  1.3269e-01,  4.5644e-02,  1.0569e-01,\n",
      "         6.9936e-05, -2.6754e-02, -3.2705e-02, -3.0909e-02,  6.8665e-02,\n",
      "         9.3282e-03,  9.4467e-02,  8.2347e-02,  3.9958e-02,  4.2124e-02,\n",
      "         6.1462e-02, -1.2727e-01, -3.9810e-02, -9.5774e-03, -1.0060e-01,\n",
      "         5.3304e-02,  7.2286e-02,  1.9762e-02, -1.2910e-01,  2.4913e-02,\n",
      "        -6.4936e-02, -3.1235e-02, -1.1332e-02,  2.6316e-02,  1.0170e-01,\n",
      "         9.8592e-02, -4.0131e-02, -4.3981e-02,  8.6243e-02, -9.0149e-02,\n",
      "         5.5074e-02,  2.9966e-02, -3.5044e-02,  9.8979e-02,  1.3923e-01,\n",
      "         3.0396e-02, -6.6030e-02,  1.7904e-03, -6.9438e-02, -4.9072e-02,\n",
      "         3.7003e-02, -6.9784e-02,  7.0786e-02,  3.2445e-02,  3.2847e-02,\n",
      "        -6.0969e-02, -2.7262e-02, -9.8755e-02, -1.0543e-01, -1.3259e-01,\n",
      "         5.2287e-03,  3.3819e-02,  3.6357e-02,  9.0413e-02,  6.7546e-03,\n",
      "        -7.7311e-04, -5.7353e-02,  7.1490e-02, -5.6168e-02, -4.0568e-02,\n",
      "        -1.3550e-02,  5.5135e-03,  7.9959e-02,  3.2104e-02,  4.0487e-03,\n",
      "        -3.2674e-02, -3.7496e-02,  3.0080e-02, -5.6562e-02,  3.0640e-02,\n",
      "         1.4862e-02,  1.9430e-02, -1.1398e-01,  7.1228e-02,  3.5673e-02,\n",
      "         3.2328e-02,  4.1168e-02, -3.9792e-02,  6.3904e-02,  3.5996e-02,\n",
      "        -7.8939e-03,  1.4272e-02, -4.9194e-02,  1.4610e-02, -1.4317e-02,\n",
      "        -9.7778e-02, -6.5409e-02,  4.9553e-03,  3.8115e-02, -1.2544e-01,\n",
      "         4.0145e-02, -1.9852e-02, -8.9518e-04,  2.8341e-02,  1.1323e-01,\n",
      "         9.4279e-02, -2.5372e-02,  1.5104e-02, -1.8188e-02,  8.0694e-03,\n",
      "         6.9255e-02,  2.3499e-02,  8.2865e-02, -5.5450e-02, -7.7555e-02,\n",
      "         1.3374e-01,  5.9163e-02,  8.2703e-03,  5.4759e-02, -4.5832e-02,\n",
      "        -7.0007e-02, -1.0376e-03,  1.0305e-02,  3.2745e-02, -6.3059e-02,\n",
      "        -3.9492e-02,  7.9468e-02,  4.9403e-02,  9.3628e-02,  2.4343e-02,\n",
      "        -7.9854e-02,  1.9187e-01, -4.1669e-02, -3.0492e-02,  9.8073e-02,\n",
      "        -2.8219e-02,  2.6901e-02,  5.0496e-02, -1.2686e-01, -5.7994e-02,\n",
      "         1.6073e-02,  1.8461e-01, -3.3346e-02, -1.4592e-02, -2.1088e-02,\n",
      "        -1.0854e-01, -6.5120e-03,  6.4926e-03, -8.4661e-03, -1.4476e-02,\n",
      "         6.2724e-02,  2.4798e-02,  1.0265e-01,  8.1502e-02,  1.0743e-01,\n",
      "         7.5928e-02,  1.2925e-01, -8.8765e-02, -6.5104e-04, -1.0211e-02,\n",
      "         6.1381e-02, -8.9274e-02,  7.7779e-02,  5.1880e-03, -9.9650e-02,\n",
      "        -1.0678e-01, -9.1227e-02, -4.6478e-02, -5.5084e-02,  1.1825e-01,\n",
      "         3.7443e-02, -1.8308e-02,  6.1117e-02, -1.8962e-02, -4.6733e-02,\n",
      "        -8.3415e-03,  9.1604e-02, -2.7588e-02,  3.2895e-02, -2.3916e-02,\n",
      "         7.1513e-02,  4.4840e-02,  2.5726e-02, -9.9726e-02,  3.2908e-02,\n",
      "        -4.3472e-02,  7.7535e-02,  1.6398e-01,  3.0924e-03,  8.7809e-02,\n",
      "        -7.0475e-02, -7.8163e-03,  1.4353e-02, -3.9836e-02, -5.7892e-02,\n",
      "         1.2868e-02, -3.7135e-02, -9.1591e-02,  7.3232e-02,  4.8614e-02,\n",
      "         2.9388e-02,  2.4862e-02, -1.1796e-01,  1.4832e-02,  8.2418e-02,\n",
      "         6.8822e-02, -2.8066e-02,  2.2400e-02, -1.2018e-01, -4.7490e-02,\n",
      "         1.0734e-01, -7.1889e-02,  1.4422e-01,  1.1561e-01, -1.1530e-01,\n",
      "         5.2826e-02,  6.3538e-02,  8.3537e-02,  6.3629e-02,  1.0541e-01,\n",
      "        -3.6318e-02,  2.5024e-03,  9.2875e-02, -9.7074e-02,  5.6661e-03,\n",
      "        -5.4057e-02, -5.8818e-02,  7.7983e-02,  1.3126e-02,  1.2919e-01,\n",
      "         1.2657e-01, -7.0196e-02,  2.3431e-02, -1.7739e-01,  6.7897e-02,\n",
      "        -6.2236e-02, -4.8465e-02,  1.2988e-01, -4.1382e-02,  1.6089e-01,\n",
      "        -1.5401e-01, -8.8458e-02, -3.7160e-02, -1.1688e-01, -4.9011e-02,\n",
      "        -2.6622e-02, -1.1396e-02, -7.3781e-02,  1.1371e-01, -6.1625e-02,\n",
      "         2.5452e-02, -7.0674e-02,  6.4117e-02, -5.7699e-02,  6.3029e-02,\n",
      "         5.8594e-03,  5.3019e-02, -2.1208e-01, -1.5299e-02, -5.2394e-02,\n",
      "        -1.5849e-01, -1.0909e-01, -6.5898e-02,  9.0739e-02,  7.1055e-02]), tensor(2))\n"
     ]
    }
   ],
   "source": [
    "print(train_ds.__getitem__(0))"
   ]
  },
  {
   "cell_type": "code",
   "execution_count": 140,
   "metadata": {},
   "outputs": [],
   "source": [
    "train_dataloader = data.DataLoader(train_ds, batch_size=64, shuffle=True)\n",
    "valid_dataloader = data.DataLoader(valid_ds, batch_size=len(valid_ds), shuffle=True)\n",
    "test_dataloader = data.DataLoader(test_ds, batch_size=len(test_ds), shuffle=True)"
   ]
  },
  {
   "cell_type": "code",
   "execution_count": 141,
   "metadata": {},
   "outputs": [],
   "source": [
    "dataloader = {'train': train_dataloader,\n",
    "              'val': valid_dataloader,\n",
    "              'test': test_dataloader}"
   ]
  },
  {
   "cell_type": "code",
   "execution_count": 147,
   "metadata": {},
   "outputs": [],
   "source": [
    "from tqdm import tqdm\n",
    "\n",
    "model = SP()"
   ]
  },
  {
   "cell_type": "code",
   "execution_count": 143,
   "metadata": {},
   "outputs": [],
   "source": [
    "def train(model, dataloader, num_epochs):\n",
    "    # 損失関数の定義\n",
    "    criterion = nn.CrossEntropyLoss()\n",
    "    # 最適化手法の定義\n",
    "    optimizer = torch.optim.SGD(model.parameters(), lr=0.01)\n",
    "    for epoch in range(num_epochs):\n",
    "        print(f'Epoch {epoch+1} / {num_epochs}')\n",
    "        print('-'*50)\n",
    "        \n",
    "        for phase in ['train', 'val']:\n",
    "            if phase == 'train':\n",
    "                model.train()\n",
    "            else:\n",
    "                model.eval()\n",
    "            \n",
    "            epoch_loss = 0.0\n",
    "            epoch_corrects = 0\n",
    "            \n",
    "            for inputs, labels in tqdm(dataloader[phase]):\n",
    "                optimizer.zero_grad()\n",
    "                # forward\n",
    "                with torch.set_grad_enabled(phase == 'train'):\n",
    "                    outputs = model(inputs)\n",
    "                    loss = criterion(outputs, labels) \n",
    "                    _, preds = torch.max(outputs, 1) \n",
    "                    # backward\n",
    "                    if phase == 'train':\n",
    "                        loss.backward()\n",
    "                        optimizer.step()\n",
    "                    epoch_loss += loss.item() * inputs.size(0)\n",
    "                    epoch_corrects += torch.sum(preds == labels.data)\n",
    "            # epochごとのlossと正解率の表示\n",
    "            epoch_loss = epoch_loss / len(dataloader[phase].dataset)\n",
    "            epoch_acc = epoch_corrects.double() / len(dataloader[phase].dataset)\n",
    "            \n",
    "            print('{} Loss: {:.4f}, Acc: {:.4f}'.format(phase, epoch_loss, epoch_acc))"
   ]
  },
  {
   "cell_type": "code",
   "execution_count": 148,
   "metadata": {},
   "outputs": [
    {
     "name": "stdout",
     "output_type": "stream",
     "text": [
      "Epoch 1 / 10\n",
      "--------------------------------------------------\n"
     ]
    },
    {
     "name": "stderr",
     "output_type": "stream",
     "text": [
      "100%|██████████| 167/167 [00:00<00:00, 1115.79it/s]\n"
     ]
    },
    {
     "name": "stdout",
     "output_type": "stream",
     "text": [
      "train Loss: 1.2727, Acc: 0.6088\n"
     ]
    },
    {
     "name": "stderr",
     "output_type": "stream",
     "text": [
      "100%|██████████| 1/1 [00:00<00:00, 122.31it/s]\n"
     ]
    },
    {
     "name": "stdout",
     "output_type": "stream",
     "text": [
      "val Loss: 1.1879, Acc: 0.6957\n",
      "Epoch 2 / 10\n",
      "--------------------------------------------------\n"
     ]
    },
    {
     "name": "stderr",
     "output_type": "stream",
     "text": [
      "100%|██████████| 167/167 [00:00<00:00, 1018.49it/s]\n"
     ]
    },
    {
     "name": "stdout",
     "output_type": "stream",
     "text": [
      "train Loss: 1.1392, Acc: 0.7191\n"
     ]
    },
    {
     "name": "stderr",
     "output_type": "stream",
     "text": [
      "100%|██████████| 1/1 [00:00<00:00, 98.23it/s]\n"
     ]
    },
    {
     "name": "stdout",
     "output_type": "stream",
     "text": [
      "val Loss: 1.1032, Acc: 0.7376\n",
      "Epoch 3 / 10\n",
      "--------------------------------------------------\n"
     ]
    },
    {
     "name": "stderr",
     "output_type": "stream",
     "text": [
      "100%|██████████| 167/167 [00:00<00:00, 997.00it/s] \n"
     ]
    },
    {
     "name": "stdout",
     "output_type": "stream",
     "text": [
      "train Loss: 1.0741, Acc: 0.7451\n"
     ]
    },
    {
     "name": "stderr",
     "output_type": "stream",
     "text": [
      "100%|██████████| 1/1 [00:00<00:00, 114.43it/s]\n"
     ]
    },
    {
     "name": "stdout",
     "output_type": "stream",
     "text": [
      "val Loss: 1.0540, Acc: 0.7504\n",
      "Epoch 4 / 10\n",
      "--------------------------------------------------\n"
     ]
    },
    {
     "name": "stderr",
     "output_type": "stream",
     "text": [
      "100%|██████████| 167/167 [00:00<00:00, 1010.50it/s]\n"
     ]
    },
    {
     "name": "stdout",
     "output_type": "stream",
     "text": [
      "train Loss: 1.0318, Acc: 0.7539\n"
     ]
    },
    {
     "name": "stderr",
     "output_type": "stream",
     "text": [
      "100%|██████████| 1/1 [00:00<00:00, 118.72it/s]\n"
     ]
    },
    {
     "name": "stdout",
     "output_type": "stream",
     "text": [
      "val Loss: 1.0187, Acc: 0.7519\n",
      "Epoch 5 / 10\n",
      "--------------------------------------------------\n"
     ]
    },
    {
     "name": "stderr",
     "output_type": "stream",
     "text": [
      "100%|██████████| 167/167 [00:00<00:00, 1107.90it/s]\n"
     ]
    },
    {
     "name": "stdout",
     "output_type": "stream",
     "text": [
      "train Loss: 0.9995, Acc: 0.7570\n"
     ]
    },
    {
     "name": "stderr",
     "output_type": "stream",
     "text": [
      "100%|██████████| 1/1 [00:00<00:00, 131.89it/s]\n"
     ]
    },
    {
     "name": "stdout",
     "output_type": "stream",
     "text": [
      "val Loss: 0.9902, Acc: 0.7534\n",
      "Epoch 6 / 10\n",
      "--------------------------------------------------\n"
     ]
    },
    {
     "name": "stderr",
     "output_type": "stream",
     "text": [
      "100%|██████████| 167/167 [00:00<00:00, 1100.18it/s]\n"
     ]
    },
    {
     "name": "stdout",
     "output_type": "stream",
     "text": [
      "train Loss: 0.9726, Acc: 0.7594\n"
     ]
    },
    {
     "name": "stderr",
     "output_type": "stream",
     "text": [
      "100%|██████████| 1/1 [00:00<00:00, 130.13it/s]\n"
     ]
    },
    {
     "name": "stdout",
     "output_type": "stream",
     "text": [
      "val Loss: 0.9658, Acc: 0.7564\n",
      "Epoch 7 / 10\n",
      "--------------------------------------------------\n"
     ]
    },
    {
     "name": "stderr",
     "output_type": "stream",
     "text": [
      "100%|██████████| 167/167 [00:00<00:00, 1105.80it/s]\n"
     ]
    },
    {
     "name": "stdout",
     "output_type": "stream",
     "text": [
      "train Loss: 0.9493, Acc: 0.7607\n"
     ]
    },
    {
     "name": "stderr",
     "output_type": "stream",
     "text": [
      "100%|██████████| 1/1 [00:00<00:00, 134.77it/s]\n"
     ]
    },
    {
     "name": "stdout",
     "output_type": "stream",
     "text": [
      "val Loss: 0.9444, Acc: 0.7624\n",
      "Epoch 8 / 10\n",
      "--------------------------------------------------\n"
     ]
    },
    {
     "name": "stderr",
     "output_type": "stream",
     "text": [
      "100%|██████████| 167/167 [00:00<00:00, 1100.35it/s]\n"
     ]
    },
    {
     "name": "stdout",
     "output_type": "stream",
     "text": [
      "train Loss: 0.9285, Acc: 0.7608\n"
     ]
    },
    {
     "name": "stderr",
     "output_type": "stream",
     "text": [
      "100%|██████████| 1/1 [00:00<00:00, 124.38it/s]\n"
     ]
    },
    {
     "name": "stdout",
     "output_type": "stream",
     "text": [
      "val Loss: 0.9252, Acc: 0.7639\n",
      "Epoch 9 / 10\n",
      "--------------------------------------------------\n"
     ]
    },
    {
     "name": "stderr",
     "output_type": "stream",
     "text": [
      "100%|██████████| 167/167 [00:00<00:00, 1110.21it/s]\n"
     ]
    },
    {
     "name": "stdout",
     "output_type": "stream",
     "text": [
      "train Loss: 0.9098, Acc: 0.7618\n"
     ]
    },
    {
     "name": "stderr",
     "output_type": "stream",
     "text": [
      "100%|██████████| 1/1 [00:00<00:00, 123.61it/s]\n"
     ]
    },
    {
     "name": "stdout",
     "output_type": "stream",
     "text": [
      "val Loss: 0.9078, Acc: 0.7654\n",
      "Epoch 10 / 10\n",
      "--------------------------------------------------\n"
     ]
    },
    {
     "name": "stderr",
     "output_type": "stream",
     "text": [
      "100%|██████████| 167/167 [00:00<00:00, 1090.41it/s]\n"
     ]
    },
    {
     "name": "stdout",
     "output_type": "stream",
     "text": [
      "train Loss: 0.8928, Acc: 0.7626\n"
     ]
    },
    {
     "name": "stderr",
     "output_type": "stream",
     "text": [
      "100%|██████████| 1/1 [00:00<00:00, 123.58it/s]"
     ]
    },
    {
     "name": "stdout",
     "output_type": "stream",
     "text": [
      "val Loss: 0.8918, Acc: 0.7661\n"
     ]
    },
    {
     "name": "stderr",
     "output_type": "stream",
     "text": [
      "\n"
     ]
    }
   ],
   "source": [
    "train(model, dataloader, 10)"
   ]
  },
  {
   "attachments": {},
   "cell_type": "markdown",
   "metadata": {},
   "source": [
    "# 74. 正解率の計測"
   ]
  },
  {
   "cell_type": "code",
   "execution_count": 149,
   "metadata": {},
   "outputs": [],
   "source": [
    "def calc_acc(model, dataloader):\n",
    "    model.eval()\n",
    "    corrects = 0\n",
    "    with torch.no_grad():\n",
    "        for inputs, labels in dataloader:\n",
    "            outputs = model(inputs)\n",
    "            _, preds = torch.max(outputs, 1) # ラベルを予想\n",
    "            corrects += torch.sum(preds == labels.data)\n",
    "    return corrects / len(dataloader.dataset)"
   ]
  },
  {
   "cell_type": "code",
   "execution_count": 152,
   "metadata": {},
   "outputs": [],
   "source": [
    "acc_train = calc_acc(model, dataloader['train'])\n",
    "acc_valid = calc_acc(model, dataloader['val'])\n",
    "acc_test = calc_acc(model, dataloader['test'])"
   ]
  },
  {
   "cell_type": "code",
   "execution_count": 155,
   "metadata": {},
   "outputs": [
    {
     "name": "stdout",
     "output_type": "stream",
     "text": [
      "train acuracy: 0.761712908744812\n",
      "valid acuracy: 0.7661169171333313\n",
      "test acuracy: 0.7533733248710632\n"
     ]
    }
   ],
   "source": [
    "print(f'train acuracy: {acc_train}')\n",
    "print(f'valid acuracy: {acc_valid}')\n",
    "print(f'test acuracy: {acc_test}')"
   ]
  },
  {
   "cell_type": "code",
   "execution_count": null,
   "metadata": {},
   "outputs": [],
   "source": []
  }
 ],
 "metadata": {
  "kernelspec": {
   "display_name": "llm",
   "language": "python",
   "name": "python3"
  },
  "language_info": {
   "codemirror_mode": {
    "name": "ipython",
    "version": 3
   },
   "file_extension": ".py",
   "mimetype": "text/x-python",
   "name": "python",
   "nbconvert_exporter": "python",
   "pygments_lexer": "ipython3",
   "version": "3.10.11"
  },
  "orig_nbformat": 4
 },
 "nbformat": 4,
 "nbformat_minor": 2
}

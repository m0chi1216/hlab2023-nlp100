{
 "cells": [
  {
   "attachments": {},
   "cell_type": "markdown",
   "metadata": {},
   "source": [
    "# 70. 単語ベクトルの和による特徴量"
   ]
  },
  {
   "cell_type": "code",
   "execution_count": 6,
   "metadata": {},
   "outputs": [],
   "source": [
    "import torch\n",
    "import pandas as pd\n",
    "import string\n",
    "import re"
   ]
  },
  {
   "cell_type": "code",
   "execution_count": 34,
   "metadata": {},
   "outputs": [],
   "source": [
    "df_train = pd.read_csv('./../6/data/train.txt', sep='\\t')\n",
    "df_valid = pd.read_csv('./../6/data/valid.txt', sep='\\t')\n",
    "df_test = pd.read_csv('./../6/data/test.txt', sep='\\t')"
   ]
  },
  {
   "cell_type": "code",
   "execution_count": 35,
   "metadata": {},
   "outputs": [
    {
     "name": "stdout",
     "output_type": "stream",
     "text": [
      "     CATEGORY                                              TITLE\n",
      "0           t  UPDATE 1-US eyes bankruptcy link in GM ignitio...\n",
      "1           e  17 Times Zach Braff's 'Wish I Was Here' Refere...\n",
      "2           e  Orlando Bloom - Orlando Bloom wants to inspire...\n",
      "3           b  Factbox: Energy Future Holdings and largest de...\n",
      "4           b  UPDATE 10-Oil steadies after big drop on easin...\n",
      "...       ...                                                ...\n",
      "1329        t  To snap a thief: App takes 'theftie' photos an...\n",
      "1330        e  Macaulay Culkin's The Pizza Underground Booed ...\n",
      "1331        b  Treasury Volatility Drops on Yellen Low-Rates ...\n",
      "1332        b  Shell Profit Falls 3 Percent on Lower Producti...\n",
      "1333        e  Peter Mayhew - Peter Mayhew returning to Star ...\n",
      "\n",
      "[1334 rows x 2 columns]\n"
     ]
    }
   ],
   "source": [
    "print(df_test)"
   ]
  },
  {
   "cell_type": "code",
   "execution_count": 4,
   "metadata": {},
   "outputs": [],
   "source": [
    "def preprocessing_text(text):\n",
    "    for p in string.punctuation:\n",
    "        text = text.replace(p, \" \") \n",
    "    text = text.lower()\n",
    "    text = re.sub('[0-9]+', '0', text)\n",
    "    return text"
   ]
  },
  {
   "cell_type": "code",
   "execution_count": 36,
   "metadata": {},
   "outputs": [],
   "source": [
    "df_train['TITLE'] = df_train['TITLE'].map(preprocessing_text)\n",
    "df_valid['TITLE'] = df_valid['TITLE'].map(preprocessing_text)\n",
    "df_test['TITLE'] = df_test['TITLE'].map(preprocessing_text)"
   ]
  },
  {
   "cell_type": "code",
   "execution_count": 37,
   "metadata": {},
   "outputs": [
    {
     "name": "stdout",
     "output_type": "stream",
     "text": [
      "     CATEGORY                                              TITLE\n",
      "0           t  update 0 us eyes bankruptcy link in gm ignitio...\n",
      "1           e  0 times zach braff s  wish i was here  referen...\n",
      "2           e  orlando bloom   orlando bloom wants to inspire...\n",
      "3           b  factbox  energy future holdings and largest de...\n",
      "4           b  update 0 oil steadies after big drop on easing...\n",
      "...       ...                                                ...\n",
      "1329        t  to snap a thief  app takes  theftie  photos an...\n",
      "1330        e  macaulay culkin s the pizza underground booed ...\n",
      "1331        b  treasury volatility drops on yellen low rates ...\n",
      "1332        b  shell profit falls 0 percent on lower producti...\n",
      "1333        e  peter mayhew   peter mayhew returning to star ...\n",
      "\n",
      "[1334 rows x 2 columns]\n"
     ]
    }
   ],
   "source": [
    "print(df_test)"
   ]
  },
  {
   "cell_type": "code",
   "execution_count": 8,
   "metadata": {},
   "outputs": [],
   "source": [
    "from gensim.models import KeyedVectors\n",
    "model = KeyedVectors.load_word2vec_format('GoogleNews-vectors-negative300.bin.gz', binary=True)"
   ]
  },
  {
   "cell_type": "code",
   "execution_count": 30,
   "metadata": {},
   "outputs": [],
   "source": [
    "def sentence2vec(sentence):\n",
    "    words = sentence.split()\n",
    "    vec = []\n",
    "    for word in words:\n",
    "        if word in model.key_to_index:\n",
    "            vec.append(model[word])\n",
    "    return torch.tensor(sum(vec)/len(vec))"
   ]
  },
  {
   "cell_type": "code",
   "execution_count": 40,
   "metadata": {},
   "outputs": [
    {
     "name": "stdout",
     "output_type": "stream",
     "text": [
      "tensor([-0.0064,  0.1666,  0.0461,  0.0635, -0.0651, -0.0059,  0.1076, -0.0627,\n",
      "        -0.0975,  0.0043, -0.0691, -0.1365, -0.0534,  0.0007, -0.0624,  0.1193,\n",
      "         0.0442,  0.1467,  0.1217, -0.1173, -0.1886,  0.0437,  0.1072,  0.0053,\n",
      "        -0.1796, -0.0396, -0.1024,  0.0732,  0.0245, -0.0174, -0.0630,  0.0473,\n",
      "        -0.2296, -0.0962, -0.1084, -0.0104,  0.0239, -0.0671,  0.0096,  0.0771,\n",
      "         0.1613, -0.1780,  0.1324, -0.0715, -0.0157, -0.2377, -0.0110, -0.1320,\n",
      "        -0.0738,  0.0753, -0.0649,  0.0859,  0.1310,  0.1611,  0.1163,  0.0762,\n",
      "        -0.0607, -0.0691, -0.0372,  0.0264,  0.1182, -0.0639, -0.0516, -0.0295,\n",
      "        -0.1074, -0.0647, -0.0289,  0.0035,  0.0780,  0.0920,  0.1152,  0.0538,\n",
      "        -0.0842,  0.0648, -0.1462,  0.0180,  0.0691, -0.0541, -0.0080,  0.1553,\n",
      "        -0.0535,  0.0303, -0.0819, -0.1530, -0.0576,  0.1530, -0.0348,  0.0070,\n",
      "        -0.0972,  0.0549,  0.0286, -0.0829, -0.1797, -0.2237, -0.0668, -0.0294,\n",
      "         0.0943,  0.0873,  0.0802, -0.0574, -0.1852,  0.0316,  0.1636, -0.0302,\n",
      "        -0.1060, -0.0248, -0.1045, -0.0209, -0.0779, -0.0780, -0.1567, -0.1110,\n",
      "        -0.0046, -0.1114,  0.0859, -0.2010, -0.1202, -0.0797,  0.0641,  0.0789,\n",
      "         0.0157,  0.0459,  0.0507, -0.0373,  0.1580, -0.0551, -0.0328,  0.0985,\n",
      "        -0.0116,  0.0457, -0.0675, -0.0818,  0.1107, -0.0541,  0.0234, -0.0082,\n",
      "        -0.0527,  0.0089,  0.0488,  0.0347,  0.0135, -0.1874, -0.0652, -0.0315,\n",
      "         0.1307,  0.0662,  0.0023, -0.0254, -0.0734, -0.1256,  0.2466, -0.0034,\n",
      "        -0.0917,  0.0919, -0.0925, -0.0784,  0.0942, -0.1268,  0.0269, -0.0193,\n",
      "         0.1204,  0.1317, -0.0322, -0.0581,  0.1007, -0.1548,  0.0677, -0.0901,\n",
      "        -0.1146,  0.1221, -0.1010,  0.0429, -0.0816, -0.0587, -0.0609,  0.1097,\n",
      "         0.1019, -0.0551,  0.0256,  0.0142, -0.1929, -0.0420,  0.0715,  0.0204,\n",
      "        -0.1469, -0.0587, -0.0489, -0.0117,  0.0460,  0.0373,  0.0343,  0.0677,\n",
      "        -0.0757,  0.0696,  0.0944,  0.1123, -0.0836,  0.0943, -0.0799, -0.0776,\n",
      "        -0.0827, -0.0550,  0.0013, -0.0670, -0.0909, -0.0846,  0.0893, -0.0194,\n",
      "        -0.0191,  0.0087, -0.0654,  0.1155, -0.0895, -0.0064, -0.1484,  0.0737,\n",
      "         0.1061, -0.0303,  0.0874,  0.0585,  0.0725, -0.0762,  0.0214,  0.0682,\n",
      "         0.0428,  0.0050, -0.1128,  0.0238, -0.0529, -0.0255, -0.0947, -0.1176,\n",
      "        -0.0583,  0.0639,  0.0627,  0.1071, -0.0615, -0.1600,  0.2095,  0.0779,\n",
      "         0.0045,  0.0541, -0.0893, -0.0577, -0.1262,  0.1963, -0.0653,  0.0957,\n",
      "         0.0875, -0.1182, -0.0027,  0.0540,  0.1460,  0.0643,  0.1719, -0.0827,\n",
      "         0.0367, -0.0033, -0.2261,  0.0039, -0.0080, -0.0147, -0.0190,  0.0090,\n",
      "         0.1628,  0.0382, -0.0764, -0.0383, -0.0628, -0.1030, -0.0470,  0.0984,\n",
      "         0.0473,  0.0964,  0.0114, -0.1061, -0.1200,  0.0396, -0.1168,  0.0004,\n",
      "        -0.0479,  0.0007,  0.1033,  0.0315,  0.1101, -0.0211, -0.0150,  0.0734,\n",
      "         0.0035,  0.0981, -0.0166,  0.0648, -0.0562, -0.1275,  0.0123, -0.0668,\n",
      "        -0.1154, -0.1147,  0.1040,  0.1096])\n",
      "torch.Size([300])\n"
     ]
    }
   ],
   "source": [
    "print(sentence2vec(df_test.loc[2]['TITLE']))\n",
    "print(sentence2vec(df_test.loc[2]['TITLE']).shape)"
   ]
  },
  {
   "cell_type": "code",
   "execution_count": 41,
   "metadata": {},
   "outputs": [],
   "source": [
    "X_train = torch.stack([sentence2vec(title) for title in df_train['TITLE']])\n",
    "X_valid = torch.stack([sentence2vec(title) for title in df_valid['TITLE']])\n",
    "X_test = torch.stack([sentence2vec(title) for title in df_test['TITLE']])"
   ]
  },
  {
   "cell_type": "code",
   "execution_count": 42,
   "metadata": {},
   "outputs": [
    {
     "data": {
      "text/plain": [
       "torch.Size([10672, 300])"
      ]
     },
     "execution_count": 42,
     "metadata": {},
     "output_type": "execute_result"
    }
   ],
   "source": [
    "X_train.shape"
   ]
  },
  {
   "cell_type": "code",
   "execution_count": 43,
   "metadata": {},
   "outputs": [],
   "source": [
    "category_label = {'b': 0, 't': 1, 'e':2, 'm':3}"
   ]
  },
  {
   "cell_type": "code",
   "execution_count": 54,
   "metadata": {},
   "outputs": [],
   "source": [
    "y_train = torch.tensor(df_train['CATEGORY'].map(lambda x: category_label[x]))\n",
    "y_valid = torch.tensor(df_valid['CATEGORY'].map(lambda x: category_label[x]))\n",
    "y_test = torch.tensor(df_test['CATEGORY'].map(lambda x: category_label[x]))"
   ]
  },
  {
   "cell_type": "code",
   "execution_count": 56,
   "metadata": {},
   "outputs": [
    {
     "name": "stdout",
     "output_type": "stream",
     "text": [
      "torch.Size([10672])\n"
     ]
    }
   ],
   "source": [
    "print(y_train.shape)"
   ]
  },
  {
   "cell_type": "code",
   "execution_count": 57,
   "metadata": {},
   "outputs": [],
   "source": [
    "torch.save(X_train, './data/X_train.pt')\n",
    "torch.save(X_valid, './data/X_valid.pt')\n",
    "torch.save(X_test,  './data/X_test.pt')\n",
    "torch.save(y_train, './data/y_train.pt')\n",
    "torch.save(y_valid, './data/y_valid.pt')\n",
    "torch.save(y_test,  './data/y_test.pt')"
   ]
  },
  {
   "attachments": {},
   "cell_type": "markdown",
   "metadata": {},
   "source": [
    "# 71. 単層ニューラルネットワークによる予測"
   ]
  },
  {
   "cell_type": "code",
   "execution_count": 5,
   "metadata": {},
   "outputs": [
    {
     "name": "stderr",
     "output_type": "stream",
     "text": [
      "/home/z44716r/miniconda3/envs/nlp100/lib/python3.10/site-packages/tqdm/auto.py:21: TqdmWarning: IProgress not found. Please update jupyter and ipywidgets. See https://ipywidgets.readthedocs.io/en/stable/user_install.html\n",
      "  from .autonotebook import tqdm as notebook_tqdm\n"
     ]
    }
   ],
   "source": [
    "from torch import nn"
   ]
  },
  {
   "cell_type": "code",
   "execution_count": 7,
   "metadata": {},
   "outputs": [],
   "source": [
    "X_train = torch.load('./data/X_train.pt')\n",
    "X_valid = torch.load('./data/X_valid.pt')\n",
    "X_test = torch.load('./data/X_test.pt')\n",
    "y_train = torch.load('./data/y_train.pt')\n",
    "y_valid = torch.load('./data/y_valid.pt')\n",
    "y_test = torch.load('./data/y_test.pt')"
   ]
  },
  {
   "cell_type": "code",
   "execution_count": 8,
   "metadata": {},
   "outputs": [],
   "source": [
    "class SP(nn.Module):\n",
    "    def __init__(self):\n",
    "        super().__init__()\n",
    "        self.l = nn.Linear(300,4)\n",
    "    def forward(self, x):\n",
    "        x = self.l(x)\n",
    "        return x"
   ]
  },
  {
   "cell_type": "code",
   "execution_count": 14,
   "metadata": {},
   "outputs": [],
   "source": [
    "model = SP()"
   ]
  },
  {
   "cell_type": "code",
   "execution_count": 92,
   "metadata": {},
   "outputs": [
    {
     "name": "stdout",
     "output_type": "stream",
     "text": [
      "SP(\n",
      "  (l): Linear(in_features=300, out_features=4, bias=True)\n",
      ")\n"
     ]
    }
   ],
   "source": [
    "print(model)"
   ]
  },
  {
   "cell_type": "code",
   "execution_count": 15,
   "metadata": {},
   "outputs": [
    {
     "name": "stdout",
     "output_type": "stream",
     "text": [
      "tensor([ 0.0998,  0.0783,  0.0521, -0.0865], grad_fn=<AddBackward0>)\n",
      "tensor([0.2658, 0.2601, 0.2534, 0.2206], grad_fn=<SoftmaxBackward0>)\n"
     ]
    }
   ],
   "source": [
    "logits = model.forward(X_train[0])\n",
    "y_1 =  torch.softmax(logits, dim=-1)\n",
    "print(logits)\n",
    "print(y_1)\n",
    "y_14 = torch.softmax(model.forward(X_train[:4]), dim=-1)"
   ]
  },
  {
   "cell_type": "code",
   "execution_count": 94,
   "metadata": {},
   "outputs": [
    {
     "data": {
      "text/plain": [
       "tensor([[0.2568, 0.2517, 0.2629, 0.2286],\n",
       "        [0.2453, 0.2469, 0.2574, 0.2505],\n",
       "        [0.2574, 0.2567, 0.2483, 0.2376],\n",
       "        [0.2530, 0.2501, 0.2550, 0.2419]], grad_fn=<SoftmaxBackward0>)"
      ]
     },
     "execution_count": 94,
     "metadata": {},
     "output_type": "execute_result"
    }
   ],
   "source": [
    "y_14"
   ]
  },
  {
   "attachments": {},
   "cell_type": "markdown",
   "metadata": {},
   "source": [
    "# 72. 損失と勾配の計算"
   ]
  },
  {
   "cell_type": "code",
   "execution_count": 20,
   "metadata": {},
   "outputs": [],
   "source": [
    "criterion = nn.CrossEntropyLoss()"
   ]
  },
  {
   "cell_type": "code",
   "execution_count": 21,
   "metadata": {},
   "outputs": [],
   "source": [
    "logits = model(X_train[0])\n",
    "loss = criterion(logits, y_train[0])"
   ]
  },
  {
   "cell_type": "code",
   "execution_count": 22,
   "metadata": {},
   "outputs": [
    {
     "name": "stdout",
     "output_type": "stream",
     "text": [
      "損失: 1.3726996183395386\n"
     ]
    }
   ],
   "source": [
    "print(f'損失: {loss}')"
   ]
  },
  {
   "cell_type": "code",
   "execution_count": 23,
   "metadata": {},
   "outputs": [
    {
     "name": "stdout",
     "output_type": "stream",
     "text": [
      "初期化勾配：tensor([[0., 0., 0.,  ..., 0., 0., 0.],\n",
      "        [0., 0., 0.,  ..., 0., 0., 0.],\n",
      "        [0., 0., 0.,  ..., 0., 0., 0.],\n",
      "        [0., 0., 0.,  ..., 0., 0., 0.]])\n",
      "更新後勾配：tensor([[-0.0195, -0.0019,  0.0177,  ..., -0.0175,  0.0241,  0.0189],\n",
      "        [-0.0191, -0.0018,  0.0174,  ..., -0.0171,  0.0236,  0.0185],\n",
      "        [ 0.0547,  0.0053, -0.0498,  ...,  0.0492, -0.0677, -0.0530],\n",
      "        [-0.0162, -0.0016,  0.0147,  ..., -0.0145,  0.0200,  0.0157]])\n"
     ]
    }
   ],
   "source": [
    "model.zero_grad()\n",
    "print(f'初期化勾配：{model.l.weight.grad}')\n",
    "loss.backward()\n",
    "print(f'更新後勾配：{model.l.weight.grad}')"
   ]
  },
  {
   "attachments": {},
   "cell_type": "markdown",
   "metadata": {},
   "source": [
    "# 73. 確率的勾配降下法による学習"
   ]
  },
  {
   "cell_type": "code",
   "execution_count": 10,
   "metadata": {},
   "outputs": [],
   "source": [
    "import torch.utils.data as data"
   ]
  },
  {
   "cell_type": "code",
   "execution_count": 13,
   "metadata": {},
   "outputs": [],
   "source": [
    "class NewsDataset(data.Dataset):\n",
    "    def __init__(self, X, y, phase='train'):\n",
    "        self.X = X\n",
    "        self.y = y\n",
    "        self.phase = phase\n",
    "    \n",
    "    def __len__(self):\n",
    "        return len(self.y)\n",
    "\n",
    "    def __getitem__(self, idx):\n",
    "        return self.X[idx], self.y[idx]"
   ]
  },
  {
   "cell_type": "code",
   "execution_count": 14,
   "metadata": {},
   "outputs": [],
   "source": [
    "train_ds = NewsDataset(X_train, y_train, phase='train')\n",
    "valid_ds = NewsDataset(X_valid, y_valid, phase='val')\n",
    "test_ds = NewsDataset(X_test, y_test, phase='val')"
   ]
  },
  {
   "cell_type": "code",
   "execution_count": 123,
   "metadata": {},
   "outputs": [
    {
     "name": "stdout",
     "output_type": "stream",
     "text": [
      "(tensor([-7.3273e-02, -7.0496e-03,  6.6753e-02,  6.8593e-02,  8.5124e-02,\n",
      "        -7.9244e-02, -3.2888e-02, -2.3075e-01,  9.4126e-02,  6.0750e-02,\n",
      "         2.7913e-02, -8.7077e-02,  3.9673e-04,  3.7638e-03,  1.7118e-02,\n",
      "        -2.7059e-03,  9.9487e-03,  1.0543e-01,  1.3762e-02, -1.6479e-02,\n",
      "        -4.8584e-02,  4.0927e-02,  6.1971e-02, -2.4729e-02,  6.2948e-02,\n",
      "        -1.0811e-01, -2.1730e-02,  6.1198e-02,  1.0673e-01, -1.7207e-02,\n",
      "         5.8484e-02,  3.3276e-02, -7.4178e-02,  3.8737e-02, -8.0037e-02,\n",
      "         7.7947e-02,  1.9435e-02,  9.6232e-03,  3.3539e-02,  8.5426e-02,\n",
      "        -2.1596e-02, -1.3161e-01,  1.3269e-01,  4.5644e-02,  1.0569e-01,\n",
      "         6.9936e-05, -2.6754e-02, -3.2705e-02, -3.0909e-02,  6.8665e-02,\n",
      "         9.3282e-03,  9.4467e-02,  8.2347e-02,  3.9958e-02,  4.2124e-02,\n",
      "         6.1462e-02, -1.2727e-01, -3.9810e-02, -9.5774e-03, -1.0060e-01,\n",
      "         5.3304e-02,  7.2286e-02,  1.9762e-02, -1.2910e-01,  2.4913e-02,\n",
      "        -6.4936e-02, -3.1235e-02, -1.1332e-02,  2.6316e-02,  1.0170e-01,\n",
      "         9.8592e-02, -4.0131e-02, -4.3981e-02,  8.6243e-02, -9.0149e-02,\n",
      "         5.5074e-02,  2.9966e-02, -3.5044e-02,  9.8979e-02,  1.3923e-01,\n",
      "         3.0396e-02, -6.6030e-02,  1.7904e-03, -6.9438e-02, -4.9072e-02,\n",
      "         3.7003e-02, -6.9784e-02,  7.0786e-02,  3.2445e-02,  3.2847e-02,\n",
      "        -6.0969e-02, -2.7262e-02, -9.8755e-02, -1.0543e-01, -1.3259e-01,\n",
      "         5.2287e-03,  3.3819e-02,  3.6357e-02,  9.0413e-02,  6.7546e-03,\n",
      "        -7.7311e-04, -5.7353e-02,  7.1490e-02, -5.6168e-02, -4.0568e-02,\n",
      "        -1.3550e-02,  5.5135e-03,  7.9959e-02,  3.2104e-02,  4.0487e-03,\n",
      "        -3.2674e-02, -3.7496e-02,  3.0080e-02, -5.6562e-02,  3.0640e-02,\n",
      "         1.4862e-02,  1.9430e-02, -1.1398e-01,  7.1228e-02,  3.5673e-02,\n",
      "         3.2328e-02,  4.1168e-02, -3.9792e-02,  6.3904e-02,  3.5996e-02,\n",
      "        -7.8939e-03,  1.4272e-02, -4.9194e-02,  1.4610e-02, -1.4317e-02,\n",
      "        -9.7778e-02, -6.5409e-02,  4.9553e-03,  3.8115e-02, -1.2544e-01,\n",
      "         4.0145e-02, -1.9852e-02, -8.9518e-04,  2.8341e-02,  1.1323e-01,\n",
      "         9.4279e-02, -2.5372e-02,  1.5104e-02, -1.8188e-02,  8.0694e-03,\n",
      "         6.9255e-02,  2.3499e-02,  8.2865e-02, -5.5450e-02, -7.7555e-02,\n",
      "         1.3374e-01,  5.9163e-02,  8.2703e-03,  5.4759e-02, -4.5832e-02,\n",
      "        -7.0007e-02, -1.0376e-03,  1.0305e-02,  3.2745e-02, -6.3059e-02,\n",
      "        -3.9492e-02,  7.9468e-02,  4.9403e-02,  9.3628e-02,  2.4343e-02,\n",
      "        -7.9854e-02,  1.9187e-01, -4.1669e-02, -3.0492e-02,  9.8073e-02,\n",
      "        -2.8219e-02,  2.6901e-02,  5.0496e-02, -1.2686e-01, -5.7994e-02,\n",
      "         1.6073e-02,  1.8461e-01, -3.3346e-02, -1.4592e-02, -2.1088e-02,\n",
      "        -1.0854e-01, -6.5120e-03,  6.4926e-03, -8.4661e-03, -1.4476e-02,\n",
      "         6.2724e-02,  2.4798e-02,  1.0265e-01,  8.1502e-02,  1.0743e-01,\n",
      "         7.5928e-02,  1.2925e-01, -8.8765e-02, -6.5104e-04, -1.0211e-02,\n",
      "         6.1381e-02, -8.9274e-02,  7.7779e-02,  5.1880e-03, -9.9650e-02,\n",
      "        -1.0678e-01, -9.1227e-02, -4.6478e-02, -5.5084e-02,  1.1825e-01,\n",
      "         3.7443e-02, -1.8308e-02,  6.1117e-02, -1.8962e-02, -4.6733e-02,\n",
      "        -8.3415e-03,  9.1604e-02, -2.7588e-02,  3.2895e-02, -2.3916e-02,\n",
      "         7.1513e-02,  4.4840e-02,  2.5726e-02, -9.9726e-02,  3.2908e-02,\n",
      "        -4.3472e-02,  7.7535e-02,  1.6398e-01,  3.0924e-03,  8.7809e-02,\n",
      "        -7.0475e-02, -7.8163e-03,  1.4353e-02, -3.9836e-02, -5.7892e-02,\n",
      "         1.2868e-02, -3.7135e-02, -9.1591e-02,  7.3232e-02,  4.8614e-02,\n",
      "         2.9388e-02,  2.4862e-02, -1.1796e-01,  1.4832e-02,  8.2418e-02,\n",
      "         6.8822e-02, -2.8066e-02,  2.2400e-02, -1.2018e-01, -4.7490e-02,\n",
      "         1.0734e-01, -7.1889e-02,  1.4422e-01,  1.1561e-01, -1.1530e-01,\n",
      "         5.2826e-02,  6.3538e-02,  8.3537e-02,  6.3629e-02,  1.0541e-01,\n",
      "        -3.6318e-02,  2.5024e-03,  9.2875e-02, -9.7074e-02,  5.6661e-03,\n",
      "        -5.4057e-02, -5.8818e-02,  7.7983e-02,  1.3126e-02,  1.2919e-01,\n",
      "         1.2657e-01, -7.0196e-02,  2.3431e-02, -1.7739e-01,  6.7897e-02,\n",
      "        -6.2236e-02, -4.8465e-02,  1.2988e-01, -4.1382e-02,  1.6089e-01,\n",
      "        -1.5401e-01, -8.8458e-02, -3.7160e-02, -1.1688e-01, -4.9011e-02,\n",
      "        -2.6622e-02, -1.1396e-02, -7.3781e-02,  1.1371e-01, -6.1625e-02,\n",
      "         2.5452e-02, -7.0674e-02,  6.4117e-02, -5.7699e-02,  6.3029e-02,\n",
      "         5.8594e-03,  5.3019e-02, -2.1208e-01, -1.5299e-02, -5.2394e-02,\n",
      "        -1.5849e-01, -1.0909e-01, -6.5898e-02,  9.0739e-02,  7.1055e-02]), tensor(2))\n"
     ]
    }
   ],
   "source": [
    "print(train_ds.__getitem__(0))"
   ]
  },
  {
   "cell_type": "code",
   "execution_count": 10,
   "metadata": {},
   "outputs": [],
   "source": [
    "train_dataloader = data.DataLoader(train_ds, batch_size=64, shuffle=True)\n",
    "valid_dataloader = data.DataLoader(valid_ds, batch_size=len(valid_ds), shuffle=True)\n",
    "test_dataloader = data.DataLoader(test_ds, batch_size=len(test_ds), shuffle=True)"
   ]
  },
  {
   "cell_type": "code",
   "execution_count": 11,
   "metadata": {},
   "outputs": [],
   "source": [
    "dataloader = {'train': train_dataloader,\n",
    "              'val': valid_dataloader,\n",
    "              'test': test_dataloader}"
   ]
  },
  {
   "cell_type": "code",
   "execution_count": 12,
   "metadata": {},
   "outputs": [],
   "source": [
    "from tqdm import tqdm\n",
    "\n",
    "model = SP()"
   ]
  },
  {
   "cell_type": "code",
   "execution_count": 13,
   "metadata": {},
   "outputs": [],
   "source": [
    "def train(model, dataloader, num_epochs):\n",
    "    # 損失関数の定義\n",
    "    criterion = nn.CrossEntropyLoss()\n",
    "    # 最適化手法の定義\n",
    "    optimizer = torch.optim.SGD(model.parameters(), lr=0.01)\n",
    "\n",
    "    for epoch in range(num_epochs):\n",
    "        print(f'Epoch {epoch+1} / {num_epochs}')\n",
    "        print('-'*50)\n",
    "        \n",
    "        for phase in ['train', 'val']:\n",
    "            if phase == 'train':\n",
    "                model.train()\n",
    "            else:\n",
    "                model.eval()\n",
    "            \n",
    "            epoch_loss = 0.0\n",
    "            epoch_corrects = 0\n",
    "            \n",
    "            for inputs, labels in tqdm(dataloader[phase]):\n",
    "                optimizer.zero_grad()\n",
    "                # forward\n",
    "                with torch.set_grad_enabled(phase == 'train'):\n",
    "                    outputs = model(inputs)\n",
    "                    loss = criterion(outputs, labels) \n",
    "                    _, preds = torch.max(outputs, 1) \n",
    "                    # backward\n",
    "                    if phase == 'train':\n",
    "                        loss.backward()\n",
    "                        optimizer.step()\n",
    "                    epoch_loss += loss.item() * inputs.size(0)\n",
    "                    epoch_corrects += torch.sum(preds == labels.data)\n",
    "            # epochごとのlossと正解率の表示\n",
    "            epoch_loss = epoch_loss / len(dataloader[phase].dataset)\n",
    "            epoch_acc = epoch_corrects.double() / len(dataloader[phase].dataset)\n",
    "\n",
    "            \n",
    "            print('{} Loss: {:.4f}, Acc: {:.4f}'.format(phase, epoch_loss, epoch_acc))\n"
   ]
  },
  {
   "cell_type": "code",
   "execution_count": 29,
   "metadata": {},
   "outputs": [
    {
     "name": "stdout",
     "output_type": "stream",
     "text": [
      "Epoch 1 / 20\n",
      "--------------------------------------------------\n"
     ]
    },
    {
     "name": "stderr",
     "output_type": "stream",
     "text": [
      "  0%|          | 0/167 [00:00<?, ?it/s]"
     ]
    },
    {
     "name": "stderr",
     "output_type": "stream",
     "text": [
      "100%|██████████| 167/167 [00:00<00:00, 474.27it/s]\n"
     ]
    },
    {
     "name": "stdout",
     "output_type": "stream",
     "text": [
      "train Loss: 1.2765, Acc: 0.5836\n"
     ]
    },
    {
     "name": "stderr",
     "output_type": "stream",
     "text": [
      "100%|██████████| 1/1 [00:00<00:00, 14.18it/s]\n"
     ]
    },
    {
     "name": "stdout",
     "output_type": "stream",
     "text": [
      "val Loss: 1.1934, Acc: 0.7354\n",
      "Epoch 2 / 20\n",
      "--------------------------------------------------\n"
     ]
    },
    {
     "name": "stderr",
     "output_type": "stream",
     "text": [
      "100%|██████████| 167/167 [00:00<00:00, 1002.21it/s]\n"
     ]
    },
    {
     "name": "stdout",
     "output_type": "stream",
     "text": [
      "train Loss: 1.1439, Acc: 0.7413\n"
     ]
    },
    {
     "name": "stderr",
     "output_type": "stream",
     "text": [
      "100%|██████████| 1/1 [00:00<00:00, 12.23it/s]\n"
     ]
    },
    {
     "name": "stdout",
     "output_type": "stream",
     "text": [
      "val Loss: 1.1088, Acc: 0.7466\n",
      "Epoch 3 / 20\n",
      "--------------------------------------------------\n"
     ]
    },
    {
     "name": "stderr",
     "output_type": "stream",
     "text": [
      "100%|██████████| 167/167 [00:00<00:00, 1140.38it/s]\n"
     ]
    },
    {
     "name": "stdout",
     "output_type": "stream",
     "text": [
      "train Loss: 1.0784, Acc: 0.7543\n"
     ]
    },
    {
     "name": "stderr",
     "output_type": "stream",
     "text": [
      "100%|██████████| 1/1 [00:00<00:00, 134.13it/s]\n"
     ]
    },
    {
     "name": "stdout",
     "output_type": "stream",
     "text": [
      "val Loss: 1.0590, Acc: 0.7511\n",
      "Epoch 4 / 20\n",
      "--------------------------------------------------\n"
     ]
    },
    {
     "name": "stderr",
     "output_type": "stream",
     "text": [
      "100%|██████████| 167/167 [00:00<00:00, 1131.27it/s]\n"
     ]
    },
    {
     "name": "stdout",
     "output_type": "stream",
     "text": [
      "train Loss: 1.0356, Acc: 0.7564\n"
     ]
    },
    {
     "name": "stderr",
     "output_type": "stream",
     "text": [
      "100%|██████████| 1/1 [00:00<00:00, 123.47it/s]\n"
     ]
    },
    {
     "name": "stdout",
     "output_type": "stream",
     "text": [
      "val Loss: 1.0230, Acc: 0.7594\n",
      "Epoch 5 / 20\n",
      "--------------------------------------------------\n"
     ]
    },
    {
     "name": "stderr",
     "output_type": "stream",
     "text": [
      "100%|██████████| 167/167 [00:00<00:00, 1014.77it/s]\n"
     ]
    },
    {
     "name": "stdout",
     "output_type": "stream",
     "text": [
      "train Loss: 1.0028, Acc: 0.7594\n"
     ]
    },
    {
     "name": "stderr",
     "output_type": "stream",
     "text": [
      "100%|██████████| 1/1 [00:00<00:00, 121.58it/s]\n"
     ]
    },
    {
     "name": "stdout",
     "output_type": "stream",
     "text": [
      "val Loss: 0.9941, Acc: 0.7609\n",
      "Epoch 6 / 20\n",
      "--------------------------------------------------\n"
     ]
    },
    {
     "name": "stderr",
     "output_type": "stream",
     "text": [
      "100%|██████████| 167/167 [00:00<00:00, 1096.24it/s]\n"
     ]
    },
    {
     "name": "stdout",
     "output_type": "stream",
     "text": [
      "train Loss: 0.9755, Acc: 0.7621\n"
     ]
    },
    {
     "name": "stderr",
     "output_type": "stream",
     "text": [
      "100%|██████████| 1/1 [00:00<00:00, 123.38it/s]\n"
     ]
    },
    {
     "name": "stdout",
     "output_type": "stream",
     "text": [
      "val Loss: 0.9693, Acc: 0.7631\n",
      "Epoch 7 / 20\n",
      "--------------------------------------------------\n"
     ]
    },
    {
     "name": "stderr",
     "output_type": "stream",
     "text": [
      "100%|██████████| 167/167 [00:00<00:00, 1094.11it/s]\n"
     ]
    },
    {
     "name": "stdout",
     "output_type": "stream",
     "text": [
      "train Loss: 0.9517, Acc: 0.7628\n"
     ]
    },
    {
     "name": "stderr",
     "output_type": "stream",
     "text": [
      "100%|██████████| 1/1 [00:00<00:00, 138.86it/s]\n"
     ]
    },
    {
     "name": "stdout",
     "output_type": "stream",
     "text": [
      "val Loss: 0.9475, Acc: 0.7654\n",
      "Epoch 8 / 20\n",
      "--------------------------------------------------\n"
     ]
    },
    {
     "name": "stderr",
     "output_type": "stream",
     "text": [
      "100%|██████████| 167/167 [00:00<00:00, 1071.71it/s]\n"
     ]
    },
    {
     "name": "stdout",
     "output_type": "stream",
     "text": [
      "train Loss: 0.9307, Acc: 0.7636\n"
     ]
    },
    {
     "name": "stderr",
     "output_type": "stream",
     "text": [
      "100%|██████████| 1/1 [00:00<00:00, 132.98it/s]\n"
     ]
    },
    {
     "name": "stdout",
     "output_type": "stream",
     "text": [
      "val Loss: 0.9280, Acc: 0.7661\n",
      "Epoch 9 / 20\n",
      "--------------------------------------------------\n"
     ]
    },
    {
     "name": "stderr",
     "output_type": "stream",
     "text": [
      "100%|██████████| 167/167 [00:00<00:00, 1081.43it/s]\n"
     ]
    },
    {
     "name": "stdout",
     "output_type": "stream",
     "text": [
      "train Loss: 0.9117, Acc: 0.7640\n"
     ]
    },
    {
     "name": "stderr",
     "output_type": "stream",
     "text": [
      "100%|██████████| 1/1 [00:00<00:00, 133.96it/s]\n"
     ]
    },
    {
     "name": "stdout",
     "output_type": "stream",
     "text": [
      "val Loss: 0.9103, Acc: 0.7669\n",
      "Epoch 10 / 20\n",
      "--------------------------------------------------\n"
     ]
    },
    {
     "name": "stderr",
     "output_type": "stream",
     "text": [
      "100%|██████████| 167/167 [00:00<00:00, 1129.46it/s]\n"
     ]
    },
    {
     "name": "stdout",
     "output_type": "stream",
     "text": [
      "train Loss: 0.8944, Acc: 0.7648\n"
     ]
    },
    {
     "name": "stderr",
     "output_type": "stream",
     "text": [
      "100%|██████████| 1/1 [00:00<00:00, 133.87it/s]\n"
     ]
    },
    {
     "name": "stdout",
     "output_type": "stream",
     "text": [
      "val Loss: 0.8941, Acc: 0.7684\n",
      "Epoch 11 / 20\n",
      "--------------------------------------------------\n"
     ]
    },
    {
     "name": "stderr",
     "output_type": "stream",
     "text": [
      "100%|██████████| 167/167 [00:00<00:00, 1145.75it/s]\n"
     ]
    },
    {
     "name": "stdout",
     "output_type": "stream",
     "text": [
      "train Loss: 0.8786, Acc: 0.7654\n"
     ]
    },
    {
     "name": "stderr",
     "output_type": "stream",
     "text": [
      "100%|██████████| 1/1 [00:00<00:00, 133.75it/s]\n"
     ]
    },
    {
     "name": "stdout",
     "output_type": "stream",
     "text": [
      "val Loss: 0.8792, Acc: 0.7684\n",
      "Epoch 12 / 20\n",
      "--------------------------------------------------\n"
     ]
    },
    {
     "name": "stderr",
     "output_type": "stream",
     "text": [
      "100%|██████████| 167/167 [00:00<00:00, 1146.40it/s]\n"
     ]
    },
    {
     "name": "stdout",
     "output_type": "stream",
     "text": [
      "train Loss: 0.8640, Acc: 0.7658\n"
     ]
    },
    {
     "name": "stderr",
     "output_type": "stream",
     "text": [
      "100%|██████████| 1/1 [00:00<00:00, 135.09it/s]\n"
     ]
    },
    {
     "name": "stdout",
     "output_type": "stream",
     "text": [
      "val Loss: 0.8655, Acc: 0.7676\n",
      "Epoch 13 / 20\n",
      "--------------------------------------------------\n"
     ]
    },
    {
     "name": "stderr",
     "output_type": "stream",
     "text": [
      "100%|██████████| 167/167 [00:00<00:00, 1116.36it/s]\n"
     ]
    },
    {
     "name": "stdout",
     "output_type": "stream",
     "text": [
      "train Loss: 0.8505, Acc: 0.7656\n"
     ]
    },
    {
     "name": "stderr",
     "output_type": "stream",
     "text": [
      "100%|██████████| 1/1 [00:00<00:00, 131.64it/s]\n"
     ]
    },
    {
     "name": "stdout",
     "output_type": "stream",
     "text": [
      "val Loss: 0.8528, Acc: 0.7676\n",
      "Epoch 14 / 20\n",
      "--------------------------------------------------\n"
     ]
    },
    {
     "name": "stderr",
     "output_type": "stream",
     "text": [
      "100%|██████████| 167/167 [00:00<00:00, 1157.30it/s]\n"
     ]
    },
    {
     "name": "stdout",
     "output_type": "stream",
     "text": [
      "train Loss: 0.8379, Acc: 0.7660\n"
     ]
    },
    {
     "name": "stderr",
     "output_type": "stream",
     "text": [
      "100%|██████████| 1/1 [00:00<00:00, 135.94it/s]\n"
     ]
    },
    {
     "name": "stdout",
     "output_type": "stream",
     "text": [
      "val Loss: 0.8409, Acc: 0.7684\n",
      "Epoch 15 / 20\n",
      "--------------------------------------------------\n"
     ]
    },
    {
     "name": "stderr",
     "output_type": "stream",
     "text": [
      "100%|██████████| 167/167 [00:00<00:00, 1171.43it/s]\n"
     ]
    },
    {
     "name": "stdout",
     "output_type": "stream",
     "text": [
      "train Loss: 0.8262, Acc: 0.7662\n"
     ]
    },
    {
     "name": "stderr",
     "output_type": "stream",
     "text": [
      "100%|██████████| 1/1 [00:00<00:00, 136.16it/s]\n"
     ]
    },
    {
     "name": "stdout",
     "output_type": "stream",
     "text": [
      "val Loss: 0.8299, Acc: 0.7691\n",
      "Epoch 16 / 20\n",
      "--------------------------------------------------\n"
     ]
    },
    {
     "name": "stderr",
     "output_type": "stream",
     "text": [
      "100%|██████████| 167/167 [00:00<00:00, 1165.92it/s]\n"
     ]
    },
    {
     "name": "stdout",
     "output_type": "stream",
     "text": [
      "train Loss: 0.8152, Acc: 0.7662\n"
     ]
    },
    {
     "name": "stderr",
     "output_type": "stream",
     "text": [
      "100%|██████████| 1/1 [00:00<00:00, 136.56it/s]\n"
     ]
    },
    {
     "name": "stdout",
     "output_type": "stream",
     "text": [
      "val Loss: 0.8195, Acc: 0.7699\n",
      "Epoch 17 / 20\n",
      "--------------------------------------------------\n"
     ]
    },
    {
     "name": "stderr",
     "output_type": "stream",
     "text": [
      "100%|██████████| 167/167 [00:00<00:00, 1161.05it/s]\n"
     ]
    },
    {
     "name": "stdout",
     "output_type": "stream",
     "text": [
      "train Loss: 0.8049, Acc: 0.7665\n"
     ]
    },
    {
     "name": "stderr",
     "output_type": "stream",
     "text": [
      "100%|██████████| 1/1 [00:00<00:00, 135.71it/s]\n"
     ]
    },
    {
     "name": "stdout",
     "output_type": "stream",
     "text": [
      "val Loss: 0.8097, Acc: 0.7706\n",
      "Epoch 18 / 20\n",
      "--------------------------------------------------\n"
     ]
    },
    {
     "name": "stderr",
     "output_type": "stream",
     "text": [
      "100%|██████████| 167/167 [00:00<00:00, 1133.67it/s]\n"
     ]
    },
    {
     "name": "stdout",
     "output_type": "stream",
     "text": [
      "train Loss: 0.7952, Acc: 0.7670\n"
     ]
    },
    {
     "name": "stderr",
     "output_type": "stream",
     "text": [
      "100%|██████████| 1/1 [00:00<00:00, 130.68it/s]\n"
     ]
    },
    {
     "name": "stdout",
     "output_type": "stream",
     "text": [
      "val Loss: 0.8005, Acc: 0.7714\n",
      "Epoch 19 / 20\n",
      "--------------------------------------------------\n"
     ]
    },
    {
     "name": "stderr",
     "output_type": "stream",
     "text": [
      "100%|██████████| 167/167 [00:00<00:00, 1124.99it/s]\n"
     ]
    },
    {
     "name": "stdout",
     "output_type": "stream",
     "text": [
      "train Loss: 0.7861, Acc: 0.7671\n"
     ]
    },
    {
     "name": "stderr",
     "output_type": "stream",
     "text": [
      "100%|██████████| 1/1 [00:00<00:00, 134.67it/s]\n"
     ]
    },
    {
     "name": "stdout",
     "output_type": "stream",
     "text": [
      "val Loss: 0.7918, Acc: 0.7721\n",
      "Epoch 20 / 20\n",
      "--------------------------------------------------\n"
     ]
    },
    {
     "name": "stderr",
     "output_type": "stream",
     "text": [
      "100%|██████████| 167/167 [00:00<00:00, 1128.30it/s]\n"
     ]
    },
    {
     "name": "stdout",
     "output_type": "stream",
     "text": [
      "train Loss: 0.7774, Acc: 0.7680\n"
     ]
    },
    {
     "name": "stderr",
     "output_type": "stream",
     "text": [
      "100%|██████████| 1/1 [00:00<00:00, 120.44it/s]"
     ]
    },
    {
     "name": "stdout",
     "output_type": "stream",
     "text": [
      "val Loss: 0.7835, Acc: 0.7729\n"
     ]
    },
    {
     "name": "stderr",
     "output_type": "stream",
     "text": [
      "\n"
     ]
    }
   ],
   "source": [
    "train(model, dataloader, 20)"
   ]
  },
  {
   "cell_type": "code",
   "execution_count": 36,
   "metadata": {},
   "outputs": [],
   "source": [
    "torch.save(model.state_dict(), './data/news.model')"
   ]
  },
  {
   "attachments": {},
   "cell_type": "markdown",
   "metadata": {},
   "source": [
    "# 74. 正解率の計測"
   ]
  },
  {
   "cell_type": "code",
   "execution_count": 33,
   "metadata": {},
   "outputs": [],
   "source": [
    "def calc_acc(model, dataloader):\n",
    "    model.eval()\n",
    "    corrects = 0\n",
    "    with torch.no_grad():\n",
    "        for inputs, labels in dataloader:\n",
    "            outputs = model(inputs)\n",
    "            _, preds = torch.max(outputs, 1) # ラベルを予想\n",
    "            corrects += torch.sum(preds == labels.data)\n",
    "    return corrects / len(dataloader.dataset)"
   ]
  },
  {
   "cell_type": "code",
   "execution_count": 34,
   "metadata": {},
   "outputs": [],
   "source": [
    "acc_train = calc_acc(model, dataloader['train'])\n",
    "acc_valid = calc_acc(model, dataloader['val'])\n",
    "acc_test = calc_acc(model, dataloader['test'])"
   ]
  },
  {
   "cell_type": "code",
   "execution_count": 35,
   "metadata": {},
   "outputs": [
    {
     "name": "stdout",
     "output_type": "stream",
     "text": [
      "train acuracy: 0.7677099108695984\n",
      "valid acuracy: 0.7728635668754578\n",
      "test acuracy: 0.7638680934906006\n"
     ]
    }
   ],
   "source": [
    "print(f'train acuracy: {acc_train}')\n",
    "print(f'valid acuracy: {acc_valid}')\n",
    "print(f'test acuracy: {acc_test}')"
   ]
  },
  {
   "cell_type": "code",
   "execution_count": null,
   "metadata": {},
   "outputs": [],
   "source": [
    "def train(model, dataloader, num_epochs):\n",
    "    # 損失関数の定義\n",
    "    criterion = nn.CrossEntropyLoss()\n",
    "    # 最適化手法の定義\n",
    "    optimizer = torch.optim.SGD(model.parameters(), lr=0.01)\n",
    "    for epoch in range(num_epochs):\n",
    "        print(f'Epoch {epoch+1} / {num_epochs}')\n",
    "        print('-'*50)\n",
    "        \n",
    "        for phase in ['train', 'val']:\n",
    "            if phase == 'train':\n",
    "                model.train()\n",
    "            else:\n",
    "                model.eval()\n",
    "            \n",
    "            epoch_loss = 0.0\n",
    "            epoch_corrects = 0\n",
    "            \n",
    "            for inputs, labels in tqdm(dataloader[phase]):\n",
    "                optimizer.zero_grad()\n",
    "                # forward\n",
    "                with torch.set_grad_enabled(phase == 'train'):\n",
    "                    outputs = model(inputs)\n",
    "                    loss = criterion(outputs, labels) \n",
    "                    _, preds = torch.max(outputs, 1) \n",
    "                    # backward\n",
    "                    if phase == 'train':\n",
    "                        loss.backward()\n",
    "                        optimizer.step()\n",
    "                    epoch_loss += loss.item() * inputs.size(0)\n",
    "                    epoch_corrects += torch.sum(preds == labels.data)\n",
    "            # epochごとのlossと正解率の表示\n",
    "            epoch_loss = epoch_loss / len(dataloader[phase].dataset)\n",
    "            epoch_acc = epoch_corrects.double() / len(dataloader[phase].dataset)\n",
    "            \n",
    "            print('{} Loss: {:.4f}, Acc: {:.4f}'.format(phase, epoch_loss, epoch_acc))"
   ]
  },
  {
   "cell_type": "markdown",
   "metadata": {},
   "source": [
    "# 75"
   ]
  },
  {
   "cell_type": "code",
   "execution_count": null,
   "metadata": {},
   "outputs": [],
   "source": [
    "from tqdm import tqdm\n",
    "\n",
    "model = SP()"
   ]
  },
  {
   "cell_type": "code",
   "execution_count": 14,
   "metadata": {},
   "outputs": [],
   "source": [
    "def train(model, dataloader, num_epochs):\n",
    "    # 損失関数の定義\n",
    "    criterion = nn.CrossEntropyLoss()\n",
    "    # 最適化手法の定義\n",
    "    optimizer = torch.optim.SGD(model.parameters(), lr=0.01)\n",
    "    result = {'train':{'acc':[], 'loss':[]}, 'val':{'acc':[], 'loss':[]}}\n",
    "    for epoch in range(num_epochs):\n",
    "        print(f'Epoch {epoch+1} / {num_epochs}')\n",
    "        print('-'*50)\n",
    "        \n",
    "        for phase in ['train', 'val']:\n",
    "            if phase == 'train':\n",
    "                model.train()\n",
    "            else:\n",
    "                model.eval()\n",
    "            \n",
    "            epoch_loss = 0.0\n",
    "            epoch_corrects = 0\n",
    "            \n",
    "            for inputs, labels in tqdm(dataloader[phase]):\n",
    "                optimizer.zero_grad()\n",
    "                # forward\n",
    "                with torch.set_grad_enabled(phase == 'train'):\n",
    "                    outputs = model(inputs)\n",
    "                    loss = criterion(outputs, labels) \n",
    "                    _, preds = torch.max(outputs, 1) \n",
    "                    # backward\n",
    "                    if phase == 'train':\n",
    "                        loss.backward()\n",
    "                        optimizer.step()\n",
    "                    epoch_loss += loss.item() * inputs.size(0)\n",
    "                    epoch_corrects += torch.sum(preds == labels.data)\n",
    "            # epochごとのlossと正解率の表示\n",
    "            epoch_loss = epoch_loss / len(dataloader[phase].dataset)\n",
    "            epoch_acc = epoch_corrects.double() / len(dataloader[phase].dataset)\n",
    "            result[phase]['loss'].append(epoch_loss)\n",
    "            result[phase]['acc'].append(epoch_acc)\n",
    "            \n",
    "            print('{} Loss: {:.4f}, Acc: {:.4f}'.format(phase, epoch_loss, epoch_acc))\n",
    "    return result"
   ]
  },
  {
   "cell_type": "code",
   "execution_count": 15,
   "metadata": {},
   "outputs": [
    {
     "name": "stdout",
     "output_type": "stream",
     "text": [
      "Epoch 1 / 20\n",
      "--------------------------------------------------\n"
     ]
    },
    {
     "name": "stderr",
     "output_type": "stream",
     "text": [
      "100%|██████████| 167/167 [00:00<00:00, 369.44it/s]\n"
     ]
    },
    {
     "name": "stdout",
     "output_type": "stream",
     "text": [
      "train Loss: 1.2782, Acc: 0.5758\n"
     ]
    },
    {
     "name": "stderr",
     "output_type": "stream",
     "text": [
      "100%|██████████| 1/1 [00:00<00:00, 16.97it/s]\n"
     ]
    },
    {
     "name": "stdout",
     "output_type": "stream",
     "text": [
      "val Loss: 1.1977, Acc: 0.7039\n",
      "Epoch 2 / 20\n",
      "--------------------------------------------------\n"
     ]
    },
    {
     "name": "stderr",
     "output_type": "stream",
     "text": [
      "100%|██████████| 167/167 [00:00<00:00, 994.06it/s] \n"
     ]
    },
    {
     "name": "stdout",
     "output_type": "stream",
     "text": [
      "train Loss: 1.1497, Acc: 0.7364\n"
     ]
    },
    {
     "name": "stderr",
     "output_type": "stream",
     "text": [
      "100%|██████████| 1/1 [00:00<00:00, 14.58it/s]\n"
     ]
    },
    {
     "name": "stdout",
     "output_type": "stream",
     "text": [
      "val Loss: 1.1145, Acc: 0.7361\n",
      "Epoch 3 / 20\n",
      "--------------------------------------------------\n"
     ]
    },
    {
     "name": "stderr",
     "output_type": "stream",
     "text": [
      "100%|██████████| 167/167 [00:00<00:00, 1021.78it/s]\n"
     ]
    },
    {
     "name": "stdout",
     "output_type": "stream",
     "text": [
      "train Loss: 1.0849, Acc: 0.7480\n"
     ]
    },
    {
     "name": "stderr",
     "output_type": "stream",
     "text": [
      "100%|██████████| 1/1 [00:00<00:00, 136.73it/s]\n"
     ]
    },
    {
     "name": "stdout",
     "output_type": "stream",
     "text": [
      "val Loss: 1.0649, Acc: 0.7549\n",
      "Epoch 4 / 20\n",
      "--------------------------------------------------\n"
     ]
    },
    {
     "name": "stderr",
     "output_type": "stream",
     "text": [
      "100%|██████████| 167/167 [00:00<00:00, 1080.29it/s]\n"
     ]
    },
    {
     "name": "stdout",
     "output_type": "stream",
     "text": [
      "train Loss: 1.0418, Acc: 0.7579\n"
     ]
    },
    {
     "name": "stderr",
     "output_type": "stream",
     "text": [
      "100%|██████████| 1/1 [00:00<00:00, 130.93it/s]\n"
     ]
    },
    {
     "name": "stdout",
     "output_type": "stream",
     "text": [
      "val Loss: 1.0287, Acc: 0.7526\n",
      "Epoch 5 / 20\n",
      "--------------------------------------------------\n"
     ]
    },
    {
     "name": "stderr",
     "output_type": "stream",
     "text": [
      "100%|██████████| 167/167 [00:00<00:00, 1067.90it/s]\n"
     ]
    },
    {
     "name": "stdout",
     "output_type": "stream",
     "text": [
      "train Loss: 1.0086, Acc: 0.7598\n"
     ]
    },
    {
     "name": "stderr",
     "output_type": "stream",
     "text": [
      "100%|██████████| 1/1 [00:00<00:00, 139.18it/s]\n"
     ]
    },
    {
     "name": "stdout",
     "output_type": "stream",
     "text": [
      "val Loss: 0.9992, Acc: 0.7579\n",
      "Epoch 6 / 20\n",
      "--------------------------------------------------\n"
     ]
    },
    {
     "name": "stderr",
     "output_type": "stream",
     "text": [
      "100%|██████████| 167/167 [00:00<00:00, 1111.26it/s]\n"
     ]
    },
    {
     "name": "stdout",
     "output_type": "stream",
     "text": [
      "train Loss: 0.9809, Acc: 0.7621\n"
     ]
    },
    {
     "name": "stderr",
     "output_type": "stream",
     "text": [
      "100%|██████████| 1/1 [00:00<00:00, 138.54it/s]\n"
     ]
    },
    {
     "name": "stdout",
     "output_type": "stream",
     "text": [
      "val Loss: 0.9741, Acc: 0.7624\n",
      "Epoch 7 / 20\n",
      "--------------------------------------------------\n"
     ]
    },
    {
     "name": "stderr",
     "output_type": "stream",
     "text": [
      "100%|██████████| 167/167 [00:00<00:00, 1120.21it/s]\n"
     ]
    },
    {
     "name": "stdout",
     "output_type": "stream",
     "text": [
      "train Loss: 0.9568, Acc: 0.7636\n"
     ]
    },
    {
     "name": "stderr",
     "output_type": "stream",
     "text": [
      "100%|██████████| 1/1 [00:00<00:00, 134.42it/s]\n"
     ]
    },
    {
     "name": "stdout",
     "output_type": "stream",
     "text": [
      "val Loss: 0.9519, Acc: 0.7654\n",
      "Epoch 8 / 20\n",
      "--------------------------------------------------\n"
     ]
    },
    {
     "name": "stderr",
     "output_type": "stream",
     "text": [
      "100%|██████████| 167/167 [00:00<00:00, 1118.32it/s]\n"
     ]
    },
    {
     "name": "stdout",
     "output_type": "stream",
     "text": [
      "train Loss: 0.9353, Acc: 0.7635\n"
     ]
    },
    {
     "name": "stderr",
     "output_type": "stream",
     "text": [
      "100%|██████████| 1/1 [00:00<00:00, 135.05it/s]\n"
     ]
    },
    {
     "name": "stdout",
     "output_type": "stream",
     "text": [
      "val Loss: 0.9320, Acc: 0.7661\n",
      "Epoch 9 / 20\n",
      "--------------------------------------------------\n"
     ]
    },
    {
     "name": "stderr",
     "output_type": "stream",
     "text": [
      "100%|██████████| 167/167 [00:00<00:00, 1123.04it/s]\n"
     ]
    },
    {
     "name": "stdout",
     "output_type": "stream",
     "text": [
      "train Loss: 0.9161, Acc: 0.7634\n"
     ]
    },
    {
     "name": "stderr",
     "output_type": "stream",
     "text": [
      "100%|██████████| 1/1 [00:00<00:00, 132.58it/s]\n"
     ]
    },
    {
     "name": "stdout",
     "output_type": "stream",
     "text": [
      "val Loss: 0.9140, Acc: 0.7684\n",
      "Epoch 10 / 20\n",
      "--------------------------------------------------\n"
     ]
    },
    {
     "name": "stderr",
     "output_type": "stream",
     "text": [
      "100%|██████████| 167/167 [00:00<00:00, 1101.67it/s]\n"
     ]
    },
    {
     "name": "stdout",
     "output_type": "stream",
     "text": [
      "train Loss: 0.8985, Acc: 0.7643\n"
     ]
    },
    {
     "name": "stderr",
     "output_type": "stream",
     "text": [
      "100%|██████████| 1/1 [00:00<00:00, 139.15it/s]\n"
     ]
    },
    {
     "name": "stdout",
     "output_type": "stream",
     "text": [
      "val Loss: 0.8976, Acc: 0.7684\n",
      "Epoch 11 / 20\n",
      "--------------------------------------------------\n"
     ]
    },
    {
     "name": "stderr",
     "output_type": "stream",
     "text": [
      "100%|██████████| 167/167 [00:00<00:00, 1121.66it/s]\n"
     ]
    },
    {
     "name": "stdout",
     "output_type": "stream",
     "text": [
      "train Loss: 0.8825, Acc: 0.7642\n"
     ]
    },
    {
     "name": "stderr",
     "output_type": "stream",
     "text": [
      "100%|██████████| 1/1 [00:00<00:00, 134.77it/s]\n"
     ]
    },
    {
     "name": "stdout",
     "output_type": "stream",
     "text": [
      "val Loss: 0.8825, Acc: 0.7684\n",
      "Epoch 12 / 20\n",
      "--------------------------------------------------\n"
     ]
    },
    {
     "name": "stderr",
     "output_type": "stream",
     "text": [
      "100%|██████████| 167/167 [00:00<00:00, 1118.88it/s]\n"
     ]
    },
    {
     "name": "stdout",
     "output_type": "stream",
     "text": [
      "train Loss: 0.8677, Acc: 0.7649\n"
     ]
    },
    {
     "name": "stderr",
     "output_type": "stream",
     "text": [
      "100%|██████████| 1/1 [00:00<00:00, 139.38it/s]\n"
     ]
    },
    {
     "name": "stdout",
     "output_type": "stream",
     "text": [
      "val Loss: 0.8686, Acc: 0.7699\n",
      "Epoch 13 / 20\n",
      "--------------------------------------------------\n"
     ]
    },
    {
     "name": "stderr",
     "output_type": "stream",
     "text": [
      "100%|██████████| 167/167 [00:00<00:00, 1085.81it/s]\n"
     ]
    },
    {
     "name": "stdout",
     "output_type": "stream",
     "text": [
      "train Loss: 0.8540, Acc: 0.7648\n"
     ]
    },
    {
     "name": "stderr",
     "output_type": "stream",
     "text": [
      "100%|██████████| 1/1 [00:00<00:00, 130.92it/s]\n"
     ]
    },
    {
     "name": "stdout",
     "output_type": "stream",
     "text": [
      "val Loss: 0.8556, Acc: 0.7691\n",
      "Epoch 14 / 20\n",
      "--------------------------------------------------\n"
     ]
    },
    {
     "name": "stderr",
     "output_type": "stream",
     "text": [
      "100%|██████████| 167/167 [00:00<00:00, 1119.68it/s]\n"
     ]
    },
    {
     "name": "stdout",
     "output_type": "stream",
     "text": [
      "train Loss: 0.8413, Acc: 0.7655\n"
     ]
    },
    {
     "name": "stderr",
     "output_type": "stream",
     "text": [
      "100%|██████████| 1/1 [00:00<00:00, 134.30it/s]\n"
     ]
    },
    {
     "name": "stdout",
     "output_type": "stream",
     "text": [
      "val Loss: 0.8436, Acc: 0.7691\n",
      "Epoch 15 / 20\n",
      "--------------------------------------------------\n"
     ]
    },
    {
     "name": "stderr",
     "output_type": "stream",
     "text": [
      "100%|██████████| 167/167 [00:00<00:00, 1123.59it/s]\n"
     ]
    },
    {
     "name": "stdout",
     "output_type": "stream",
     "text": [
      "train Loss: 0.8294, Acc: 0.7660\n"
     ]
    },
    {
     "name": "stderr",
     "output_type": "stream",
     "text": [
      "100%|██████████| 1/1 [00:00<00:00, 142.45it/s]\n"
     ]
    },
    {
     "name": "stdout",
     "output_type": "stream",
     "text": [
      "val Loss: 0.8324, Acc: 0.7699\n",
      "Epoch 16 / 20\n",
      "--------------------------------------------------\n"
     ]
    },
    {
     "name": "stderr",
     "output_type": "stream",
     "text": [
      "100%|██████████| 167/167 [00:00<00:00, 1122.62it/s]\n"
     ]
    },
    {
     "name": "stdout",
     "output_type": "stream",
     "text": [
      "train Loss: 0.8183, Acc: 0.7658\n"
     ]
    },
    {
     "name": "stderr",
     "output_type": "stream",
     "text": [
      "100%|██████████| 1/1 [00:00<00:00, 128.51it/s]\n"
     ]
    },
    {
     "name": "stdout",
     "output_type": "stream",
     "text": [
      "val Loss: 0.8219, Acc: 0.7721\n",
      "Epoch 17 / 20\n",
      "--------------------------------------------------\n"
     ]
    },
    {
     "name": "stderr",
     "output_type": "stream",
     "text": [
      "100%|██████████| 167/167 [00:00<00:00, 1121.30it/s]\n"
     ]
    },
    {
     "name": "stdout",
     "output_type": "stream",
     "text": [
      "train Loss: 0.8079, Acc: 0.7665\n"
     ]
    },
    {
     "name": "stderr",
     "output_type": "stream",
     "text": [
      "100%|██████████| 1/1 [00:00<00:00, 139.37it/s]\n"
     ]
    },
    {
     "name": "stdout",
     "output_type": "stream",
     "text": [
      "val Loss: 0.8120, Acc: 0.7699\n",
      "Epoch 18 / 20\n",
      "--------------------------------------------------\n"
     ]
    },
    {
     "name": "stderr",
     "output_type": "stream",
     "text": [
      "100%|██████████| 167/167 [00:00<00:00, 1121.74it/s]\n"
     ]
    },
    {
     "name": "stdout",
     "output_type": "stream",
     "text": [
      "train Loss: 0.7980, Acc: 0.7667\n"
     ]
    },
    {
     "name": "stderr",
     "output_type": "stream",
     "text": [
      "100%|██████████| 1/1 [00:00<00:00, 137.00it/s]\n"
     ]
    },
    {
     "name": "stdout",
     "output_type": "stream",
     "text": [
      "val Loss: 0.8026, Acc: 0.7699\n",
      "Epoch 19 / 20\n",
      "--------------------------------------------------\n"
     ]
    },
    {
     "name": "stderr",
     "output_type": "stream",
     "text": [
      "100%|██████████| 167/167 [00:00<00:00, 1092.74it/s]\n"
     ]
    },
    {
     "name": "stdout",
     "output_type": "stream",
     "text": [
      "train Loss: 0.7888, Acc: 0.7673\n"
     ]
    },
    {
     "name": "stderr",
     "output_type": "stream",
     "text": [
      "100%|██████████| 1/1 [00:00<00:00, 126.83it/s]\n"
     ]
    },
    {
     "name": "stdout",
     "output_type": "stream",
     "text": [
      "val Loss: 0.7938, Acc: 0.7706\n",
      "Epoch 20 / 20\n",
      "--------------------------------------------------\n"
     ]
    },
    {
     "name": "stderr",
     "output_type": "stream",
     "text": [
      "100%|██████████| 167/167 [00:00<00:00, 1122.15it/s]\n"
     ]
    },
    {
     "name": "stdout",
     "output_type": "stream",
     "text": [
      "train Loss: 0.7800, Acc: 0.7674\n"
     ]
    },
    {
     "name": "stderr",
     "output_type": "stream",
     "text": [
      "100%|██████████| 1/1 [00:00<00:00, 138.73it/s]"
     ]
    },
    {
     "name": "stdout",
     "output_type": "stream",
     "text": [
      "val Loss: 0.7854, Acc: 0.7706\n"
     ]
    },
    {
     "name": "stderr",
     "output_type": "stream",
     "text": [
      "\n"
     ]
    }
   ],
   "source": [
    "result = train(model, dataloader, 20)"
   ]
  },
  {
   "cell_type": "code",
   "execution_count": 19,
   "metadata": {},
   "outputs": [
    {
     "data": {
      "text/plain": [
       "{'train': {'acc': [tensor(0.5758, dtype=torch.float64),\n",
       "   tensor(0.7364, dtype=torch.float64),\n",
       "   tensor(0.7480, dtype=torch.float64),\n",
       "   tensor(0.7579, dtype=torch.float64),\n",
       "   tensor(0.7598, dtype=torch.float64),\n",
       "   tensor(0.7621, dtype=torch.float64),\n",
       "   tensor(0.7636, dtype=torch.float64),\n",
       "   tensor(0.7635, dtype=torch.float64),\n",
       "   tensor(0.7634, dtype=torch.float64),\n",
       "   tensor(0.7643, dtype=torch.float64),\n",
       "   tensor(0.7642, dtype=torch.float64),\n",
       "   tensor(0.7649, dtype=torch.float64),\n",
       "   tensor(0.7648, dtype=torch.float64),\n",
       "   tensor(0.7655, dtype=torch.float64),\n",
       "   tensor(0.7660, dtype=torch.float64),\n",
       "   tensor(0.7658, dtype=torch.float64),\n",
       "   tensor(0.7665, dtype=torch.float64),\n",
       "   tensor(0.7667, dtype=torch.float64),\n",
       "   tensor(0.7673, dtype=torch.float64),\n",
       "   tensor(0.7674, dtype=torch.float64)],\n",
       "  'loss': [1.278165965959586,\n",
       "   1.1496944159403377,\n",
       "   1.0848610006172261,\n",
       "   1.0418442196395623,\n",
       "   1.0086278180847283,\n",
       "   0.980885975721894,\n",
       "   0.9567667125225782,\n",
       "   0.935339843047255,\n",
       "   0.9160662631223584,\n",
       "   0.8985246217054227,\n",
       "   0.8824732882686999,\n",
       "   0.8676702007539626,\n",
       "   0.8539923067571877,\n",
       "   0.8412723845091538,\n",
       "   0.8294130004328052,\n",
       "   0.8182952282489507,\n",
       "   0.8078651542606382,\n",
       "   0.7980379890287477,\n",
       "   0.7887612565167841,\n",
       "   0.7799662842207227]},\n",
       " 'val': {'acc': [tensor(0.7039, dtype=torch.float64),\n",
       "   tensor(0.7361, dtype=torch.float64),\n",
       "   tensor(0.7549, dtype=torch.float64),\n",
       "   tensor(0.7526, dtype=torch.float64),\n",
       "   tensor(0.7579, dtype=torch.float64),\n",
       "   tensor(0.7624, dtype=torch.float64),\n",
       "   tensor(0.7654, dtype=torch.float64),\n",
       "   tensor(0.7661, dtype=torch.float64),\n",
       "   tensor(0.7684, dtype=torch.float64),\n",
       "   tensor(0.7684, dtype=torch.float64),\n",
       "   tensor(0.7684, dtype=torch.float64),\n",
       "   tensor(0.7699, dtype=torch.float64),\n",
       "   tensor(0.7691, dtype=torch.float64),\n",
       "   tensor(0.7691, dtype=torch.float64),\n",
       "   tensor(0.7699, dtype=torch.float64),\n",
       "   tensor(0.7721, dtype=torch.float64),\n",
       "   tensor(0.7699, dtype=torch.float64),\n",
       "   tensor(0.7699, dtype=torch.float64),\n",
       "   tensor(0.7706, dtype=torch.float64),\n",
       "   tensor(0.7706, dtype=torch.float64)],\n",
       "  'loss': [1.1977468729019165,\n",
       "   1.1145139932632446,\n",
       "   1.0649070739746094,\n",
       "   1.0286520719528198,\n",
       "   0.9992367625236511,\n",
       "   0.9740525484085083,\n",
       "   0.9518538117408752,\n",
       "   0.9319930076599121,\n",
       "   0.9140029549598694,\n",
       "   0.8975712060928345,\n",
       "   0.8824883103370667,\n",
       "   0.8685678839683533,\n",
       "   0.8556451797485352,\n",
       "   0.8436228036880493,\n",
       "   0.8323889374732971,\n",
       "   0.8218585848808289,\n",
       "   0.8119535446166992,\n",
       "   0.8026177287101746,\n",
       "   0.7937954068183899,\n",
       "   0.7854374647140503]}}"
      ]
     },
     "execution_count": 19,
     "metadata": {},
     "output_type": "execute_result"
    }
   ],
   "source": [
    "result"
   ]
  },
  {
   "cell_type": "code",
   "execution_count": 23,
   "metadata": {},
   "outputs": [
    {
     "data": {
      "image/png": "[encoded data removed]",
      "text/plain": [
       "<Figure size 1500x500 with 2 Axes>"
      ]
     },
     "metadata": {},
     "output_type": "display_data"
    }
   ],
   "source": [
    "from matplotlib import pyplot as plt\n",
    "\n",
    "fig, ax = plt.subplots(1, 2, figsize=(15, 5))\n",
    "ax[0].plot(result['train'][\"loss\"], label='train')\n",
    "ax[0].plot(result['val'][\"loss\"], label='valid')\n",
    "ax[0].set_xlabel('epoch')\n",
    "ax[0].set_ylabel('loss')\n",
    "ax[0].legend()\n",
    "ax[1].plot(result['train']['acc'], label='train')\n",
    "ax[1].plot(result['val']['acc'], label='valid')\n",
    "ax[1].set_xlabel('epoch')\n",
    "ax[1].set_ylabel('accuracy')\n",
    "ax[1].legend()\n",
    "plt.show()"
   ]
  },
  {
   "cell_type": "markdown",
   "metadata": {},
   "source": [
    "# 76"
   ]
  },
  {
   "cell_type": "code",
   "execution_count": 24,
   "metadata": {},
   "outputs": [],
   "source": [
    "from tqdm import tqdm\n",
    "\n",
    "model = SP()"
   ]
  },
  {
   "cell_type": "code",
   "execution_count": 25,
   "metadata": {},
   "outputs": [],
   "source": [
    "def train(model, dataloader, num_epochs):\n",
    "    # 損失関数の定義\n",
    "    criterion = nn.CrossEntropyLoss()\n",
    "    # 最適化手法の定義\n",
    "    optimizer = torch.optim.SGD(model.parameters(), lr=0.01)\n",
    "    result = {'train':{'acc':[], 'loss':[]}, 'val':{'acc':[], 'loss':[]}}\n",
    "    for epoch in range(num_epochs):\n",
    "        print(f'Epoch {epoch+1} / {num_epochs}')\n",
    "        print('-'*50)\n",
    "        \n",
    "        for phase in ['train', 'val']:\n",
    "            if phase == 'train':\n",
    "                model.train()\n",
    "            else:\n",
    "                model.eval()\n",
    "            \n",
    "            epoch_loss = 0.0\n",
    "            epoch_corrects = 0\n",
    "            \n",
    "            for inputs, labels in tqdm(dataloader[phase]):\n",
    "                optimizer.zero_grad()\n",
    "                # forward\n",
    "                with torch.set_grad_enabled(phase == 'train'):\n",
    "                    outputs = model(inputs)\n",
    "                    loss = criterion(outputs, labels) \n",
    "                    _, preds = torch.max(outputs, 1) \n",
    "                    # backward\n",
    "                    if phase == 'train':\n",
    "                        loss.backward()\n",
    "                        optimizer.step()\n",
    "                    epoch_loss += loss.item() * inputs.size(0)\n",
    "                    epoch_corrects += torch.sum(preds == labels.data)\n",
    "            # epochごとのlossと正解率の表示\n",
    "            epoch_loss = epoch_loss / len(dataloader[phase].dataset)\n",
    "            epoch_acc = epoch_corrects.double() / len(dataloader[phase].dataset)\n",
    "            result[phase]['loss'].append(epoch_loss)\n",
    "            result[phase]['acc'].append(epoch_acc)\n",
    "            \n",
    "            # チェックポイントの保存\n",
    "            torch.save({'epoch': epoch, 'model_state_dict': model.state_dict(), 'optimizer_state_dict': optimizer.state_dict()}, f'model/checkpoint{epoch + 1}.pt')\n",
    "\n",
    "            \n",
    "            print('{} Loss: {:.4f}, Acc: {:.4f}'.format(phase, epoch_loss, epoch_acc))\n",
    "    return result"
   ]
  },
  {
   "cell_type": "code",
   "execution_count": 26,
   "metadata": {},
   "outputs": [
    {
     "name": "stdout",
     "output_type": "stream",
     "text": [
      "Epoch 1 / 20\n",
      "--------------------------------------------------\n"
     ]
    },
    {
     "name": "stderr",
     "output_type": "stream",
     "text": [
      "100%|██████████| 167/167 [00:00<00:00, 1019.16it/s]\n"
     ]
    },
    {
     "name": "stdout",
     "output_type": "stream",
     "text": [
      "train Loss: 1.2801, Acc: 0.6375\n"
     ]
    },
    {
     "name": "stderr",
     "output_type": "stream",
     "text": [
      "100%|██████████| 1/1 [00:00<00:00, 114.39it/s]\n"
     ]
    },
    {
     "name": "stdout",
     "output_type": "stream",
     "text": [
      "val Loss: 1.1932, Acc: 0.7301\n",
      "Epoch 2 / 20\n",
      "--------------------------------------------------\n"
     ]
    },
    {
     "name": "stderr",
     "output_type": "stream",
     "text": [
      "100%|██████████| 167/167 [00:00<00:00, 1125.05it/s]\n"
     ]
    },
    {
     "name": "stdout",
     "output_type": "stream",
     "text": [
      "train Loss: 1.1423, Acc: 0.7353\n"
     ]
    },
    {
     "name": "stderr",
     "output_type": "stream",
     "text": [
      "100%|██████████| 1/1 [00:00<00:00, 127.57it/s]\n"
     ]
    },
    {
     "name": "stdout",
     "output_type": "stream",
     "text": [
      "val Loss: 1.1061, Acc: 0.7459\n",
      "Epoch 3 / 20\n",
      "--------------------------------------------------\n"
     ]
    },
    {
     "name": "stderr",
     "output_type": "stream",
     "text": [
      "100%|██████████| 167/167 [00:00<00:00, 1125.08it/s]\n"
     ]
    },
    {
     "name": "stdout",
     "output_type": "stream",
     "text": [
      "train Loss: 1.0760, Acc: 0.7498\n"
     ]
    },
    {
     "name": "stderr",
     "output_type": "stream",
     "text": [
      "100%|██████████| 1/1 [00:00<00:00, 143.95it/s]\n"
     ]
    },
    {
     "name": "stdout",
     "output_type": "stream",
     "text": [
      "val Loss: 1.0564, Acc: 0.7526\n",
      "Epoch 4 / 20\n",
      "--------------------------------------------------\n"
     ]
    },
    {
     "name": "stderr",
     "output_type": "stream",
     "text": [
      "100%|██████████| 167/167 [00:00<00:00, 1125.29it/s]\n"
     ]
    },
    {
     "name": "stdout",
     "output_type": "stream",
     "text": [
      "train Loss: 1.0332, Acc: 0.7571\n"
     ]
    },
    {
     "name": "stderr",
     "output_type": "stream",
     "text": [
      "100%|██████████| 1/1 [00:00<00:00, 138.17it/s]\n"
     ]
    },
    {
     "name": "stdout",
     "output_type": "stream",
     "text": [
      "val Loss: 1.0206, Acc: 0.7564\n",
      "Epoch 5 / 20\n",
      "--------------------------------------------------\n"
     ]
    },
    {
     "name": "stderr",
     "output_type": "stream",
     "text": [
      "100%|██████████| 167/167 [00:00<00:00, 1127.39it/s]\n"
     ]
    },
    {
     "name": "stdout",
     "output_type": "stream",
     "text": [
      "train Loss: 1.0006, Acc: 0.7614\n"
     ]
    },
    {
     "name": "stderr",
     "output_type": "stream",
     "text": [
      "100%|██████████| 1/1 [00:00<00:00, 141.44it/s]\n"
     ]
    },
    {
     "name": "stdout",
     "output_type": "stream",
     "text": [
      "val Loss: 0.9919, Acc: 0.7586\n",
      "Epoch 6 / 20\n",
      "--------------------------------------------------\n"
     ]
    },
    {
     "name": "stderr",
     "output_type": "stream",
     "text": [
      "100%|██████████| 167/167 [00:00<00:00, 1124.56it/s]\n"
     ]
    },
    {
     "name": "stdout",
     "output_type": "stream",
     "text": [
      "train Loss: 0.9736, Acc: 0.7621\n"
     ]
    },
    {
     "name": "stderr",
     "output_type": "stream",
     "text": [
      "100%|██████████| 1/1 [00:00<00:00, 141.71it/s]\n"
     ]
    },
    {
     "name": "stdout",
     "output_type": "stream",
     "text": [
      "val Loss: 0.9674, Acc: 0.7601\n",
      "Epoch 7 / 20\n",
      "--------------------------------------------------\n"
     ]
    },
    {
     "name": "stderr",
     "output_type": "stream",
     "text": [
      "100%|██████████| 167/167 [00:00<00:00, 1106.97it/s]\n"
     ]
    },
    {
     "name": "stdout",
     "output_type": "stream",
     "text": [
      "train Loss: 0.9502, Acc: 0.7634\n"
     ]
    },
    {
     "name": "stderr",
     "output_type": "stream",
     "text": [
      "100%|██████████| 1/1 [00:00<00:00, 135.88it/s]\n"
     ]
    },
    {
     "name": "stdout",
     "output_type": "stream",
     "text": [
      "val Loss: 0.9459, Acc: 0.7616\n",
      "Epoch 8 / 20\n",
      "--------------------------------------------------\n"
     ]
    },
    {
     "name": "stderr",
     "output_type": "stream",
     "text": [
      "100%|██████████| 167/167 [00:00<00:00, 1108.80it/s]\n"
     ]
    },
    {
     "name": "stdout",
     "output_type": "stream",
     "text": [
      "train Loss: 0.9294, Acc: 0.7641\n"
     ]
    },
    {
     "name": "stderr",
     "output_type": "stream",
     "text": [
      "100%|██████████| 1/1 [00:00<00:00, 140.90it/s]\n"
     ]
    },
    {
     "name": "stdout",
     "output_type": "stream",
     "text": [
      "val Loss: 0.9267, Acc: 0.7646\n",
      "Epoch 9 / 20\n",
      "--------------------------------------------------\n"
     ]
    },
    {
     "name": "stderr",
     "output_type": "stream",
     "text": [
      "100%|██████████| 167/167 [00:00<00:00, 1113.87it/s]\n"
     ]
    },
    {
     "name": "stdout",
     "output_type": "stream",
     "text": [
      "train Loss: 0.9107, Acc: 0.7650\n"
     ]
    },
    {
     "name": "stderr",
     "output_type": "stream",
     "text": [
      "100%|██████████| 1/1 [00:00<00:00, 138.45it/s]\n"
     ]
    },
    {
     "name": "stdout",
     "output_type": "stream",
     "text": [
      "val Loss: 0.9092, Acc: 0.7646\n",
      "Epoch 10 / 20\n",
      "--------------------------------------------------\n"
     ]
    },
    {
     "name": "stderr",
     "output_type": "stream",
     "text": [
      "100%|██████████| 167/167 [00:00<00:00, 1107.26it/s]\n"
     ]
    },
    {
     "name": "stdout",
     "output_type": "stream",
     "text": [
      "train Loss: 0.8936, Acc: 0.7653\n"
     ]
    },
    {
     "name": "stderr",
     "output_type": "stream",
     "text": [
      "100%|██████████| 1/1 [00:00<00:00, 143.89it/s]\n"
     ]
    },
    {
     "name": "stdout",
     "output_type": "stream",
     "text": [
      "val Loss: 0.8932, Acc: 0.7654\n",
      "Epoch 11 / 20\n",
      "--------------------------------------------------\n"
     ]
    },
    {
     "name": "stderr",
     "output_type": "stream",
     "text": [
      "100%|██████████| 167/167 [00:00<00:00, 1112.80it/s]\n"
     ]
    },
    {
     "name": "stdout",
     "output_type": "stream",
     "text": [
      "train Loss: 0.8780, Acc: 0.7657\n"
     ]
    },
    {
     "name": "stderr",
     "output_type": "stream",
     "text": [
      "100%|██████████| 1/1 [00:00<00:00, 136.50it/s]\n"
     ]
    },
    {
     "name": "stdout",
     "output_type": "stream",
     "text": [
      "val Loss: 0.8785, Acc: 0.7669\n",
      "Epoch 12 / 20\n",
      "--------------------------------------------------\n"
     ]
    },
    {
     "name": "stderr",
     "output_type": "stream",
     "text": [
      "100%|██████████| 167/167 [00:00<00:00, 1114.48it/s]\n"
     ]
    },
    {
     "name": "stdout",
     "output_type": "stream",
     "text": [
      "train Loss: 0.8636, Acc: 0.7656\n"
     ]
    },
    {
     "name": "stderr",
     "output_type": "stream",
     "text": [
      "100%|██████████| 1/1 [00:00<00:00, 135.85it/s]\n"
     ]
    },
    {
     "name": "stdout",
     "output_type": "stream",
     "text": [
      "val Loss: 0.8650, Acc: 0.7676\n",
      "Epoch 13 / 20\n",
      "--------------------------------------------------\n"
     ]
    },
    {
     "name": "stderr",
     "output_type": "stream",
     "text": [
      "100%|██████████| 167/167 [00:00<00:00, 1088.25it/s]\n"
     ]
    },
    {
     "name": "stdout",
     "output_type": "stream",
     "text": [
      "train Loss: 0.8502, Acc: 0.7660\n"
     ]
    },
    {
     "name": "stderr",
     "output_type": "stream",
     "text": [
      "100%|██████████| 1/1 [00:00<00:00, 141.93it/s]\n"
     ]
    },
    {
     "name": "stdout",
     "output_type": "stream",
     "text": [
      "val Loss: 0.8524, Acc: 0.7676\n",
      "Epoch 14 / 20\n",
      "--------------------------------------------------\n"
     ]
    },
    {
     "name": "stderr",
     "output_type": "stream",
     "text": [
      "100%|██████████| 167/167 [00:00<00:00, 1109.04it/s]\n"
     ]
    },
    {
     "name": "stdout",
     "output_type": "stream",
     "text": [
      "train Loss: 0.8378, Acc: 0.7664\n"
     ]
    },
    {
     "name": "stderr",
     "output_type": "stream",
     "text": [
      "100%|██████████| 1/1 [00:00<00:00, 118.68it/s]\n"
     ]
    },
    {
     "name": "stdout",
     "output_type": "stream",
     "text": [
      "val Loss: 0.8406, Acc: 0.7676\n",
      "Epoch 15 / 20\n",
      "--------------------------------------------------\n"
     ]
    },
    {
     "name": "stderr",
     "output_type": "stream",
     "text": [
      "100%|██████████| 167/167 [00:00<00:00, 1061.70it/s]\n"
     ]
    },
    {
     "name": "stdout",
     "output_type": "stream",
     "text": [
      "train Loss: 0.8262, Acc: 0.7669\n"
     ]
    },
    {
     "name": "stderr",
     "output_type": "stream",
     "text": [
      "100%|██████████| 1/1 [00:00<00:00, 142.66it/s]\n"
     ]
    },
    {
     "name": "stdout",
     "output_type": "stream",
     "text": [
      "val Loss: 0.8296, Acc: 0.7684\n",
      "Epoch 16 / 20\n",
      "--------------------------------------------------\n"
     ]
    },
    {
     "name": "stderr",
     "output_type": "stream",
     "text": [
      "100%|██████████| 167/167 [00:00<00:00, 1075.43it/s]\n"
     ]
    },
    {
     "name": "stdout",
     "output_type": "stream",
     "text": [
      "train Loss: 0.8153, Acc: 0.7669\n"
     ]
    },
    {
     "name": "stderr",
     "output_type": "stream",
     "text": [
      "100%|██████████| 1/1 [00:00<00:00, 137.06it/s]\n"
     ]
    },
    {
     "name": "stdout",
     "output_type": "stream",
     "text": [
      "val Loss: 0.8193, Acc: 0.7691\n",
      "Epoch 17 / 20\n",
      "--------------------------------------------------\n"
     ]
    },
    {
     "name": "stderr",
     "output_type": "stream",
     "text": [
      "100%|██████████| 167/167 [00:00<00:00, 1102.80it/s]\n"
     ]
    },
    {
     "name": "stdout",
     "output_type": "stream",
     "text": [
      "train Loss: 0.8050, Acc: 0.7669\n"
     ]
    },
    {
     "name": "stderr",
     "output_type": "stream",
     "text": [
      "100%|██████████| 1/1 [00:00<00:00, 139.17it/s]\n"
     ]
    },
    {
     "name": "stdout",
     "output_type": "stream",
     "text": [
      "val Loss: 0.8096, Acc: 0.7699\n",
      "Epoch 18 / 20\n",
      "--------------------------------------------------\n"
     ]
    },
    {
     "name": "stderr",
     "output_type": "stream",
     "text": [
      "100%|██████████| 167/167 [00:00<00:00, 1125.41it/s]\n"
     ]
    },
    {
     "name": "stdout",
     "output_type": "stream",
     "text": [
      "train Loss: 0.7954, Acc: 0.7673\n"
     ]
    },
    {
     "name": "stderr",
     "output_type": "stream",
     "text": [
      "100%|██████████| 1/1 [00:00<00:00, 150.19it/s]\n"
     ]
    },
    {
     "name": "stdout",
     "output_type": "stream",
     "text": [
      "val Loss: 0.8004, Acc: 0.7699\n",
      "Epoch 19 / 20\n",
      "--------------------------------------------------\n"
     ]
    },
    {
     "name": "stderr",
     "output_type": "stream",
     "text": [
      "100%|██████████| 167/167 [00:00<00:00, 1111.02it/s]\n"
     ]
    },
    {
     "name": "stdout",
     "output_type": "stream",
     "text": [
      "train Loss: 0.7863, Acc: 0.7677\n"
     ]
    },
    {
     "name": "stderr",
     "output_type": "stream",
     "text": [
      "100%|██████████| 1/1 [00:00<00:00,  9.61it/s]\n"
     ]
    },
    {
     "name": "stdout",
     "output_type": "stream",
     "text": [
      "val Loss: 0.7918, Acc: 0.7714\n",
      "Epoch 20 / 20\n",
      "--------------------------------------------------\n"
     ]
    },
    {
     "name": "stderr",
     "output_type": "stream",
     "text": [
      "100%|██████████| 167/167 [00:00<00:00, 1098.22it/s]\n"
     ]
    },
    {
     "name": "stdout",
     "output_type": "stream",
     "text": [
      "train Loss: 0.7776, Acc: 0.7680\n"
     ]
    },
    {
     "name": "stderr",
     "output_type": "stream",
     "text": [
      "100%|██████████| 1/1 [00:00<00:00, 137.15it/s]"
     ]
    },
    {
     "name": "stdout",
     "output_type": "stream",
     "text": [
      "val Loss: 0.7836, Acc: 0.7714\n"
     ]
    },
    {
     "name": "stderr",
     "output_type": "stream",
     "text": [
      "\n"
     ]
    }
   ],
   "source": [
    "result = train(model, dataloader, 20)"
   ]
  },
  {
   "cell_type": "markdown",
   "metadata": {},
   "source": [
    "# 77"
   ]
  },
  {
   "cell_type": "code",
   "execution_count": 29,
   "metadata": {},
   "outputs": [],
   "source": [
    "from tqdm import tqdm\n",
    "\n",
    "model = SP()"
   ]
  },
  {
   "cell_type": "code",
   "execution_count": 24,
   "metadata": {},
   "outputs": [],
   "source": [
    "import time\n",
    "def train(model, dataloader, num_epochs):\n",
    "    # 損失関数の定義\n",
    "    criterion = nn.CrossEntropyLoss()\n",
    "    # 最適化手法の定義\n",
    "    optimizer = torch.optim.SGD(model.parameters(), lr=0.01)\n",
    "    result = {'train':{'acc':[], 'loss':[]}, 'val':{'acc':[], 'loss':[]}}\n",
    "    for epoch in range(num_epochs):\n",
    "        start = time.time()\n",
    "        print(f'Epoch {epoch+1} / {num_epochs}')\n",
    "        print('-'*50)\n",
    "        \n",
    "        for phase in ['train', 'val']:\n",
    "            if phase == 'train':\n",
    "                model.train()\n",
    "            else:\n",
    "                model.eval()\n",
    "            \n",
    "            epoch_loss = 0.0\n",
    "            epoch_corrects = 0\n",
    "            \n",
    "            for inputs, labels in tqdm(dataloader[phase]):\n",
    "                optimizer.zero_grad()\n",
    "                # forward\n",
    "                with torch.set_grad_enabled(phase == 'train'):\n",
    "                    outputs = model(inputs)\n",
    "                    loss = criterion(outputs, labels) \n",
    "                    _, preds = torch.max(outputs, 1) \n",
    "                    # backward\n",
    "                    if phase == 'train':\n",
    "                        loss.backward()\n",
    "                        optimizer.step()\n",
    "                    epoch_loss += loss.item() * inputs.size(0)\n",
    "                    epoch_corrects += torch.sum(preds == labels.data)\n",
    "            # epochごとのlossと正解率の表示\n",
    "            epoch_loss = epoch_loss / len(dataloader[phase].dataset)\n",
    "            epoch_acc = epoch_corrects.double() / len(dataloader[phase].dataset)\n",
    "            result[phase]['loss'].append(epoch_loss)\n",
    "            result[phase]['acc'].append(epoch_acc)\n",
    "            \n",
    "        end = time.time()    \n",
    "        print(f'Loss: {epoch_loss}, Acc: {epoch_acc}, Time: {end-start:.4f}')"
   ]
  },
  {
   "cell_type": "code",
   "execution_count": 25,
   "metadata": {},
   "outputs": [],
   "source": [
    "def batch_train(model, bs, num_epochs):\n",
    "\n",
    "    train_dataloader = data.DataLoader(train_ds, batch_size=bs, shuffle=True)\n",
    "    valid_dataloader = data.DataLoader(valid_ds, batch_size=len(valid_ds), shuffle=True)\n",
    "    test_dataloader = data.DataLoader(test_ds, batch_size=len(test_ds), shuffle=True)\n",
    "\n",
    "    dataloader = {'train': train_dataloader,\n",
    "                'val': valid_dataloader,\n",
    "                'test': test_dataloader}\n",
    "    print(f'bs: {bs}')\n",
    "    train(model, dataloader, num_epochs)\n"
   ]
  },
  {
   "cell_type": "code",
   "execution_count": 35,
   "metadata": {},
   "outputs": [
    {
     "name": "stdout",
     "output_type": "stream",
     "text": [
      "bs: 1\n",
      "Epoch 1 / 1\n",
      "--------------------------------------------------\n"
     ]
    },
    {
     "name": "stderr",
     "output_type": "stream",
     "text": [
      "100%|██████████| 10672/10672 [00:03<00:00, 2959.63it/s]\n",
      "100%|██████████| 1/1 [00:00<00:00, 110.72it/s]\n"
     ]
    },
    {
     "name": "stdout",
     "output_type": "stream",
     "text": [
      "Loss: 0.6058570146560669, Acc: 0.7931034482758621, Time: 3.6201\n",
      "bs: 2\n",
      "Epoch 1 / 1\n",
      "--------------------------------------------------\n"
     ]
    },
    {
     "name": "stderr",
     "output_type": "stream",
     "text": [
      "100%|██████████| 5336/5336 [00:02<00:00, 2154.77it/s]\n",
      "100%|██████████| 1/1 [00:00<00:00, 115.95it/s]\n"
     ]
    },
    {
     "name": "stdout",
     "output_type": "stream",
     "text": [
      "Loss: 0.7095074653625488, Acc: 0.7736131934032984, Time: 2.4888\n",
      "bs: 4\n",
      "Epoch 1 / 1\n",
      "--------------------------------------------------\n"
     ]
    },
    {
     "name": "stderr",
     "output_type": "stream",
     "text": [
      "100%|██████████| 2668/2668 [00:01<00:00, 2135.81it/s]\n",
      "100%|██████████| 1/1 [00:00<00:00, 123.83it/s]\n"
     ]
    },
    {
     "name": "stdout",
     "output_type": "stream",
     "text": [
      "Loss: 0.820781946182251, Acc: 0.7691154422788605, Time: 1.2610\n",
      "bs: 8\n",
      "Epoch 1 / 1\n",
      "--------------------------------------------------\n"
     ]
    },
    {
     "name": "stderr",
     "output_type": "stream",
     "text": [
      "100%|██████████| 1334/1334 [00:00<00:00, 2046.91it/s]\n",
      "100%|██████████| 1/1 [00:00<00:00, 108.47it/s]\n"
     ]
    },
    {
     "name": "stdout",
     "output_type": "stream",
     "text": [
      "Loss: 0.9246547818183899, Acc: 0.7713643178410795, Time: 0.6645\n",
      "bs: 16\n",
      "Epoch 1 / 1\n",
      "--------------------------------------------------\n"
     ]
    },
    {
     "name": "stderr",
     "output_type": "stream",
     "text": [
      "100%|██████████| 667/667 [00:00<00:00, 1770.34it/s]\n",
      "100%|██████████| 1/1 [00:00<00:00, 122.79it/s]\n"
     ]
    },
    {
     "name": "stdout",
     "output_type": "stream",
     "text": [
      "Loss: 1.0258029699325562, Acc: 0.7593703148425787, Time: 0.3885\n",
      "bs: 32\n",
      "Epoch 1 / 1\n",
      "--------------------------------------------------\n"
     ]
    },
    {
     "name": "stderr",
     "output_type": "stream",
     "text": [
      "100%|██████████| 334/334 [00:00<00:00, 1413.38it/s]\n",
      "100%|██████████| 1/1 [00:00<00:00, 116.96it/s]\n"
     ]
    },
    {
     "name": "stdout",
     "output_type": "stream",
     "text": [
      "Loss: 1.1034893989562988, Acc: 0.7511244377811095, Time: 0.2484\n",
      "bs: 64\n",
      "Epoch 1 / 1\n",
      "--------------------------------------------------\n"
     ]
    },
    {
     "name": "stderr",
     "output_type": "stream",
     "text": [
      "100%|██████████| 167/167 [00:00<00:00, 1026.59it/s]\n",
      "100%|██████████| 1/1 [00:00<00:00, 126.93it/s]\n"
     ]
    },
    {
     "name": "stdout",
     "output_type": "stream",
     "text": [
      "Loss: 1.18662428855896, Acc: 0.7076461769115442, Time: 0.1743\n",
      "bs: 128\n",
      "Epoch 1 / 1\n",
      "--------------------------------------------------\n"
     ]
    },
    {
     "name": "stderr",
     "output_type": "stream",
     "text": [
      "100%|██████████| 84/84 [00:00<00:00, 756.85it/s]\n",
      "100%|██████████| 1/1 [00:00<00:00, 127.54it/s]\n"
     ]
    },
    {
     "name": "stdout",
     "output_type": "stream",
     "text": [
      "Loss: 1.261855959892273, Acc: 0.6041979010494752, Time: 0.1223\n",
      "bs: 256\n",
      "Epoch 1 / 1\n",
      "--------------------------------------------------\n"
     ]
    },
    {
     "name": "stderr",
     "output_type": "stream",
     "text": [
      "100%|██████████| 42/42 [00:00<00:00, 469.09it/s]\n",
      "100%|██████████| 1/1 [00:00<00:00, 120.15it/s]\n"
     ]
    },
    {
     "name": "stdout",
     "output_type": "stream",
     "text": [
      "Loss: 1.3307803869247437, Acc: 0.5134932533733133, Time: 0.1015\n",
      "bs: 512\n",
      "Epoch 1 / 1\n",
      "--------------------------------------------------\n"
     ]
    },
    {
     "name": "stderr",
     "output_type": "stream",
     "text": [
      "100%|██████████| 21/21 [00:00<00:00, 186.89it/s]\n",
      "100%|██████████| 1/1 [00:00<00:00, 127.53it/s]\n"
     ]
    },
    {
     "name": "stdout",
     "output_type": "stream",
     "text": [
      "Loss: 1.3668524026870728, Acc: 0.4325337331334333, Time: 0.1237\n",
      "bs: 1024\n",
      "Epoch 1 / 1\n",
      "--------------------------------------------------\n"
     ]
    },
    {
     "name": "stderr",
     "output_type": "stream",
     "text": [
      "100%|██████████| 11/11 [00:00<00:00, 165.01it/s]\n",
      "100%|██████████| 1/1 [00:00<00:00, 126.63it/s]"
     ]
    },
    {
     "name": "stdout",
     "output_type": "stream",
     "text": [
      "Loss: 1.3749229907989502, Acc: 0.3733133433283358, Time: 0.0783\n"
     ]
    },
    {
     "name": "stderr",
     "output_type": "stream",
     "text": [
      "\n"
     ]
    }
   ],
   "source": [
    "for bs in [2**i for i in range(11)]:\n",
    "    model = SP()\n",
    "    batch_train(model, bs, 1)"
   ]
  },
  {
   "cell_type": "markdown",
   "metadata": {},
   "source": [
    "# 78"
   ]
  },
  {
   "cell_type": "code",
   "execution_count": 21,
   "metadata": {},
   "outputs": [],
   "source": [
    "import time\n",
    "from tqdm import tqdm\n",
    "def train(model, dataloader, num_epochs):\n",
    "    model.to('cuda')\n",
    "    # 損失関数の定義\n",
    "    criterion = nn.CrossEntropyLoss()\n",
    "    # 最適化手法の定義\n",
    "    optimizer = torch.optim.SGD(model.parameters(), lr=0.01)\n",
    "    result = {'train':{'acc':[], 'loss':[]}, 'val':{'acc':[], 'loss':[]}}\n",
    "    for epoch in range(num_epochs):\n",
    "        start = time.time()\n",
    "        print(f'Epoch {epoch+1} / {num_epochs}')\n",
    "        print('-'*50)\n",
    "        \n",
    "        for phase in ['train', 'val']:\n",
    "            if phase == 'train':\n",
    "                model.train()\n",
    "            else:\n",
    "                model.eval()\n",
    "            \n",
    "            epoch_loss = 0.0\n",
    "            epoch_corrects = 0\n",
    "            \n",
    "            for inputs, labels in tqdm(dataloader[phase]):\n",
    "    \n",
    "                optimizer.zero_grad()\n",
    "                # forward\n",
    "                with torch.set_grad_enabled(phase == 'train'):\n",
    "                    outputs = model(inputs.to('cuda'))\n",
    "                    loss = criterion(outputs, labels.to('cuda')) \n",
    "                    _, preds = torch.max(outputs, 1) \n",
    "                    # backward\n",
    "                    if phase == 'train':\n",
    "                        loss.backward()\n",
    "                        optimizer.step()\n",
    "                    epoch_loss += loss.item() * inputs.size(0)\n",
    "                    epoch_corrects += torch.sum(preds == labels.to('cuda').data)\n",
    "            # epochごとのlossと正解率の表示\n",
    "            epoch_loss = epoch_loss / len(dataloader[phase].dataset)\n",
    "            epoch_acc = epoch_corrects.double() / len(dataloader[phase].dataset)\n",
    "            result[phase]['loss'].append(epoch_loss)\n",
    "            result[phase]['acc'].append(epoch_acc)\n",
    "            \n",
    "        end = time.time()    \n",
    "        print(f'Loss: {epoch_loss}, Acc: {epoch_acc}, Time: {end-start:.4f}')"
   ]
  },
  {
   "cell_type": "code",
   "execution_count": 17,
   "metadata": {},
   "outputs": [],
   "source": [
    "def batch_train(model, bs, num_epochs):\n",
    "\n",
    "    train_dataloader = data.DataLoader(train_ds, batch_size=bs, shuffle=True)\n",
    "    valid_dataloader = data.DataLoader(valid_ds, batch_size=len(valid_ds), shuffle=True)\n",
    "    test_dataloader = data.DataLoader(test_ds, batch_size=len(test_ds), shuffle=True)\n",
    "\n",
    "    dataloader = {'train': train_dataloader,\n",
    "                'val': valid_dataloader,\n",
    "                'test': test_dataloader}\n",
    "    print(f'bs: {bs}')\n",
    "    train(model, dataloader, num_epochs)\n"
   ]
  },
  {
   "cell_type": "code",
   "execution_count": 22,
   "metadata": {},
   "outputs": [
    {
     "name": "stdout",
     "output_type": "stream",
     "text": [
      "bs: 1\n",
      "Epoch 1 / 1\n",
      "--------------------------------------------------\n"
     ]
    },
    {
     "name": "stderr",
     "output_type": "stream",
     "text": [
      "100%|██████████| 10672/10672 [00:06<00:00, 1631.65it/s]\n",
      "100%|██████████| 1/1 [00:00<00:00, 40.69it/s]\n"
     ]
    },
    {
     "name": "stdout",
     "output_type": "stream",
     "text": [
      "Loss: 0.6070857048034668, Acc: 0.787856071964018, Time: 6.5718\n",
      "bs: 2\n",
      "Epoch 1 / 1\n",
      "--------------------------------------------------\n"
     ]
    },
    {
     "name": "stderr",
     "output_type": "stream",
     "text": [
      "100%|██████████| 5336/5336 [00:03<00:00, 1673.54it/s]\n",
      "100%|██████████| 1/1 [00:00<00:00, 118.07it/s]\n"
     ]
    },
    {
     "name": "stdout",
     "output_type": "stream",
     "text": [
      "Loss: 0.7101367712020874, Acc: 0.7728635682158921, Time: 3.2006\n",
      "bs: 4\n",
      "Epoch 1 / 1\n",
      "--------------------------------------------------\n"
     ]
    },
    {
     "name": "stderr",
     "output_type": "stream",
     "text": [
      "100%|██████████| 2668/2668 [00:01<00:00, 1645.72it/s]\n",
      "100%|██████████| 1/1 [00:00<00:00, 132.92it/s]\n"
     ]
    },
    {
     "name": "stdout",
     "output_type": "stream",
     "text": [
      "Loss: 0.8217602968215942, Acc: 0.7691154422788605, Time: 1.6319\n",
      "bs: 8\n",
      "Epoch 1 / 1\n",
      "--------------------------------------------------\n"
     ]
    },
    {
     "name": "stderr",
     "output_type": "stream",
     "text": [
      "100%|██████████| 1334/1334 [00:00<00:00, 1611.72it/s]\n",
      "100%|██████████| 1/1 [00:00<00:00, 124.48it/s]\n"
     ]
    },
    {
     "name": "stdout",
     "output_type": "stream",
     "text": [
      "Loss: 0.9309073686599731, Acc: 0.7683658170914542, Time: 0.8389\n",
      "bs: 16\n",
      "Epoch 1 / 1\n",
      "--------------------------------------------------\n"
     ]
    },
    {
     "name": "stderr",
     "output_type": "stream",
     "text": [
      "100%|██████████| 667/667 [00:00<00:00, 1501.57it/s]\n",
      "100%|██████████| 1/1 [00:00<00:00, 133.44it/s]\n"
     ]
    },
    {
     "name": "stdout",
     "output_type": "stream",
     "text": [
      "Loss: 1.020029902458191, Acc: 0.7638680659670165, Time: 0.4553\n",
      "bs: 32\n",
      "Epoch 1 / 1\n",
      "--------------------------------------------------\n"
     ]
    },
    {
     "name": "stderr",
     "output_type": "stream",
     "text": [
      "100%|██████████| 334/334 [00:00<00:00, 1391.70it/s]\n",
      "100%|██████████| 1/1 [00:00<00:00, 135.43it/s]\n"
     ]
    },
    {
     "name": "stdout",
     "output_type": "stream",
     "text": [
      "Loss: 1.0955619812011719, Acc: 0.7391304347826086, Time: 0.2510\n",
      "bs: 64\n",
      "Epoch 1 / 1\n",
      "--------------------------------------------------\n"
     ]
    },
    {
     "name": "stderr",
     "output_type": "stream",
     "text": [
      "100%|██████████| 167/167 [00:00<00:00, 1102.85it/s]\n",
      "100%|██████████| 1/1 [00:00<00:00, 116.82it/s]\n"
     ]
    },
    {
     "name": "stdout",
     "output_type": "stream",
     "text": [
      "Loss: 1.1842561960220337, Acc: 0.7481259370314842, Time: 0.1640\n",
      "bs: 128\n",
      "Epoch 1 / 1\n",
      "--------------------------------------------------\n"
     ]
    },
    {
     "name": "stderr",
     "output_type": "stream",
     "text": [
      "100%|██████████| 84/84 [00:00<00:00, 753.68it/s]\n",
      "100%|██████████| 1/1 [00:00<00:00, 127.53it/s]\n"
     ]
    },
    {
     "name": "stdout",
     "output_type": "stream",
     "text": [
      "Loss: 1.2618955373764038, Acc: 0.6619190404797601, Time: 0.1236\n",
      "bs: 256\n",
      "Epoch 1 / 1\n",
      "--------------------------------------------------\n"
     ]
    },
    {
     "name": "stderr",
     "output_type": "stream",
     "text": [
      "100%|██████████| 42/42 [00:00<00:00, 501.92it/s]\n",
      "100%|██████████| 1/1 [00:00<00:00, 127.44it/s]\n"
     ]
    },
    {
     "name": "stdout",
     "output_type": "stream",
     "text": [
      "Loss: 1.305203914642334, Acc: 0.45727136431784104, Time: 0.0955\n",
      "bs: 512\n",
      "Epoch 1 / 1\n",
      "--------------------------------------------------\n"
     ]
    },
    {
     "name": "stderr",
     "output_type": "stream",
     "text": [
      "100%|██████████| 21/21 [00:00<00:00, 316.70it/s]\n",
      "100%|██████████| 1/1 [00:00<00:00, 135.04it/s]\n"
     ]
    },
    {
     "name": "stdout",
     "output_type": "stream",
     "text": [
      "Loss: 1.3436200618743896, Acc: 0.4010494752623688, Time: 0.0772\n",
      "bs: 1024\n",
      "Epoch 1 / 1\n",
      "--------------------------------------------------\n"
     ]
    },
    {
     "name": "stderr",
     "output_type": "stream",
     "text": [
      "100%|██████████| 11/11 [00:00<00:00, 53.73it/s]\n",
      "100%|██████████| 1/1 [00:00<00:00, 139.76it/s]"
     ]
    },
    {
     "name": "stdout",
     "output_type": "stream",
     "text": [
      "Loss: 1.370417594909668, Acc: 0.46326836581709147, Time: 0.2153\n"
     ]
    },
    {
     "name": "stderr",
     "output_type": "stream",
     "text": [
      "\n"
     ]
    }
   ],
   "source": [
    "for bs in [2**i for i in range(11)]:\n",
    "    model = SP()\n",
    "    batch_train(model, bs, 1)"
   ]
  },
  {
   "cell_type": "markdown",
   "metadata": {},
   "source": [
    "# 79"
   ]
  },
  {
   "cell_type": "code",
   "execution_count": 23,
   "metadata": {},
   "outputs": [],
   "source": [
    "class MLP(nn.Module):\n",
    "    def __init__(self):\n",
    "        super().__init__()\n",
    "        self.l1 = nn.Linear(300,256)\n",
    "        self.l2 = nn.Linear(256,4)\n",
    "    def forward(self, x):\n",
    "        x = self.l1(x)\n",
    "        x = self.l2(x)\n",
    "        return x"
   ]
  },
  {
   "cell_type": "code",
   "execution_count": 27,
   "metadata": {},
   "outputs": [
    {
     "name": "stdout",
     "output_type": "stream",
     "text": [
      "bs: 64\n",
      "Epoch 1 / 20\n",
      "--------------------------------------------------\n"
     ]
    },
    {
     "name": "stderr",
     "output_type": "stream",
     "text": [
      "100%|██████████| 167/167 [00:00<00:00, 593.58it/s]\n",
      "100%|██████████| 1/1 [00:00<00:00, 75.71it/s]\n"
     ]
    },
    {
     "name": "stdout",
     "output_type": "stream",
     "text": [
      "Loss: 1.1774238348007202, Acc: 0.6671664167916042, Time: 0.2993\n",
      "Epoch 2 / 20\n",
      "--------------------------------------------------\n"
     ]
    },
    {
     "name": "stderr",
     "output_type": "stream",
     "text": [
      "100%|██████████| 167/167 [00:00<00:00, 588.84it/s]\n",
      "100%|██████████| 1/1 [00:00<00:00, 105.42it/s]\n"
     ]
    },
    {
     "name": "stdout",
     "output_type": "stream",
     "text": [
      "Loss: 1.1063263416290283, Acc: 0.7428785607196402, Time: 0.2973\n",
      "Epoch 3 / 20\n",
      "--------------------------------------------------\n"
     ]
    },
    {
     "name": "stderr",
     "output_type": "stream",
     "text": [
      "100%|██████████| 167/167 [00:00<00:00, 717.80it/s]\n",
      "100%|██████████| 1/1 [00:00<00:00, 61.28it/s]\n"
     ]
    },
    {
     "name": "stdout",
     "output_type": "stream",
     "text": [
      "Loss: 1.0564959049224854, Acc: 0.7533733133433284, Time: 0.2540\n",
      "Epoch 4 / 20\n",
      "--------------------------------------------------\n"
     ]
    },
    {
     "name": "stderr",
     "output_type": "stream",
     "text": [
      "100%|██████████| 167/167 [00:00<00:00, 740.89it/s]\n",
      "100%|██████████| 1/1 [00:00<00:00, 94.07it/s]\n"
     ]
    },
    {
     "name": "stdout",
     "output_type": "stream",
     "text": [
      "Loss: 1.0038681030273438, Acc: 0.7578710644677661, Time: 0.2414\n",
      "Epoch 5 / 20\n",
      "--------------------------------------------------\n"
     ]
    },
    {
     "name": "stderr",
     "output_type": "stream",
     "text": [
      "100%|██████████| 167/167 [00:00<00:00, 739.68it/s]\n",
      "100%|██████████| 1/1 [00:00<00:00, 111.42it/s]\n"
     ]
    },
    {
     "name": "stdout",
     "output_type": "stream",
     "text": [
      "Loss: 0.946979820728302, Acc: 0.7593703148425787, Time: 0.2393\n",
      "Epoch 6 / 20\n",
      "--------------------------------------------------\n"
     ]
    },
    {
     "name": "stderr",
     "output_type": "stream",
     "text": [
      "100%|██████████| 167/167 [00:00<00:00, 646.43it/s]\n",
      "100%|██████████| 1/1 [00:00<00:00, 105.19it/s]\n"
     ]
    },
    {
     "name": "stdout",
     "output_type": "stream",
     "text": [
      "Loss: 0.8907342553138733, Acc: 0.7661169415292354, Time: 0.2725\n",
      "Epoch 7 / 20\n",
      "--------------------------------------------------\n"
     ]
    },
    {
     "name": "stderr",
     "output_type": "stream",
     "text": [
      "100%|██████████| 167/167 [00:00<00:00, 644.84it/s]\n",
      "100%|██████████| 1/1 [00:00<00:00, 88.83it/s]\n"
     ]
    },
    {
     "name": "stdout",
     "output_type": "stream",
     "text": [
      "Loss: 0.8399379849433899, Acc: 0.7668665667166417, Time: 0.2748\n",
      "Epoch 8 / 20\n",
      "--------------------------------------------------\n"
     ]
    },
    {
     "name": "stderr",
     "output_type": "stream",
     "text": [
      "100%|██████████| 167/167 [00:00<00:00, 759.22it/s]\n",
      "100%|██████████| 1/1 [00:00<00:00, 122.47it/s]\n"
     ]
    },
    {
     "name": "stdout",
     "output_type": "stream",
     "text": [
      "Loss: 0.796894371509552, Acc: 0.7668665667166417, Time: 0.2329\n",
      "Epoch 9 / 20\n",
      "--------------------------------------------------\n"
     ]
    },
    {
     "name": "stderr",
     "output_type": "stream",
     "text": [
      "100%|██████████| 167/167 [00:00<00:00, 762.04it/s]\n",
      "100%|██████████| 1/1 [00:00<00:00, 120.54it/s]\n"
     ]
    },
    {
     "name": "stdout",
     "output_type": "stream",
     "text": [
      "Loss: 0.7615709900856018, Acc: 0.7706146926536732, Time: 0.2312\n",
      "Epoch 10 / 20\n",
      "--------------------------------------------------\n"
     ]
    },
    {
     "name": "stderr",
     "output_type": "stream",
     "text": [
      "100%|██████████| 167/167 [00:00<00:00, 638.62it/s]\n",
      "100%|██████████| 1/1 [00:00<00:00, 118.10it/s]\n"
     ]
    },
    {
     "name": "stdout",
     "output_type": "stream",
     "text": [
      "Loss: 0.7325827479362488, Acc: 0.7713643178410795, Time: 0.2739\n",
      "Epoch 11 / 20\n",
      "--------------------------------------------------\n"
     ]
    },
    {
     "name": "stderr",
     "output_type": "stream",
     "text": [
      "100%|██████████| 167/167 [00:00<00:00, 734.70it/s]\n",
      "100%|██████████| 1/1 [00:00<00:00, 118.66it/s]\n"
     ]
    },
    {
     "name": "stdout",
     "output_type": "stream",
     "text": [
      "Loss: 0.7087820768356323, Acc: 0.7721139430284858, Time: 0.2398\n",
      "Epoch 12 / 20\n",
      "--------------------------------------------------\n"
     ]
    },
    {
     "name": "stderr",
     "output_type": "stream",
     "text": [
      "100%|██████████| 167/167 [00:00<00:00, 737.92it/s]\n",
      "100%|██████████| 1/1 [00:00<00:00, 117.71it/s]\n"
     ]
    },
    {
     "name": "stdout",
     "output_type": "stream",
     "text": [
      "Loss: 0.6888009309768677, Acc: 0.7736131934032984, Time: 0.2387\n",
      "Epoch 13 / 20\n",
      "--------------------------------------------------\n"
     ]
    },
    {
     "name": "stderr",
     "output_type": "stream",
     "text": [
      "100%|██████████| 167/167 [00:00<00:00, 789.74it/s]\n",
      "100%|██████████| 1/1 [00:00<00:00, 111.99it/s]\n"
     ]
    },
    {
     "name": "stdout",
     "output_type": "stream",
     "text": [
      "Loss: 0.6719695925712585, Acc: 0.775112443778111, Time: 0.2248\n",
      "Epoch 14 / 20\n",
      "--------------------------------------------------\n"
     ]
    },
    {
     "name": "stderr",
     "output_type": "stream",
     "text": [
      "100%|██████████| 167/167 [00:00<00:00, 666.01it/s]\n",
      "100%|██████████| 1/1 [00:00<00:00, 11.36it/s]\n"
     ]
    },
    {
     "name": "stdout",
     "output_type": "stream",
     "text": [
      "Loss: 0.6571815609931946, Acc: 0.7773613193403298, Time: 0.3425\n",
      "Epoch 15 / 20\n",
      "--------------------------------------------------\n"
     ]
    },
    {
     "name": "stderr",
     "output_type": "stream",
     "text": [
      "100%|██████████| 167/167 [00:00<00:00, 716.16it/s]\n",
      "100%|██████████| 1/1 [00:00<00:00, 123.62it/s]\n"
     ]
    },
    {
     "name": "stdout",
     "output_type": "stream",
     "text": [
      "Loss: 0.6442015171051025, Acc: 0.7788605697151424, Time: 0.2451\n",
      "Epoch 16 / 20\n",
      "--------------------------------------------------\n"
     ]
    },
    {
     "name": "stderr",
     "output_type": "stream",
     "text": [
      "100%|██████████| 167/167 [00:00<00:00, 710.30it/s]\n",
      "100%|██████████| 1/1 [00:00<00:00, 103.44it/s]\n"
     ]
    },
    {
     "name": "stdout",
     "output_type": "stream",
     "text": [
      "Loss: 0.6326504349708557, Acc: 0.7781109445277361, Time: 0.2488\n",
      "Epoch 17 / 20\n",
      "--------------------------------------------------\n"
     ]
    },
    {
     "name": "stderr",
     "output_type": "stream",
     "text": [
      "100%|██████████| 167/167 [00:00<00:00, 697.03it/s]\n",
      "100%|██████████| 1/1 [00:00<00:00, 110.99it/s]\n"
     ]
    },
    {
     "name": "stdout",
     "output_type": "stream",
     "text": [
      "Loss: 0.6222600340843201, Acc: 0.7788605697151424, Time: 0.2525\n",
      "Epoch 18 / 20\n",
      "--------------------------------------------------\n"
     ]
    },
    {
     "name": "stderr",
     "output_type": "stream",
     "text": [
      "100%|██████████| 167/167 [00:00<00:00, 671.43it/s]\n",
      "100%|██████████| 1/1 [00:00<00:00, 108.36it/s]\n"
     ]
    },
    {
     "name": "stdout",
     "output_type": "stream",
     "text": [
      "Loss: 0.6126174330711365, Acc: 0.7796101949025487, Time: 0.2618\n",
      "Epoch 19 / 20\n",
      "--------------------------------------------------\n"
     ]
    },
    {
     "name": "stderr",
     "output_type": "stream",
     "text": [
      "100%|██████████| 167/167 [00:00<00:00, 701.27it/s]\n",
      "100%|██████████| 1/1 [00:00<00:00, 127.41it/s]\n"
     ]
    },
    {
     "name": "stdout",
     "output_type": "stream",
     "text": [
      "Loss: 0.6037106513977051, Acc: 0.780359820089955, Time: 0.2498\n",
      "Epoch 20 / 20\n",
      "--------------------------------------------------\n"
     ]
    },
    {
     "name": "stderr",
     "output_type": "stream",
     "text": [
      "100%|██████████| 167/167 [00:00<00:00, 752.51it/s]\n",
      "100%|██████████| 1/1 [00:00<00:00, 118.92it/s]"
     ]
    },
    {
     "name": "stdout",
     "output_type": "stream",
     "text": [
      "Loss: 0.5951867699623108, Acc: 0.7811094452773614, Time: 0.2341\n"
     ]
    },
    {
     "name": "stderr",
     "output_type": "stream",
     "text": [
      "\n"
     ]
    }
   ],
   "source": [
    "model = MLP()\n",
    "batch_train(model, 64, 20)"
   ]
  },
  {
   "cell_type": "code",
   "execution_count": null,
   "metadata": {},
   "outputs": [],
   "source": []
  }
 ],
 "metadata": {
  "kernelspec": {
   "display_name": "llm",
   "language": "python",
   "name": "python3"
  },
  "language_info": {
   "codemirror_mode": {
    "name": "ipython",
    "version": 3
   },
   "file_extension": ".py",
   "mimetype": "text/x-python",
   "name": "python",
   "nbconvert_exporter": "python",
   "pygments_lexer": "ipython3",
   "version": "3.10.11"
  },
  "orig_nbformat": 4
 },
 "nbformat": 4,
 "nbformat_minor": 2
}

{
 "cells": [
  {
   "attachments": {},
   "cell_type": "markdown",
   "metadata": {},
   "source": [
    "70. 単語ベクトルの和による特徴量Permalink"
   ]
  },
  {
   "cell_type": "code",
   "execution_count": 27,
   "metadata": {},
   "outputs": [],
   "source": [
    "import json\n",
    "import re\n",
    "import random\n",
    "import pandas as pd\n",
    "from sklearn.model_selection import train_test_split\n",
    "# データの読込\n",
    "df=pd.read_csv('NewsAggregatorDataset/newsCorpora.csv', header=None, sep='\\t', names=['ID', 'TITLE', 'URL', 'PUBLISHER', 'CATEGORY', 'STORY', 'HOSTNAME', 'TIMESTAMP'])\n",
    "#df[df['PUBLISHER']  == 'Reuters']\n",
    "df = df[df['PUBLISHER'].isin(['Reuters', 'Huffington Post', 'Businessweek', 'Contactmusic.com', 'Daily Mail'])]\n",
    "df = df[['TITLE','CATEGORY']]\n",
    "\n",
    "#分割はlist、ndarray、DataFrame\n",
    "\n",
    "train,valid_once=train_test_split(df,test_size=0.2,shuffle=True,random_state=100,stratify=df['CATEGORY'])\n",
    "valid,test=train_test_split(valid_once,test_size=0.5,shuffle=True,random_state=100,stratify=valid_once['CATEGORY'])"
   ]
  },
  {
   "cell_type": "code",
   "execution_count": 28,
   "metadata": {},
   "outputs": [],
   "source": [
    "from gensim.models import KeyedVectors\n",
    "model = KeyedVectors.load_word2vec_format('~/Desktop/ニューラル勉強会/hlab2023-nlp100/7/GoogleNews-vectors-negative300.bin', binary=True)"
   ]
  },
  {
   "cell_type": "code",
   "execution_count": 29,
   "metadata": {},
   "outputs": [],
   "source": [
    "import numpy as np\n",
    "from sklearn.feature_extraction.text import TfidfVectorizer\n",
    "from sklearn.model_selection import train_test_split\n",
    "import string\n",
    "import torch\n",
    "import torch.nn as nn"
   ]
  },
  {
   "cell_type": "code",
   "execution_count": 30,
   "metadata": {},
   "outputs": [
    {
     "name": "stdout",
     "output_type": "stream",
     "text": [
      "tensor([[-0.0200,  0.1468, -0.1442,  ..., -0.0660,  0.0160,  0.1448],\n",
      "        [-0.0325,  0.0205,  0.0668,  ..., -0.0393,  0.0037, -0.0476],\n",
      "        [ 0.0546, -0.0825, -0.0760,  ..., -0.0602,  0.0048, -0.0069],\n",
      "        ...,\n",
      "        [-0.0367,  0.0171, -0.0423,  ..., -0.0434,  0.0469,  0.0620],\n",
      "        [ 0.0225,  0.0613,  0.0038,  ..., -0.0829, -0.0349, -0.0185],\n",
      "        [-0.0289,  0.0737, -0.0573,  ..., -0.0636,  0.0144,  0.1008]])\n",
      "tensor([2, 0, 1,  ..., 0, 2, 2])\n"
     ]
    }
   ],
   "source": [
    "def processing(data):\n",
    "    x=[]\n",
    "    y=[]\n",
    "    label={'b':0,'t':1,'e':2,'m':3}\n",
    "    for title,categoly in data:\n",
    "        table = str.maketrans(string.punctuation, ' '*len(string.punctuation))\n",
    "        title = title.translate(table)  # 記号をスペースに置換\n",
    "        title = re.sub('[0-9]+','0',title)\n",
    "        title = title.lower()\n",
    "        title = title.split()\n",
    "        vec = [model[word] for word in title if word in model]\n",
    "        x.append(sum(vec) / len(vec))\n",
    "        y.append(label[categoly])\n",
    "    return torch.tensor(x),torch.tensor(y)\n",
    "\n",
    "train = np.array(train)\n",
    "valid = np.array(valid)\n",
    "test  = np.array(test)\n",
    "\n",
    "x_train, y_train = processing(train)\n",
    "x_valid, y_valid = processing(valid)\n",
    "x_test , y_test  = processing(test)\n",
    "\n",
    "torch.Size(x_train.size())\n",
    "print(x_train)\n",
    "print(y_train)\n"
   ]
  },
  {
   "attachments": {},
   "cell_type": "markdown",
   "metadata": {},
   "source": [
    "71. 単層ニューラルネットワークによる予測"
   ]
  },
  {
   "cell_type": "code",
   "execution_count": 31,
   "metadata": {},
   "outputs": [],
   "source": [
    "class SLPNet(nn.Module):\n",
    "    def __init__(self, input_size, output_size):\n",
    "        super().__init__()\n",
    "        self.fc = nn.Linear(input_size, output_size, bias=False)\n",
    "        nn.init.normal_(self.fc.weight, 0.0, 1.0)   #正規乱数で重みを初期化\n",
    "        #↑なくても問題ない，なんでいる？（無いとmodel(train)は均一に近い値になる）\n",
    "    \n",
    "    def forward(self, x):\n",
    "        logits = self.fc(x)\n",
    "        return logits"
   ]
  },
  {
   "cell_type": "code",
   "execution_count": 32,
   "metadata": {},
   "outputs": [
    {
     "name": "stdout",
     "output_type": "stream",
     "text": [
      "tensor([[-1.0368,  1.7777,  0.8214,  0.5145]], grad_fn=<AddmmBackward0>)\n",
      "tensor([[0.0347, 0.5790, 0.2225, 0.1637]], grad_fn=<SoftmaxBackward0>)\n",
      "tensor([[0.0347, 0.5790, 0.2225, 0.1637],\n",
      "        [0.1497, 0.4886, 0.2236, 0.1380],\n",
      "        [0.0493, 0.3584, 0.3407, 0.2516],\n",
      "        [0.1980, 0.2933, 0.1872, 0.3215]], grad_fn=<SoftmaxBackward0>)\n"
     ]
    }
   ],
   "source": [
    "torch.manual_seed(1)\n",
    "#model = SLPNet(300, 4)\n",
    "#わざわざSLNetを作る意味とは\n",
    "model = nn.Linear(300, 4)\n",
    "nn.init.normal_(model.weight, 0.0, 1.0)   #正規乱数で重みを初期化\n",
    "\n",
    "print(model(x_train[:1]))\n",
    "#そもそもマイナスに対してどうやってsoftmaxしてるのか不明\n",
    "\n",
    "#model()でも呼び出されるのはforward\n",
    "#なるべくforwardを直接使用するのは避ける\n",
    "y_hat_1 = torch.softmax(model(x_train[:1]), dim=-1)\n",
    "#dimとは→-2,0で列単位-1,1で行単位，なんで二個あるのかは知らん\n",
    "print(y_hat_1)\n",
    "Y_hat = torch.softmax(model(x_train[:4]), dim=-1)\n",
    "print(Y_hat)"
   ]
  },
  {
   "attachments": {},
   "cell_type": "markdown",
   "metadata": {},
   "source": [
    "72. 損失と勾配の計算"
   ]
  },
  {
   "cell_type": "code",
   "execution_count": 33,
   "metadata": {},
   "outputs": [],
   "source": [
    "criterion = nn.CrossEntropyLoss()"
   ]
  },
  {
   "cell_type": "code",
   "execution_count": 34,
   "metadata": {},
   "outputs": [
    {
     "name": "stdout",
     "output_type": "stream",
     "text": [
      "損失: 1.5027\n",
      "勾配:\n",
      "tensor([[-0.0007,  0.0051, -0.0050,  ..., -0.0023,  0.0006,  0.0050],\n",
      "        [-0.0116,  0.0850, -0.0835,  ..., -0.0382,  0.0093,  0.0838],\n",
      "        [ 0.0156, -0.1141,  0.1121,  ...,  0.0513, -0.0124, -0.1125],\n",
      "        [-0.0033,  0.0240, -0.0236,  ..., -0.0108,  0.0026,  0.0237]])\n"
     ]
    }
   ],
   "source": [
    "l_1 = criterion(model(x_train[:1]), y_train[:1])\n",
    "#入力ベクトルはsoftmax前の値\n",
    "#softmax後の値を入れたら，勾配が計算できなかった\n",
    "\n",
    "model.zero_grad()  # 勾配をゼロで初期化\n",
    "l_1.backward()  # 勾配を計算\n",
    "print(f'損失: {l_1:.4f}')\n",
    "print(f'勾配:\\n{model.weight.grad}')"
   ]
  },
  {
   "attachments": {},
   "cell_type": "markdown",
   "metadata": {},
   "source": [
    "73. 確率的勾配降下法による学習"
   ]
  },
  {
   "cell_type": "code",
   "execution_count": 35,
   "metadata": {},
   "outputs": [],
   "source": [
    "from torch.utils.data import Dataset\n",
    "\n",
    "class NewsDataset(Dataset):\n",
    "  def __init__(self, X, y):  # datasetの構成要素を指定\n",
    "    self.X = X\n",
    "    self.y = y\n",
    "\n",
    "  def __len__(self):  # len(dataset)で返す値を指定\n",
    "    return len(self.y)\n",
    "\n",
    "  def __getitem__(self, idx):  # dataset[idx]で返す値を指定\n",
    "    return [self.X[idx], self.y[idx]]"
   ]
  },
  {
   "cell_type": "code",
   "execution_count": 36,
   "metadata": {},
   "outputs": [],
   "source": [
    "from torch.utils.data import DataLoader\n",
    "\n",
    "dataset_train = NewsDataset(x_train, y_train)\n",
    "dataset_valid = NewsDataset(x_valid, y_valid)\n",
    "dataset_test = NewsDataset(x_test, y_test)\n",
    "\n",
    "# Dataloaderの作成\n",
    "dataloader_train = DataLoader(dataset_train, batch_size=1, shuffle=True)\n",
    "dataloader_valid = DataLoader(dataset_valid, batch_size=len(dataset_valid), shuffle=False)\n",
    "dataloader_test = DataLoader(dataset_test, batch_size=len(dataset_test), shuffle=False)\n",
    "#DataLoaderに必要なのは，Datasetオブジェクト，バッチサイズ，シャッフル\n",
    "#データセット：lenとgetitemを指定し，データへの一定のアクセス手法を提供する\n",
    "#バッチサイズ：？，何回にわけるか\n",
    "#シャッフル：エポックごとにデータをシャッフルするかどうか，学習はシャッフルあり，再現性の観点からtestはシャッフルなし"
   ]
  },
  {
   "cell_type": "code",
   "execution_count": null,
   "metadata": {},
   "outputs": [],
   "source": []
  },
  {
   "cell_type": "code",
   "execution_count": 37,
   "metadata": {},
   "outputs": [
    {
     "name": "stdout",
     "output_type": "stream",
     "text": [
      "<bound method Module.parameters of SLPNet(\n",
      "  (fc): Linear(in_features=300, out_features=4, bias=False)\n",
      ")>\n",
      "epoch: 1, loss_train: 0.5262, loss_valid: 0.3993\n",
      "epoch: 2, loss_train: 0.3627, loss_valid: 0.3552\n",
      "epoch: 3, loss_train: 0.3321, loss_valid: 0.3417\n",
      "epoch: 4, loss_train: 0.3159, loss_valid: 0.3337\n",
      "epoch: 5, loss_train: 0.3049, loss_valid: 0.3316\n",
      "epoch: 6, loss_train: 0.2970, loss_valid: 0.3330\n",
      "epoch: 7, loss_train: 0.2919, loss_valid: 0.3251\n",
      "epoch: 8, loss_train: 0.2862, loss_valid: 0.3232\n",
      "epoch: 9, loss_train: 0.2833, loss_valid: 0.3219\n",
      "epoch: 10, loss_train: 0.2795, loss_valid: 0.3198\n",
      "epoch: 11, loss_train: 0.2775, loss_valid: 0.3219\n",
      "epoch: 12, loss_train: 0.2753, loss_valid: 0.3162\n",
      "epoch: 13, loss_train: 0.2735, loss_valid: 0.3190\n",
      "epoch: 14, loss_train: 0.2717, loss_valid: 0.3189\n",
      "epoch: 15, loss_train: 0.2698, loss_valid: 0.3172\n"
     ]
    }
   ],
   "source": [
    "# モデルの定義\n",
    "model = SLPNet(300, 4)\n",
    "\n",
    "# 損失関数の定義\n",
    "criterion = nn.CrossEntropyLoss()\n",
    "\n",
    "print(model.parameters)\n",
    "\n",
    "#オプティマイザ：自動微分の結果を利用してモデルの更新を行うもの\n",
    "# オプティマイザの定義\n",
    "optimizer = torch.optim.SGD(model.parameters(), lr=1e-1)#model.parametersとはなにか\n",
    "\n",
    "# 学習\n",
    "num_epochs = 15\n",
    "for epoch in range(num_epochs):\n",
    "  # 訓練モードに設定\n",
    "  model.train()\n",
    "  loss_train = 0.0\n",
    "  for i, (inputs, labels) in enumerate(dataloader_train):\n",
    "    # 勾配をゼロで初期化\n",
    "    optimizer.zero_grad()\n",
    "\n",
    "    # 順伝播 + 誤差逆伝播 + 重み更新\n",
    "    outputs = model(inputs)\n",
    "    loss = criterion(outputs, labels)\n",
    "    loss.backward()\n",
    "    optimizer.step()\n",
    "\n",
    "    # 損失を記録\n",
    "    loss_train += loss.item()\n",
    " \n",
    "  # バッチ単位の平均損失計算\n",
    "  loss_train = loss_train / i\n",
    "\n",
    "  # 検証データの損失計算\n",
    "  model.eval() \n",
    "  with torch.no_grad():\n",
    "    inputs, labels = next(iter(dataloader_valid))\n",
    "    outputs = model(inputs)\n",
    "    loss_valid = criterion(outputs, labels)\n",
    "\n",
    "  # ログを出力\n",
    "  print(f'epoch: {epoch + 1}, loss_train: {loss_train:.4f}, loss_valid: {loss_valid:.4f}')  "
   ]
  },
  {
   "attachments": {},
   "cell_type": "markdown",
   "metadata": {},
   "source": [
    "74. 正解率の計測"
   ]
  },
  {
   "cell_type": "code",
   "execution_count": 38,
   "metadata": {},
   "outputs": [
    {
     "name": "stdout",
     "output_type": "stream",
     "text": [
      "正解率（学習データ）：0.912\n",
      "正解率（評価データ）：0.886\n"
     ]
    }
   ],
   "source": [
    "def calculate_accuracy(model, loader):\n",
    "  model.eval()\n",
    "  total = 0\n",
    "  correct = 0\n",
    "  with torch.no_grad():\n",
    "    for inputs, labels in loader:\n",
    "      outputs = model(inputs)\n",
    "      pred = torch.argmax(outputs, dim=-1)\n",
    "      total += len(inputs)\n",
    "      correct += (pred == labels).sum().item()\n",
    "      \n",
    "  return correct / total\n",
    "\n",
    "acc_train = calculate_accuracy(model, dataloader_train)\n",
    "acc_test = calculate_accuracy(model, dataloader_test)\n",
    "print(f'正解率（学習データ）：{acc_train:.3f}')\n",
    "print(f'正解率（評価データ）：{acc_test:.3f}')"
   ]
  },
  {
   "attachments": {},
   "cell_type": "markdown",
   "metadata": {},
   "source": [
    "75. 損失と正解率のプロットPermalink"
   ]
  },
  {
   "cell_type": "code",
   "execution_count": 39,
   "metadata": {},
   "outputs": [
    {
     "name": "stdout",
     "output_type": "stream",
     "text": [
      "epoch: 1, loss_train: 0.3806, accuracy_train: 0.8695, loss_valid: 0.3817, accuracy_valid: 0.8756\n",
      "epoch: 2, loss_train: 0.3328, accuracy_train: 0.8858, loss_valid: 0.3477, accuracy_valid: 0.8823\n",
      "epoch: 3, loss_train: 0.3130, accuracy_train: 0.8924, loss_valid: 0.3382, accuracy_valid: 0.8853\n",
      "epoch: 4, loss_train: 0.3011, accuracy_train: 0.8959, loss_valid: 0.3285, accuracy_valid: 0.8913\n",
      "epoch: 5, loss_train: 0.2923, accuracy_train: 0.9005, loss_valid: 0.3239, accuracy_valid: 0.8913\n",
      "epoch: 6, loss_train: 0.2870, accuracy_train: 0.9030, loss_valid: 0.3200, accuracy_valid: 0.8883\n",
      "epoch: 7, loss_train: 0.2809, accuracy_train: 0.9048, loss_valid: 0.3198, accuracy_valid: 0.8906\n",
      "epoch: 8, loss_train: 0.2768, accuracy_train: 0.9052, loss_valid: 0.3193, accuracy_valid: 0.8883\n",
      "epoch: 9, loss_train: 0.2729, accuracy_train: 0.9074, loss_valid: 0.3180, accuracy_valid: 0.8951\n",
      "epoch: 10, loss_train: 0.2704, accuracy_train: 0.9088, loss_valid: 0.3156, accuracy_valid: 0.8951\n",
      "epoch: 11, loss_train: 0.2681, accuracy_train: 0.9097, loss_valid: 0.3156, accuracy_valid: 0.8928\n",
      "epoch: 12, loss_train: 0.2660, accuracy_train: 0.9096, loss_valid: 0.3141, accuracy_valid: 0.8951\n",
      "epoch: 13, loss_train: 0.2675, accuracy_train: 0.9079, loss_valid: 0.3157, accuracy_valid: 0.8943\n",
      "epoch: 14, loss_train: 0.2626, accuracy_train: 0.9102, loss_valid: 0.3146, accuracy_valid: 0.8936\n",
      "epoch: 15, loss_train: 0.2609, accuracy_train: 0.9110, loss_valid: 0.3141, accuracy_valid: 0.8981\n",
      "epoch: 16, loss_train: 0.2597, accuracy_train: 0.9114, loss_valid: 0.3149, accuracy_valid: 0.8928\n",
      "epoch: 17, loss_train: 0.2595, accuracy_train: 0.9114, loss_valid: 0.3182, accuracy_valid: 0.8973\n",
      "epoch: 18, loss_train: 0.2595, accuracy_train: 0.9121, loss_valid: 0.3208, accuracy_valid: 0.8958\n",
      "epoch: 19, loss_train: 0.2576, accuracy_train: 0.9118, loss_valid: 0.3190, accuracy_valid: 0.8943\n",
      "epoch: 20, loss_train: 0.2683, accuracy_train: 0.9073, loss_valid: 0.3219, accuracy_valid: 0.8906\n",
      "epoch: 21, loss_train: 0.2562, accuracy_train: 0.9124, loss_valid: 0.3195, accuracy_valid: 0.8966\n",
      "epoch: 22, loss_train: 0.2551, accuracy_train: 0.9140, loss_valid: 0.3176, accuracy_valid: 0.8928\n",
      "epoch: 23, loss_train: 0.2551, accuracy_train: 0.9137, loss_valid: 0.3202, accuracy_valid: 0.8936\n",
      "epoch: 24, loss_train: 0.2547, accuracy_train: 0.9134, loss_valid: 0.3177, accuracy_valid: 0.8943\n",
      "epoch: 25, loss_train: 0.2533, accuracy_train: 0.9141, loss_valid: 0.3177, accuracy_valid: 0.8966\n",
      "epoch: 26, loss_train: 0.2591, accuracy_train: 0.9101, loss_valid: 0.3223, accuracy_valid: 0.8898\n",
      "epoch: 27, loss_train: 0.2540, accuracy_train: 0.9128, loss_valid: 0.3201, accuracy_valid: 0.8973\n",
      "epoch: 28, loss_train: 0.2531, accuracy_train: 0.9140, loss_valid: 0.3241, accuracy_valid: 0.8966\n",
      "epoch: 29, loss_train: 0.2528, accuracy_train: 0.9141, loss_valid: 0.3200, accuracy_valid: 0.8943\n",
      "epoch: 30, loss_train: 0.2513, accuracy_train: 0.9139, loss_valid: 0.3231, accuracy_valid: 0.8936\n"
     ]
    },
    {
     "data": {
      "image/png": "[encoded data removed]",
      "text/plain": [
       "<Figure size 1500x500 with 2 Axes>"
      ]
     },
     "metadata": {},
     "output_type": "display_data"
    }
   ],
   "source": [
    "def calculate_loss_and_accuracy(model, criterion, loader):\n",
    "  model.eval()\n",
    "  loss = 0.0\n",
    "  total = 0\n",
    "  correct = 0\n",
    "  with torch.no_grad():\n",
    "    for inputs, labels in loader:\n",
    "      outputs = model(inputs)\n",
    "      loss += criterion(outputs, labels).item()\n",
    "      pred = torch.argmax(outputs, dim=-1)\n",
    "      total += len(inputs)\n",
    "      correct += (pred == labels).sum().item()\n",
    "      \n",
    "  return loss / len(loader), correct / total\n",
    "# モデルの定義\n",
    "model = SLPNet(300, 4)\n",
    "\n",
    "# 損失関数の定義\n",
    "criterion = nn.CrossEntropyLoss()\n",
    "\n",
    "# オプティマイザの定義\n",
    "optimizer = torch.optim.SGD(model.parameters(), lr=1e-1)\n",
    "\n",
    "# 学習\n",
    "num_epochs = 30\n",
    "log_train = []\n",
    "log_valid = []\n",
    "for epoch in range(num_epochs):\n",
    "  # 訓練モードに設定\n",
    "  model.train()\n",
    "  for inputs, labels in dataloader_train:\n",
    "    # 勾配をゼロで初期化\n",
    "    optimizer.zero_grad()\n",
    "\n",
    "    # 順伝播 + 誤差逆伝播 + 重み更新\n",
    "    outputs = model(inputs)\n",
    "    loss = criterion(outputs, labels)\n",
    "    loss.backward()\n",
    "    optimizer.step()\n",
    "\n",
    "  # 損失と正解率の算出\n",
    "  loss_train, acc_train = calculate_loss_and_accuracy(model, criterion, dataloader_train)\n",
    "  loss_valid, acc_valid = calculate_loss_and_accuracy(model, criterion, dataloader_valid)\n",
    "  log_train.append([loss_train, acc_train])\n",
    "  log_valid.append([loss_valid, acc_valid])\n",
    "\n",
    "  # ログを出力\n",
    "  print(f'epoch: {epoch + 1}, loss_train: {loss_train:.4f}, accuracy_train: {acc_train:.4f}, loss_valid: {loss_valid:.4f}, accuracy_valid: {acc_valid:.4f}') \n",
    "\n",
    "from matplotlib import pyplot as plt\n",
    "\n",
    "# 視覚化\n",
    "fig, ax = plt.subplots(1, 2, figsize=(15, 5))\n",
    "ax[0].plot(np.array(log_train).T[0], label='train')\n",
    "ax[0].plot(np.array(log_valid).T[0], label='valid')\n",
    "ax[0].set_xlabel('epoch')\n",
    "ax[0].set_ylabel('loss')\n",
    "ax[0].legend()\n",
    "ax[1].plot(np.array(log_train).T[1], label='train')\n",
    "ax[1].plot(np.array(log_valid).T[1], label='valid')\n",
    "ax[1].set_xlabel('epoch')\n",
    "ax[1].set_ylabel('accuracy')\n",
    "ax[1].legend()\n",
    "plt.show()"
   ]
  },
  {
   "attachments": {},
   "cell_type": "markdown",
   "metadata": {},
   "source": [
    "76. チェックポイントPermalink"
   ]
  },
  {
   "cell_type": "code",
   "execution_count": 40,
   "metadata": {},
   "outputs": [
    {
     "name": "stdout",
     "output_type": "stream",
     "text": [
      "epoch: 1, loss_train: 0.3896, accuracy_train: 0.8686, loss_valid: 0.3949, accuracy_valid: 0.8718\n",
      "epoch: 2, loss_train: 0.3407, accuracy_train: 0.8846, loss_valid: 0.3600, accuracy_valid: 0.8808\n",
      "epoch: 3, loss_train: 0.3193, accuracy_train: 0.8911, loss_valid: 0.3458, accuracy_valid: 0.8868\n",
      "epoch: 4, loss_train: 0.3052, accuracy_train: 0.8945, loss_valid: 0.3385, accuracy_valid: 0.8846\n",
      "epoch: 5, loss_train: 0.2953, accuracy_train: 0.9016, loss_valid: 0.3306, accuracy_valid: 0.8868\n",
      "epoch: 6, loss_train: 0.2896, accuracy_train: 0.8994, loss_valid: 0.3314, accuracy_valid: 0.8883\n",
      "epoch: 7, loss_train: 0.2833, accuracy_train: 0.9025, loss_valid: 0.3269, accuracy_valid: 0.8921\n",
      "epoch: 8, loss_train: 0.2817, accuracy_train: 0.9047, loss_valid: 0.3288, accuracy_valid: 0.8861\n",
      "epoch: 9, loss_train: 0.2753, accuracy_train: 0.9074, loss_valid: 0.3219, accuracy_valid: 0.8921\n",
      "epoch: 10, loss_train: 0.2722, accuracy_train: 0.9070, loss_valid: 0.3216, accuracy_valid: 0.8921\n"
     ]
    }
   ],
   "source": [
    "# モデルの定義\n",
    "model = SLPNet(300, 4)\n",
    "\n",
    "# 損失関数の定義\n",
    "criterion = nn.CrossEntropyLoss()\n",
    "\n",
    "# オプティマイザの定義\n",
    "optimizer = torch.optim.SGD(model.parameters(), lr=1e-1)\n",
    "\n",
    "# 学習\n",
    "num_epochs = 10\n",
    "log_train = []\n",
    "log_valid = []\n",
    "for epoch in range(num_epochs):\n",
    "  # 訓練モードに設定\n",
    "  model.train()\n",
    "  for inputs, labels in dataloader_train:\n",
    "    # 勾配をゼロで初期化\n",
    "    optimizer.zero_grad()\n",
    "\n",
    "    # 順伝播 + 誤差逆伝播 + 重み更新\n",
    "    outputs = model(inputs)\n",
    "    loss = criterion(outputs, labels)\n",
    "    loss.backward()\n",
    "    optimizer.step()\n",
    " \n",
    "  # 損失と正解率の算出\n",
    "  loss_train, acc_train = calculate_loss_and_accuracy(model, criterion, dataloader_train)\n",
    "  loss_valid, acc_valid = calculate_loss_and_accuracy(model, criterion, dataloader_valid)\n",
    "  log_train.append([loss_train, acc_train])\n",
    "  log_valid.append([loss_valid, acc_valid])\n",
    "\n",
    "  # チェックポイントの保存\n",
    "  torch.save({'epoch': epoch, 'model_state_dict': model.state_dict(), 'optimizer_state_dict': optimizer.state_dict()}, f'checkpoint{epoch + 1}.pt')\n",
    "\n",
    "  # ログを出力\n",
    "  print(f'epoch: {epoch + 1}, loss_train: {loss_train:.4f}, accuracy_train: {acc_train:.4f}, loss_valid: {loss_valid:.4f}, accuracy_valid: {acc_valid:.4f}')"
   ]
  },
  {
   "attachments": {},
   "cell_type": "markdown",
   "metadata": {},
   "source": [
    "77. ミニバッチ化"
   ]
  },
  {
   "cell_type": "code",
   "execution_count": 41,
   "metadata": {},
   "outputs": [
    {
     "name": "stdout",
     "output_type": "stream",
     "text": [
      "バッチサイズ: 1\n",
      "epoch: 1, loss_train: 0.3813, accuracy_train: 0.8686, loss_valid: 0.3867, accuracy_valid: 0.8748, 0.8783sec\n",
      "バッチサイズ: 2\n",
      "epoch: 1, loss_train: 0.3524, accuracy_train: 0.8788, loss_valid: 0.3620, accuracy_valid: 0.8793, 0.5396sec\n",
      "バッチサイズ: 4\n",
      "epoch: 1, loss_train: 0.3434, accuracy_train: 0.8833, loss_valid: 0.3552, accuracy_valid: 0.8868, 0.3286sec\n",
      "バッチサイズ: 8\n",
      "epoch: 1, loss_train: 0.3392, accuracy_train: 0.8855, loss_valid: 0.3525, accuracy_valid: 0.8868, 0.2422sec\n",
      "バッチサイズ: 16\n",
      "epoch: 1, loss_train: 0.3374, accuracy_train: 0.8862, loss_valid: 0.3511, accuracy_valid: 0.8868, 0.1497sec\n",
      "バッチサイズ: 32\n",
      "epoch: 1, loss_train: 0.3363, accuracy_train: 0.8866, loss_valid: 0.3505, accuracy_valid: 0.8868, 0.1011sec\n",
      "バッチサイズ: 64\n",
      "epoch: 1, loss_train: 0.3362, accuracy_train: 0.8870, loss_valid: 0.3503, accuracy_valid: 0.8876, 0.0788sec\n",
      "バッチサイズ: 128\n",
      "epoch: 1, loss_train: 0.3360, accuracy_train: 0.8870, loss_valid: 0.3502, accuracy_valid: 0.8876, 0.0696sec\n",
      "バッチサイズ: 256\n",
      "epoch: 1, loss_train: 0.3354, accuracy_train: 0.8870, loss_valid: 0.3501, accuracy_valid: 0.8876, 0.0623sec\n",
      "バッチサイズ: 512\n",
      "epoch: 1, loss_train: 0.3359, accuracy_train: 0.8870, loss_valid: 0.3501, accuracy_valid: 0.8876, 0.1155sec\n",
      "バッチサイズ: 1024\n",
      "epoch: 1, loss_train: 0.3356, accuracy_train: 0.8869, loss_valid: 0.3501, accuracy_valid: 0.8876, 0.0601sec\n"
     ]
    }
   ],
   "source": [
    "import time\n",
    "\n",
    "def train_model(dataset_train, dataset_valid, batch_size, model, criterion, optimizer, num_epochs):\n",
    "  # dataloaderの作成\n",
    "  dataloader_train = DataLoader(dataset_train, batch_size=batch_size, shuffle=True)\n",
    "  dataloader_valid = DataLoader(dataset_valid, batch_size=len(dataset_valid), shuffle=False)\n",
    "\n",
    "  # 学習\n",
    "  log_train = []\n",
    "  log_valid = []\n",
    "  for epoch in range(num_epochs):\n",
    "    # 開始時刻の記録\n",
    "    s_time = time.time()\n",
    "\n",
    "    # 訓練モードに設定\n",
    "    model.train()\n",
    "    for inputs, labels in dataloader_train:\n",
    "      # 勾配をゼロで初期化\n",
    "      optimizer.zero_grad()\n",
    "\n",
    "      # 順伝播 + 誤差逆伝播 + 重み更新\n",
    "      outputs = model(inputs)\n",
    "      loss = criterion(outputs, labels)\n",
    "      loss.backward()\n",
    "      optimizer.step()\n",
    "  \n",
    "    # 損失と正解率の算出\n",
    "    loss_train, acc_train = calculate_loss_and_accuracy(model, criterion, dataloader_train)\n",
    "    loss_valid, acc_valid = calculate_loss_and_accuracy(model, criterion, dataloader_valid)\n",
    "    log_train.append([loss_train, acc_train])\n",
    "    log_valid.append([loss_valid, acc_valid])\n",
    "\n",
    "    # チェックポイントの保存\n",
    "    torch.save({'epoch': epoch, 'model_state_dict': model.state_dict(), 'optimizer_state_dict': optimizer.state_dict()}, f'checkpoint{epoch + 1}.pt')\n",
    "\n",
    "    # 終了時刻の記録\n",
    "    e_time = time.time()\n",
    "\n",
    "    # ログを出力\n",
    "    print(f'epoch: {epoch + 1}, loss_train: {loss_train:.4f}, accuracy_train: {acc_train:.4f}, loss_valid: {loss_valid:.4f}, accuracy_valid: {acc_valid:.4f}, {(e_time - s_time):.4f}sec') \n",
    "\n",
    "  return {'train': log_train, 'valid': log_valid}\n",
    "# datasetの作成\n",
    "dataset_train = NewsDataset(x_train, y_train)\n",
    "dataset_valid = NewsDataset(x_valid, y_valid)\n",
    "\n",
    "# モデルの定義\n",
    "model = SLPNet(300, 4)\n",
    "\n",
    "# 損失関数の定義\n",
    "criterion = nn.CrossEntropyLoss()\n",
    "\n",
    "# オプティマイザの定義\n",
    "optimizer = torch.optim.SGD(model.parameters(), lr=1e-1)\n",
    "\n",
    "# モデルの学習\n",
    "for batch_size in [2 ** i for i in range(11)]:\n",
    "  print(f'バッチサイズ: {batch_size}')\n",
    "  log = train_model(dataset_train, dataset_valid, batch_size, model, criterion, optimizer, 1)\n",
    "\n",
    "#バッチサイズ1の時が性能低め，一回だけの学習ならばバッチサイズは大きい方がいい？"
   ]
  },
  {
   "attachments": {},
   "cell_type": "markdown",
   "metadata": {},
   "source": [
    "78. GPU上での学習"
   ]
  },
  {
   "cell_type": "code",
   "execution_count": null,
   "metadata": {},
   "outputs": [],
   "source": []
  },
  {
   "attachments": {},
   "cell_type": "markdown",
   "metadata": {},
   "source": [
    "79. 多層ニューラルネットワーク"
   ]
  },
  {
   "cell_type": "code",
   "execution_count": null,
   "metadata": {},
   "outputs": [],
   "source": []
  }
 ],
 "metadata": {
  "kernelspec": {
   "display_name": "base",
   "language": "python",
   "name": "python3"
  },
  "language_info": {
   "codemirror_mode": {
    "name": "ipython",
    "version": 3
   },
   "file_extension": ".py",
   "mimetype": "text/x-python",
   "name": "python",
   "nbconvert_exporter": "python",
   "pygments_lexer": "ipython3",
   "version": "3.10.10"
  },
  "orig_nbformat": 4
 },
 "nbformat": 4,
 "nbformat_minor": 2
}

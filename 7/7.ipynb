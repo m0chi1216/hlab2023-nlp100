{
 "cells": [
  {
   "cell_type": "code",
   "execution_count": null,
   "metadata": {},
   "outputs": [],
   "source": []
  },
  {
   "cell_type": "code",
   "execution_count": 1,
   "metadata": {},
   "outputs": [
    {
     "name": "stderr",
     "output_type": "stream",
     "text": [
      "/Users/haruhisaiseno/miniconda3/lib/python3.10/site-packages/sklearn/cluster/_kmeans.py:870: FutureWarning: The default value of `n_init` will change from 10 to 'auto' in 1.4. Set the value of `n_init` explicitly to suppress the warning\n",
      "  warnings.warn(\n"
     ]
    },
    {
     "name": "stdout",
     "output_type": "stream",
     "text": [
      "{'Canada': 4, 'Romania': 3, 'Bulgaria': 3, 'Poland': 3, 'Cambodia': 2, 'Ukraine': 1, 'Hungary': 3, 'Sweden': 4, 'Algeria': 0, 'Macedonia': 3, 'Armenia': 1, 'Lithuania': 3, 'Iran': 1, 'India': 4, 'Vietnam': 2, 'Croatia': 3, 'Latvia': 3, 'Argentina': 0, 'Mexico': 0, 'Malaysia': 4, 'Nigeria': 0, 'Russia': 1, 'Europe': 4, 'USA': 4, 'Thailand': 2, 'Denmark': 4, 'Angola': 0, 'Japan': 4, 'Brazil': 0, 'Korea': 4}\n"
     ]
    }
   ],
   "source": [
    "#question-words-add2は他の人からもらってきたやつ\n",
    "from gensim.models import KeyedVectors\n",
    "from sklearn.cluster import KMeans\n",
    "\n",
    "model = KeyedVectors.load_word2vec_format('GoogleNews-vectors-negative300.bin', binary=True)\n",
    "cu = set()\n",
    "with open('./questions-words-add2.txt', 'r') as f:\n",
    "  for line in f:\n",
    "    line = line.split()\n",
    "    if line[0]=='currency':\n",
    "      cu.add(line[1])\n",
    "      cu.add(line[3])\n",
    "\n",
    "countries = list(cu)\n",
    "countries_vec=[model[i] for i in countries]\n",
    "\n",
    "kmeans = KMeans(n_clusters=5) #, max_iter=30, init=\"random\", n_jobs=-1\n",
    "kmeans.fit(countries_vec)\n",
    "clusters = kmeans.predict(countries_vec)\n",
    "\n",
    "group = dict(zip(countries,clusters))\n",
    "'''\n",
    "group0 = []\n",
    "group1 = []\n",
    "group2 = []\n",
    "group3 = []\n",
    "group4 = []\n",
    "for i in countries:\n",
    "  matchword = group[i]\n",
    "  match matchword:\n",
    "    case 0:\n",
    "      group0.append(i)\n",
    "    case 1:\n",
    "      group1.append(i)\n",
    "    case 2:\n",
    "      group2.append(i)\n",
    "    case 3:\n",
    "      group3.append(i)\n",
    "    case 4:\n",
    "      group4.append(i)\n",
    "    \n",
    "print('group0')\n",
    "print(group0)\n",
    "print('group1')\n",
    "print(group1)\n",
    "print('group2')\n",
    "print(group2)\n",
    "print('group3')\n",
    "print(group3)\n",
    "print('group4')\n",
    "print(group4)\n",
    "'''\n",
    "print(group)"
   ]
  },
  {
   "cell_type": "code",
   "execution_count": null,
   "metadata": {},
   "outputs": [],
   "source": []
  },
  {
   "cell_type": "code",
   "execution_count": null,
   "metadata": {},
   "outputs": [],
   "source": []
  },
  {
   "cell_type": "code",
   "execution_count": null,
   "metadata": {},
   "outputs": [],
   "source": []
  },
  {
   "attachments": {},
   "cell_type": "markdown",
   "metadata": {},
   "source": []
  }
 ],
 "metadata": {
  "kernelspec": {
   "display_name": "Python 3",
   "language": "python",
   "name": "python3"
  },
  "language_info": {
   "codemirror_mode": {
    "name": "ipython",
    "version": 3
   },
   "file_extension": ".py",
   "mimetype": "text/x-python",
   "name": "python",
   "nbconvert_exporter": "python",
   "pygments_lexer": "ipython3",
   "version": "3.10.10"
  },
  "orig_nbformat": 4
 },
 "nbformat": 4,
 "nbformat_minor": 2
}

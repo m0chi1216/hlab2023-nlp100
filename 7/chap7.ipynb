{
 "cells": [
  {
   "attachments": {},
   "cell_type": "markdown",
   "metadata": {},
   "source": [
    "# 第7章: 単語ベクトル\n",
    "単語の意味を実ベクトルで表現する単語ベクトル（単語埋め込み）に関して，以下の処理を行うプログラムを作成せよ．"
   ]
  },
  {
   "attachments": {},
   "cell_type": "markdown",
   "metadata": {},
   "source": [
    "# 60 単語ベクトルの読み込みと表示\n",
    "Google Newsデータセット（約1,000億単語）での学習済み単語ベクトル（300万単語・フレーズ，300次元）をダウンロードし，”United States”の単語ベクトルを表示せよ．ただし，”United States”は内部的には”United_States”と表現されていることに注意せよ．"
   ]
  },
  {
   "cell_type": "code",
   "execution_count": 2,
   "metadata": {},
   "outputs": [],
   "source": [
    "from gensim.models import KeyedVectors\n",
    "model = KeyedVectors.load_word2vec_format('GoogleNews-vectors-negative300.bin.gz', binary=True)"
   ]
  },
  {
   "cell_type": "code",
   "execution_count": 3,
   "metadata": {},
   "outputs": [
    {
     "name": "stdout",
     "output_type": "stream",
     "text": [
      "[-3.61328125e-02 -4.83398438e-02  2.35351562e-01  1.74804688e-01\n",
      " -1.46484375e-01 -7.42187500e-02 -1.01562500e-01 -7.71484375e-02\n",
      "  1.09375000e-01 -5.71289062e-02 -1.48437500e-01 -6.00585938e-02\n",
      "  1.74804688e-01 -7.71484375e-02  2.58789062e-02 -7.66601562e-02\n",
      " -3.80859375e-02  1.35742188e-01  3.75976562e-02 -4.19921875e-02\n",
      " -3.56445312e-02  5.34667969e-02  3.68118286e-04 -1.66992188e-01\n",
      " -1.17187500e-01  1.41601562e-01 -1.69921875e-01 -6.49414062e-02\n",
      " -1.66992188e-01  1.00585938e-01  1.15722656e-01 -2.18750000e-01\n",
      " -9.86328125e-02 -2.56347656e-02  1.23046875e-01 -3.54003906e-02\n",
      " -1.58203125e-01 -1.60156250e-01  2.94189453e-02  8.15429688e-02\n",
      "  6.88476562e-02  1.87500000e-01  6.49414062e-02  1.15234375e-01\n",
      " -2.27050781e-02  3.32031250e-01 -3.27148438e-02  1.77734375e-01\n",
      " -2.08007812e-01  4.54101562e-02 -1.23901367e-02  1.19628906e-01\n",
      "  7.44628906e-03 -9.03320312e-03  1.14257812e-01  1.69921875e-01\n",
      " -2.38281250e-01 -2.79541016e-02 -1.21093750e-01  2.47802734e-02\n",
      "  7.71484375e-02 -2.81982422e-02 -4.71191406e-02  1.78222656e-02\n",
      " -1.23046875e-01 -5.32226562e-02  2.68554688e-02 -3.11279297e-02\n",
      " -5.59082031e-02 -5.00488281e-02 -3.73535156e-02  1.25976562e-01\n",
      "  5.61523438e-02  1.51367188e-01  4.29687500e-02 -2.08007812e-01\n",
      " -4.78515625e-02  2.78320312e-02  1.81640625e-01  2.20703125e-01\n",
      " -3.61328125e-02 -8.39843750e-02 -3.69548798e-05 -9.52148438e-02\n",
      " -1.25000000e-01 -1.95312500e-01 -1.50390625e-01 -4.15039062e-02\n",
      "  1.31835938e-01  1.17675781e-01  1.91650391e-02  5.51757812e-02\n",
      " -9.42382812e-02 -1.08886719e-01  7.32421875e-02 -1.15234375e-01\n",
      "  8.93554688e-02 -1.40625000e-01  1.45507812e-01  4.49218750e-02\n",
      " -1.10473633e-02 -1.62353516e-02  4.05883789e-03  3.75976562e-02\n",
      " -6.98242188e-02 -5.46875000e-02  2.17285156e-02 -9.47265625e-02\n",
      "  4.24804688e-02  1.81884766e-02 -1.73339844e-02  4.63867188e-02\n",
      " -1.42578125e-01  1.99218750e-01  1.10839844e-01  2.58789062e-02\n",
      " -7.08007812e-02 -5.54199219e-02  3.45703125e-01  1.61132812e-01\n",
      " -2.44140625e-01 -2.59765625e-01 -9.71679688e-02  8.00781250e-02\n",
      " -8.78906250e-02 -7.22656250e-02  1.42578125e-01 -8.54492188e-02\n",
      " -3.18359375e-01  8.30078125e-02  6.34765625e-02  1.64062500e-01\n",
      " -1.92382812e-01 -1.17675781e-01 -5.41992188e-02 -1.56250000e-01\n",
      " -1.21582031e-01 -4.95605469e-02  1.20117188e-01 -3.83300781e-02\n",
      "  5.51757812e-02 -8.97216797e-03  4.32128906e-02  6.93359375e-02\n",
      "  8.93554688e-02  2.53906250e-01  1.65039062e-01  1.64062500e-01\n",
      " -1.41601562e-01  4.58984375e-02  1.97265625e-01 -8.98437500e-02\n",
      "  3.90625000e-02 -1.51367188e-01 -8.60595703e-03 -1.17675781e-01\n",
      " -1.97265625e-01 -1.12792969e-01  1.29882812e-01  1.96289062e-01\n",
      "  1.56402588e-03  3.93066406e-02  2.17773438e-01 -1.43554688e-01\n",
      "  6.03027344e-02 -1.35742188e-01  1.16210938e-01 -1.59912109e-02\n",
      "  2.79296875e-01  1.46484375e-01 -1.19628906e-01  1.76757812e-01\n",
      "  1.28906250e-01 -1.49414062e-01  6.93359375e-02 -1.72851562e-01\n",
      "  9.22851562e-02  1.33056641e-02 -2.00195312e-01 -9.76562500e-02\n",
      " -1.65039062e-01 -2.46093750e-01 -2.35595703e-02 -2.11914062e-01\n",
      "  1.84570312e-01 -1.85546875e-02  2.16796875e-01  5.05371094e-02\n",
      "  2.02636719e-02  4.25781250e-01  1.28906250e-01 -2.77099609e-02\n",
      "  1.29882812e-01 -1.15722656e-01 -2.05078125e-02  1.49414062e-01\n",
      "  7.81250000e-03 -2.05078125e-01 -8.05664062e-02 -2.67578125e-01\n",
      " -2.29492188e-02 -8.20312500e-02  8.64257812e-02  7.61718750e-02\n",
      " -3.66210938e-02  5.22460938e-02 -1.22070312e-01 -1.44042969e-02\n",
      " -2.69531250e-01  8.44726562e-02 -2.52685547e-02 -2.96630859e-02\n",
      " -1.68945312e-01  1.93359375e-01 -1.08398438e-01  1.94091797e-02\n",
      " -1.80664062e-01  1.93359375e-01 -7.08007812e-02  5.85937500e-02\n",
      " -1.01562500e-01 -1.31835938e-01  7.51953125e-02 -7.66601562e-02\n",
      "  3.37219238e-03 -8.59375000e-02  1.25000000e-01  2.92968750e-02\n",
      "  1.70898438e-01 -9.37500000e-02 -1.09375000e-01 -2.50244141e-02\n",
      "  2.11914062e-01 -4.44335938e-02  6.12792969e-02  2.62451172e-02\n",
      " -1.77734375e-01  1.23046875e-01 -7.42187500e-02 -1.67968750e-01\n",
      " -1.08886719e-01 -9.04083252e-04 -7.37304688e-02  5.49316406e-02\n",
      "  6.03027344e-02  8.39843750e-02  9.17968750e-02 -1.32812500e-01\n",
      "  1.22070312e-01 -8.78906250e-03  1.19140625e-01 -1.94335938e-01\n",
      " -6.64062500e-02 -2.07031250e-01  7.37304688e-02  8.93554688e-02\n",
      "  1.81884766e-02 -1.20605469e-01 -2.61230469e-02  2.67333984e-02\n",
      "  7.76367188e-02 -8.30078125e-02  6.78710938e-02 -3.54003906e-02\n",
      "  3.10546875e-01 -2.42919922e-02 -1.41601562e-01 -2.08007812e-01\n",
      " -4.57763672e-03 -6.54296875e-02 -4.95605469e-02  2.22656250e-01\n",
      "  1.53320312e-01 -1.38671875e-01 -5.24902344e-02  4.24804688e-02\n",
      " -2.38281250e-01  1.56250000e-01  5.83648682e-04 -1.20605469e-01\n",
      " -9.22851562e-02 -4.44335938e-02  3.61328125e-02 -1.86767578e-02\n",
      " -8.25195312e-02 -8.25195312e-02 -4.05273438e-02  1.19018555e-02\n",
      "  1.69921875e-01 -2.80761719e-02  3.03649902e-03  9.32617188e-02\n",
      " -8.49609375e-02  1.57470703e-02  7.03125000e-02  1.62353516e-02\n",
      " -2.27050781e-02  3.51562500e-02  2.47070312e-01 -2.67333984e-02]\n"
     ]
    }
   ],
   "source": [
    "print(model['United_States'])"
   ]
  },
  {
   "attachments": {},
   "cell_type": "markdown",
   "metadata": {},
   "source": [
    "## 61 単語の類似度\n",
    "“United States”と”U.S.”のコサイン類似度を計算せよ．"
   ]
  },
  {
   "cell_type": "code",
   "execution_count": 4,
   "metadata": {},
   "outputs": [
    {
     "name": "stdout",
     "output_type": "stream",
     "text": [
      "0.73107743\n"
     ]
    }
   ],
   "source": [
    "print(model.similarity('United_States', 'U.S.'))"
   ]
  },
  {
   "attachments": {},
   "cell_type": "markdown",
   "metadata": {},
   "source": [
    "## 62 類似度の高い単語10件\n",
    "“United States”とコサイン類似度が高い10語と，その類似度を出力せよ．"
   ]
  },
  {
   "cell_type": "code",
   "execution_count": 5,
   "metadata": {},
   "outputs": [
    {
     "name": "stdout",
     "output_type": "stream",
     "text": [
      "[('Unites_States', 0.7877248525619507), ('Untied_States', 0.7541370987892151), ('United_Sates', 0.7400724291801453), ('U.S.', 0.7310774326324463), ('theUnited_States', 0.6404393911361694), ('America', 0.6178410053253174), ('UnitedStates', 0.6167312264442444), ('Europe', 0.6132988929748535), ('countries', 0.6044804453849792), ('Canada', 0.601906955242157)]\n"
     ]
    }
   ],
   "source": [
    "print(model.most_similar('United_States', topn=10))"
   ]
  },
  {
   "attachments": {},
   "cell_type": "markdown",
   "metadata": {},
   "source": [
    "## 63 加法構成性によるアナロジー\n",
    "“Spain”の単語ベクトルから”Madrid”のベクトルを引き，”Athens”のベクトルを足したベクトルを計算し，そのベクトルと類似度の高い10語とその類似度を出力せよ．"
   ]
  },
  {
   "cell_type": "code",
   "execution_count": 6,
   "metadata": {},
   "outputs": [
    {
     "name": "stdout",
     "output_type": "stream",
     "text": [
      "[('Greece', 0.6898480653762817), ('Aristeidis_Grigoriadis', 0.560684859752655), ('Ioannis_Drymonakos', 0.5552908778190613), ('Greeks', 0.545068621635437), ('Ioannis_Christou', 0.5400862097740173), ('Hrysopiyi_Devetzi', 0.5248445272445679), ('Heraklio', 0.5207759737968445), ('Athens_Greece', 0.516880989074707), ('Lithuania', 0.5166865587234497), ('Iraklion', 0.5146791338920593)]\n"
     ]
    }
   ],
   "source": [
    "print(model.most_similar(positive=['Spain', 'Athens'], negative=['Madrid'],topn=10))"
   ]
  },
  {
   "attachments": {},
   "cell_type": "markdown",
   "metadata": {},
   "source": [
    "## 64 アナロジーデータでの実験\n",
    "単語アナロジーの評価データをダウンロードし，vec(2列目の単語) - vec(1列目の単語) + vec(3列目の単語)を計算し，そのベクトルと類似度が最も高い単語と，その類似度を求めよ．求めた単語と類似度は，各事例の末尾に追記せよ．"
   ]
  },
  {
   "cell_type": "code",
   "execution_count": 2,
   "metadata": {},
   "outputs": [],
   "source": [
    "import pandas as pd"
   ]
  },
  {
   "cell_type": "code",
   "execution_count": 3,
   "metadata": {},
   "outputs": [],
   "source": [
    "df = pd.read_csv(\"questions-words.txt\")"
   ]
  },
  {
   "cell_type": "code",
   "execution_count": 15,
   "metadata": {},
   "outputs": [
    {
     "data": {
      "text/html": [
       "<div>\n",
       "<style scoped>\n",
       "    .dataframe tbody tr th:only-of-type {\n",
       "        vertical-align: middle;\n",
       "    }\n",
       "\n",
       "    .dataframe tbody tr th {\n",
       "        vertical-align: top;\n",
       "    }\n",
       "\n",
       "    .dataframe thead th {\n",
       "        text-align: right;\n",
       "    }\n",
       "</style>\n",
       "<table border=\"1\" class=\"dataframe\">\n",
       "  <thead>\n",
       "    <tr style=\"text-align: right;\">\n",
       "      <th></th>\n",
       "      <th>: capital-common-countries</th>\n",
       "    </tr>\n",
       "  </thead>\n",
       "  <tbody>\n",
       "    <tr>\n",
       "      <th>0</th>\n",
       "      <td>Athens Greece Baghdad Iraq</td>\n",
       "    </tr>\n",
       "    <tr>\n",
       "      <th>1</th>\n",
       "      <td>Athens Greece Bangkok Thailand</td>\n",
       "    </tr>\n",
       "    <tr>\n",
       "      <th>2</th>\n",
       "      <td>Athens Greece Beijing China</td>\n",
       "    </tr>\n",
       "    <tr>\n",
       "      <th>3</th>\n",
       "      <td>Athens Greece Berlin Germany</td>\n",
       "    </tr>\n",
       "    <tr>\n",
       "      <th>4</th>\n",
       "      <td>Athens Greece Bern Switzerland</td>\n",
       "    </tr>\n",
       "    <tr>\n",
       "      <th>...</th>\n",
       "      <td>...</td>\n",
       "    </tr>\n",
       "    <tr>\n",
       "      <th>19552</th>\n",
       "      <td>write writes talk talks</td>\n",
       "    </tr>\n",
       "    <tr>\n",
       "      <th>19553</th>\n",
       "      <td>write writes think thinks</td>\n",
       "    </tr>\n",
       "    <tr>\n",
       "      <th>19554</th>\n",
       "      <td>write writes vanish vanishes</td>\n",
       "    </tr>\n",
       "    <tr>\n",
       "      <th>19555</th>\n",
       "      <td>write writes walk walks</td>\n",
       "    </tr>\n",
       "    <tr>\n",
       "      <th>19556</th>\n",
       "      <td>write writes work works</td>\n",
       "    </tr>\n",
       "  </tbody>\n",
       "</table>\n",
       "<p>19557 rows × 1 columns</p>\n",
       "</div>"
      ],
      "text/plain": [
       "           : capital-common-countries\n",
       "0          Athens Greece Baghdad Iraq\n",
       "1      Athens Greece Bangkok Thailand\n",
       "2         Athens Greece Beijing China\n",
       "3        Athens Greece Berlin Germany\n",
       "4      Athens Greece Bern Switzerland\n",
       "...                               ...\n",
       "19552         write writes talk talks\n",
       "19553       write writes think thinks\n",
       "19554    write writes vanish vanishes\n",
       "19555         write writes walk walks\n",
       "19556         write writes work works\n",
       "\n",
       "[19557 rows x 1 columns]"
      ]
     },
     "execution_count": 15,
     "metadata": {},
     "output_type": "execute_result"
    }
   ],
   "source": [
    "df"
   ]
  },
  {
   "cell_type": "code",
   "execution_count": 136,
   "metadata": {},
   "outputs": [],
   "source": [
    "df[\"1\"] = df[': capital-common-countries'].str.split(expand=True)[0]\n",
    "df[\"2\"] = df[': capital-common-countries'].str.split(expand=True)[1]\n",
    "df[\"3\"] = df[': capital-common-countries'].str.split(expand=True)[2]\n",
    "df[\"4\"] = df[': capital-common-countries'].str.split(expand=True)[3]"
   ]
  },
  {
   "cell_type": "code",
   "execution_count": 105,
   "metadata": {},
   "outputs": [
    {
     "data": {
      "text/html": [
       "<div>\n",
       "<style scoped>\n",
       "    .dataframe tbody tr th:only-of-type {\n",
       "        vertical-align: middle;\n",
       "    }\n",
       "\n",
       "    .dataframe tbody tr th {\n",
       "        vertical-align: top;\n",
       "    }\n",
       "\n",
       "    .dataframe thead th {\n",
       "        text-align: right;\n",
       "    }\n",
       "</style>\n",
       "<table border=\"1\" class=\"dataframe\">\n",
       "  <thead>\n",
       "    <tr style=\"text-align: right;\">\n",
       "      <th></th>\n",
       "      <th>: capital-common-countries</th>\n",
       "      <th>1</th>\n",
       "      <th>2</th>\n",
       "      <th>3</th>\n",
       "      <th>4</th>\n",
       "    </tr>\n",
       "  </thead>\n",
       "  <tbody>\n",
       "    <tr>\n",
       "      <th>0</th>\n",
       "      <td>Athens Greece Baghdad Iraq</td>\n",
       "      <td>Athens</td>\n",
       "      <td>Greece</td>\n",
       "      <td>Baghdad</td>\n",
       "      <td>Iraq</td>\n",
       "    </tr>\n",
       "    <tr>\n",
       "      <th>1</th>\n",
       "      <td>Athens Greece Bangkok Thailand</td>\n",
       "      <td>Athens</td>\n",
       "      <td>Greece</td>\n",
       "      <td>Bangkok</td>\n",
       "      <td>Thailand</td>\n",
       "    </tr>\n",
       "    <tr>\n",
       "      <th>2</th>\n",
       "      <td>Athens Greece Beijing China</td>\n",
       "      <td>Athens</td>\n",
       "      <td>Greece</td>\n",
       "      <td>Beijing</td>\n",
       "      <td>China</td>\n",
       "    </tr>\n",
       "    <tr>\n",
       "      <th>3</th>\n",
       "      <td>Athens Greece Berlin Germany</td>\n",
       "      <td>Athens</td>\n",
       "      <td>Greece</td>\n",
       "      <td>Berlin</td>\n",
       "      <td>Germany</td>\n",
       "    </tr>\n",
       "    <tr>\n",
       "      <th>4</th>\n",
       "      <td>Athens Greece Bern Switzerland</td>\n",
       "      <td>Athens</td>\n",
       "      <td>Greece</td>\n",
       "      <td>Bern</td>\n",
       "      <td>Switzerland</td>\n",
       "    </tr>\n",
       "    <tr>\n",
       "      <th>...</th>\n",
       "      <td>...</td>\n",
       "      <td>...</td>\n",
       "      <td>...</td>\n",
       "      <td>...</td>\n",
       "      <td>...</td>\n",
       "    </tr>\n",
       "    <tr>\n",
       "      <th>19552</th>\n",
       "      <td>write writes talk talks</td>\n",
       "      <td>write</td>\n",
       "      <td>writes</td>\n",
       "      <td>talk</td>\n",
       "      <td>talks</td>\n",
       "    </tr>\n",
       "    <tr>\n",
       "      <th>19553</th>\n",
       "      <td>write writes think thinks</td>\n",
       "      <td>write</td>\n",
       "      <td>writes</td>\n",
       "      <td>think</td>\n",
       "      <td>thinks</td>\n",
       "    </tr>\n",
       "    <tr>\n",
       "      <th>19554</th>\n",
       "      <td>write writes vanish vanishes</td>\n",
       "      <td>write</td>\n",
       "      <td>writes</td>\n",
       "      <td>vanish</td>\n",
       "      <td>vanishes</td>\n",
       "    </tr>\n",
       "    <tr>\n",
       "      <th>19555</th>\n",
       "      <td>write writes walk walks</td>\n",
       "      <td>write</td>\n",
       "      <td>writes</td>\n",
       "      <td>walk</td>\n",
       "      <td>walks</td>\n",
       "    </tr>\n",
       "    <tr>\n",
       "      <th>19556</th>\n",
       "      <td>write writes work works</td>\n",
       "      <td>write</td>\n",
       "      <td>writes</td>\n",
       "      <td>work</td>\n",
       "      <td>works</td>\n",
       "    </tr>\n",
       "  </tbody>\n",
       "</table>\n",
       "<p>19557 rows × 5 columns</p>\n",
       "</div>"
      ],
      "text/plain": [
       "           : capital-common-countries       1       2        3            4\n",
       "0          Athens Greece Baghdad Iraq  Athens  Greece  Baghdad         Iraq\n",
       "1      Athens Greece Bangkok Thailand  Athens  Greece  Bangkok     Thailand\n",
       "2         Athens Greece Beijing China  Athens  Greece  Beijing        China\n",
       "3        Athens Greece Berlin Germany  Athens  Greece   Berlin      Germany\n",
       "4      Athens Greece Bern Switzerland  Athens  Greece     Bern  Switzerland\n",
       "...                               ...     ...     ...      ...          ...\n",
       "19552         write writes talk talks   write  writes     talk        talks\n",
       "19553       write writes think thinks   write  writes    think       thinks\n",
       "19554    write writes vanish vanishes   write  writes   vanish     vanishes\n",
       "19555         write writes walk walks   write  writes     walk        walks\n",
       "19556         write writes work works   write  writes     work        works\n",
       "\n",
       "[19557 rows x 5 columns]"
      ]
     },
     "execution_count": 105,
     "metadata": {},
     "output_type": "execute_result"
    }
   ],
   "source": [
    "df"
   ]
  },
  {
   "cell_type": "code",
   "execution_count": 76,
   "metadata": {},
   "outputs": [
    {
     "name": "stdout",
     "output_type": "stream",
     "text": [
      "          : capital-common-countries  1                            2     3  \\\n",
      "506                  : capital-world  :                capital-world  None   \n",
      "5031                      : currency  :                     currency  None   \n",
      "5898                 : city-in-state  :                city-in-state  None   \n",
      "8366                        : family  :                       family  None   \n",
      "8873     : gram1-adjective-to-adverb  :    gram1-adjective-to-adverb  None   \n",
      "9866                : gram2-opposite  :               gram2-opposite  None   \n",
      "10679            : gram3-comparative  :            gram3-comparative  None   \n",
      "12012            : gram4-superlative  :            gram4-superlative  None   \n",
      "13135     : gram5-present-participle  :     gram5-present-participle  None   \n",
      "14192  : gram6-nationality-adjective  :  gram6-nationality-adjective  None   \n",
      "15792             : gram7-past-tense  :             gram7-past-tense  None   \n",
      "17353                 : gram8-plural  :                 gram8-plural  None   \n",
      "18686           : gram9-plural-verbs  :           gram9-plural-verbs  None   \n",
      "\n",
      "          4  \n",
      "506    None  \n",
      "5031   None  \n",
      "5898   None  \n",
      "8366   None  \n",
      "8873   None  \n",
      "9866   None  \n",
      "10679  None  \n",
      "12012  None  \n",
      "13135  None  \n",
      "14192  None  \n",
      "15792  None  \n",
      "17353  None  \n",
      "18686  None  \n"
     ]
    }
   ],
   "source": [
    "print(df[df['3'].isnull()])"
   ]
  },
  {
   "cell_type": "code",
   "execution_count": 75,
   "metadata": {},
   "outputs": [
    {
     "data": {
      "text/plain": [
       ": capital-common-countries     0\n",
       "1                              0\n",
       "2                              0\n",
       "3                             13\n",
       "4                             13\n",
       "dtype: int64"
      ]
     },
     "execution_count": 75,
     "metadata": {},
     "output_type": "execute_result"
    }
   ],
   "source": [
    "df.isnull().sum()"
   ]
  },
  {
   "cell_type": "code",
   "execution_count": 4,
   "metadata": {},
   "outputs": [],
   "source": [
    "def calc_name_score(row):\n",
    "    if row.isnull().any():\n",
    "        return\n",
    "    result = model.most_similar(positive=[row['2'], row['3']], negative=[row['1']], topn=1)\n",
    "    name, score = result[0][0], result[0][1]\n",
    "    t+=1\n",
    "    print(t)\n",
    "    return name, score"
   ]
  },
  {
   "cell_type": "code",
   "execution_count": 5,
   "metadata": {},
   "outputs": [
    {
     "ename": "NameError",
     "evalue": "name 'model' is not defined",
     "output_type": "error",
     "traceback": [
      "\u001b[1;31m---------------------------------------------------------------------------\u001b[0m",
      "\u001b[1;31mNameError\u001b[0m                                 Traceback (most recent call last)",
      "\u001b[1;32mc:\\Users\\shiny\\Desktop\\nlp100\\hlab2023-nlp100\\7\\chap7.ipynb Cell 20\u001b[0m in \u001b[0;36m<cell line: 1>\u001b[1;34m()\u001b[0m\n\u001b[1;32m----> <a href='vscode-notebook-cell:/c%3A/Users/shiny/Desktop/nlp100/hlab2023-nlp100/7/chap7.ipynb#X25sZmlsZQ%3D%3D?line=0'>1</a>\u001b[0m df[[\u001b[39m'\u001b[39m\u001b[39mname\u001b[39m\u001b[39m'\u001b[39m, \u001b[39m'\u001b[39m\u001b[39mscore\u001b[39m\u001b[39m'\u001b[39m]] \u001b[39m=\u001b[39m df\u001b[39m.\u001b[39;49mapply(function, axis\u001b[39m=\u001b[39;49m\u001b[39m1\u001b[39;49m, result_type\u001b[39m=\u001b[39;49m\u001b[39m\"\u001b[39;49m\u001b[39mexpand\u001b[39;49m\u001b[39m\"\u001b[39;49m)\n",
      "File \u001b[1;32m~\\AppData\\Local\\Packages\\PythonSoftwareFoundation.Python.3.9_qbz5n2kfra8p0\\LocalCache\\local-packages\\Python39\\site-packages\\pandas\\core\\frame.py:8839\u001b[0m, in \u001b[0;36mDataFrame.apply\u001b[1;34m(self, func, axis, raw, result_type, args, **kwargs)\u001b[0m\n\u001b[0;32m   8828\u001b[0m \u001b[39mfrom\u001b[39;00m \u001b[39mpandas\u001b[39;00m\u001b[39m.\u001b[39;00m\u001b[39mcore\u001b[39;00m\u001b[39m.\u001b[39;00m\u001b[39mapply\u001b[39;00m \u001b[39mimport\u001b[39;00m frame_apply\n\u001b[0;32m   8830\u001b[0m op \u001b[39m=\u001b[39m frame_apply(\n\u001b[0;32m   8831\u001b[0m     \u001b[39mself\u001b[39m,\n\u001b[0;32m   8832\u001b[0m     func\u001b[39m=\u001b[39mfunc,\n\u001b[1;32m   (...)\u001b[0m\n\u001b[0;32m   8837\u001b[0m     kwargs\u001b[39m=\u001b[39mkwargs,\n\u001b[0;32m   8838\u001b[0m )\n\u001b[1;32m-> 8839\u001b[0m \u001b[39mreturn\u001b[39;00m op\u001b[39m.\u001b[39;49mapply()\u001b[39m.\u001b[39m__finalize__(\u001b[39mself\u001b[39m, method\u001b[39m=\u001b[39m\u001b[39m\"\u001b[39m\u001b[39mapply\u001b[39m\u001b[39m\"\u001b[39m)\n",
      "File \u001b[1;32m~\\AppData\\Local\\Packages\\PythonSoftwareFoundation.Python.3.9_qbz5n2kfra8p0\\LocalCache\\local-packages\\Python39\\site-packages\\pandas\\core\\apply.py:727\u001b[0m, in \u001b[0;36mFrameApply.apply\u001b[1;34m(self)\u001b[0m\n\u001b[0;32m    724\u001b[0m \u001b[39melif\u001b[39;00m \u001b[39mself\u001b[39m\u001b[39m.\u001b[39mraw:\n\u001b[0;32m    725\u001b[0m     \u001b[39mreturn\u001b[39;00m \u001b[39mself\u001b[39m\u001b[39m.\u001b[39mapply_raw()\n\u001b[1;32m--> 727\u001b[0m \u001b[39mreturn\u001b[39;00m \u001b[39mself\u001b[39;49m\u001b[39m.\u001b[39;49mapply_standard()\n",
      "File \u001b[1;32m~\\AppData\\Local\\Packages\\PythonSoftwareFoundation.Python.3.9_qbz5n2kfra8p0\\LocalCache\\local-packages\\Python39\\site-packages\\pandas\\core\\apply.py:851\u001b[0m, in \u001b[0;36mFrameApply.apply_standard\u001b[1;34m(self)\u001b[0m\n\u001b[0;32m    850\u001b[0m \u001b[39mdef\u001b[39;00m \u001b[39mapply_standard\u001b[39m(\u001b[39mself\u001b[39m):\n\u001b[1;32m--> 851\u001b[0m     results, res_index \u001b[39m=\u001b[39m \u001b[39mself\u001b[39;49m\u001b[39m.\u001b[39;49mapply_series_generator()\n\u001b[0;32m    853\u001b[0m     \u001b[39m# wrap results\u001b[39;00m\n\u001b[0;32m    854\u001b[0m     \u001b[39mreturn\u001b[39;00m \u001b[39mself\u001b[39m\u001b[39m.\u001b[39mwrap_results(results, res_index)\n",
      "File \u001b[1;32m~\\AppData\\Local\\Packages\\PythonSoftwareFoundation.Python.3.9_qbz5n2kfra8p0\\LocalCache\\local-packages\\Python39\\site-packages\\pandas\\core\\apply.py:867\u001b[0m, in \u001b[0;36mFrameApply.apply_series_generator\u001b[1;34m(self)\u001b[0m\n\u001b[0;32m    864\u001b[0m \u001b[39mwith\u001b[39;00m option_context(\u001b[39m\"\u001b[39m\u001b[39mmode.chained_assignment\u001b[39m\u001b[39m\"\u001b[39m, \u001b[39mNone\u001b[39;00m):\n\u001b[0;32m    865\u001b[0m     \u001b[39mfor\u001b[39;00m i, v \u001b[39min\u001b[39;00m \u001b[39menumerate\u001b[39m(series_gen):\n\u001b[0;32m    866\u001b[0m         \u001b[39m# ignore SettingWithCopy here in case the user mutates\u001b[39;00m\n\u001b[1;32m--> 867\u001b[0m         results[i] \u001b[39m=\u001b[39m \u001b[39mself\u001b[39;49m\u001b[39m.\u001b[39;49mf(v)\n\u001b[0;32m    868\u001b[0m         \u001b[39mif\u001b[39;00m \u001b[39misinstance\u001b[39m(results[i], ABCSeries):\n\u001b[0;32m    869\u001b[0m             \u001b[39m# If we have a view on v, we need to make a copy because\u001b[39;00m\n\u001b[0;32m    870\u001b[0m             \u001b[39m#  series_generator will swap out the underlying data\u001b[39;00m\n\u001b[0;32m    871\u001b[0m             results[i] \u001b[39m=\u001b[39m results[i]\u001b[39m.\u001b[39mcopy(deep\u001b[39m=\u001b[39m\u001b[39mFalse\u001b[39;00m)\n",
      "\u001b[1;32mc:\\Users\\shiny\\Desktop\\nlp100\\hlab2023-nlp100\\7\\chap7.ipynb Cell 20\u001b[0m in \u001b[0;36mfunction\u001b[1;34m(row)\u001b[0m\n\u001b[0;32m      <a href='vscode-notebook-cell:/c%3A/Users/shiny/Desktop/nlp100/hlab2023-nlp100/7/chap7.ipynb#X25sZmlsZQ%3D%3D?line=1'>2</a>\u001b[0m \u001b[39mif\u001b[39;00m row\u001b[39m.\u001b[39misnull()\u001b[39m.\u001b[39many():\n\u001b[0;32m      <a href='vscode-notebook-cell:/c%3A/Users/shiny/Desktop/nlp100/hlab2023-nlp100/7/chap7.ipynb#X25sZmlsZQ%3D%3D?line=2'>3</a>\u001b[0m     \u001b[39mreturn\u001b[39;00m\n\u001b[1;32m----> <a href='vscode-notebook-cell:/c%3A/Users/shiny/Desktop/nlp100/hlab2023-nlp100/7/chap7.ipynb#X25sZmlsZQ%3D%3D?line=3'>4</a>\u001b[0m result \u001b[39m=\u001b[39m model\u001b[39m.\u001b[39mmost_similar(positive\u001b[39m=\u001b[39m[row[\u001b[39m'\u001b[39m\u001b[39m2\u001b[39m\u001b[39m'\u001b[39m], row[\u001b[39m'\u001b[39m\u001b[39m3\u001b[39m\u001b[39m'\u001b[39m]], negative\u001b[39m=\u001b[39m[row[\u001b[39m'\u001b[39m\u001b[39m1\u001b[39m\u001b[39m'\u001b[39m]], topn\u001b[39m=\u001b[39m\u001b[39m1\u001b[39m)\n\u001b[0;32m      <a href='vscode-notebook-cell:/c%3A/Users/shiny/Desktop/nlp100/hlab2023-nlp100/7/chap7.ipynb#X25sZmlsZQ%3D%3D?line=4'>5</a>\u001b[0m name, score \u001b[39m=\u001b[39m result[\u001b[39m0\u001b[39m][\u001b[39m0\u001b[39m], result[\u001b[39m0\u001b[39m][\u001b[39m1\u001b[39m]\n\u001b[0;32m      <a href='vscode-notebook-cell:/c%3A/Users/shiny/Desktop/nlp100/hlab2023-nlp100/7/chap7.ipynb#X25sZmlsZQ%3D%3D?line=5'>6</a>\u001b[0m t\u001b[39m+\u001b[39m\u001b[39m=\u001b[39m\u001b[39m1\u001b[39m\n",
      "\u001b[1;31mNameError\u001b[0m: name 'model' is not defined"
     ]
    }
   ],
   "source": [
    "df[['name', 'score']] = df.apply(calc_name_score, axis=1, result_type=\"expand\")"
   ]
  },
  {
   "cell_type": "code",
   "execution_count": 140,
   "metadata": {},
   "outputs": [],
   "source": [
    "df[['1', '2', '3', '4', 'name', 'score']].to_csv(\"result.txt\", sep=\"\\t\", index=False)"
   ]
  },
  {
   "cell_type": "code",
   "execution_count": 138,
   "metadata": {},
   "outputs": [
    {
     "data": {
      "text/html": [
       "<div>\n",
       "<style scoped>\n",
       "    .dataframe tbody tr th:only-of-type {\n",
       "        vertical-align: middle;\n",
       "    }\n",
       "\n",
       "    .dataframe tbody tr th {\n",
       "        vertical-align: top;\n",
       "    }\n",
       "\n",
       "    .dataframe thead th {\n",
       "        text-align: right;\n",
       "    }\n",
       "</style>\n",
       "<table border=\"1\" class=\"dataframe\">\n",
       "  <thead>\n",
       "    <tr style=\"text-align: right;\">\n",
       "      <th></th>\n",
       "      <th>: capital-common-countries</th>\n",
       "      <th>1</th>\n",
       "      <th>2</th>\n",
       "      <th>3</th>\n",
       "      <th>4</th>\n",
       "      <th>name</th>\n",
       "      <th>score</th>\n",
       "    </tr>\n",
       "  </thead>\n",
       "  <tbody>\n",
       "    <tr>\n",
       "      <th>19547</th>\n",
       "      <td>write writes sing sings</td>\n",
       "      <td>write</td>\n",
       "      <td>writes</td>\n",
       "      <td>sing</td>\n",
       "      <td>sings</td>\n",
       "      <td>sings</td>\n",
       "      <td>0.720717</td>\n",
       "    </tr>\n",
       "    <tr>\n",
       "      <th>19548</th>\n",
       "      <td>write writes sit sits</td>\n",
       "      <td>write</td>\n",
       "      <td>writes</td>\n",
       "      <td>sit</td>\n",
       "      <td>sits</td>\n",
       "      <td>sits</td>\n",
       "      <td>0.554350</td>\n",
       "    </tr>\n",
       "    <tr>\n",
       "      <th>19549</th>\n",
       "      <td>write writes slow slows</td>\n",
       "      <td>write</td>\n",
       "      <td>writes</td>\n",
       "      <td>slow</td>\n",
       "      <td>slows</td>\n",
       "      <td>slows</td>\n",
       "      <td>0.509294</td>\n",
       "    </tr>\n",
       "    <tr>\n",
       "      <th>19550</th>\n",
       "      <td>write writes speak speaks</td>\n",
       "      <td>write</td>\n",
       "      <td>writes</td>\n",
       "      <td>speak</td>\n",
       "      <td>speaks</td>\n",
       "      <td>speaks</td>\n",
       "      <td>0.654322</td>\n",
       "    </tr>\n",
       "    <tr>\n",
       "      <th>19551</th>\n",
       "      <td>write writes swim swims</td>\n",
       "      <td>write</td>\n",
       "      <td>writes</td>\n",
       "      <td>swim</td>\n",
       "      <td>swims</td>\n",
       "      <td>swims</td>\n",
       "      <td>0.664338</td>\n",
       "    </tr>\n",
       "    <tr>\n",
       "      <th>19552</th>\n",
       "      <td>write writes talk talks</td>\n",
       "      <td>write</td>\n",
       "      <td>writes</td>\n",
       "      <td>talk</td>\n",
       "      <td>talks</td>\n",
       "      <td>talked</td>\n",
       "      <td>0.544719</td>\n",
       "    </tr>\n",
       "    <tr>\n",
       "      <th>19553</th>\n",
       "      <td>write writes think thinks</td>\n",
       "      <td>write</td>\n",
       "      <td>writes</td>\n",
       "      <td>think</td>\n",
       "      <td>thinks</td>\n",
       "      <td>thinks</td>\n",
       "      <td>0.617773</td>\n",
       "    </tr>\n",
       "    <tr>\n",
       "      <th>19554</th>\n",
       "      <td>write writes vanish vanishes</td>\n",
       "      <td>write</td>\n",
       "      <td>writes</td>\n",
       "      <td>vanish</td>\n",
       "      <td>vanishes</td>\n",
       "      <td>disappear</td>\n",
       "      <td>0.600271</td>\n",
       "    </tr>\n",
       "    <tr>\n",
       "      <th>19555</th>\n",
       "      <td>write writes walk walks</td>\n",
       "      <td>write</td>\n",
       "      <td>writes</td>\n",
       "      <td>walk</td>\n",
       "      <td>walks</td>\n",
       "      <td>walks</td>\n",
       "      <td>0.553434</td>\n",
       "    </tr>\n",
       "    <tr>\n",
       "      <th>19556</th>\n",
       "      <td>write writes work works</td>\n",
       "      <td>write</td>\n",
       "      <td>writes</td>\n",
       "      <td>work</td>\n",
       "      <td>works</td>\n",
       "      <td>works</td>\n",
       "      <td>0.538761</td>\n",
       "    </tr>\n",
       "  </tbody>\n",
       "</table>\n",
       "</div>"
      ],
      "text/plain": [
       "         : capital-common-countries      1       2       3         4  \\\n",
       "19547       write writes sing sings  write  writes    sing     sings   \n",
       "19548         write writes sit sits  write  writes     sit      sits   \n",
       "19549       write writes slow slows  write  writes    slow     slows   \n",
       "19550     write writes speak speaks  write  writes   speak    speaks   \n",
       "19551       write writes swim swims  write  writes    swim     swims   \n",
       "19552       write writes talk talks  write  writes    talk     talks   \n",
       "19553     write writes think thinks  write  writes   think    thinks   \n",
       "19554  write writes vanish vanishes  write  writes  vanish  vanishes   \n",
       "19555       write writes walk walks  write  writes    walk     walks   \n",
       "19556       write writes work works  write  writes    work     works   \n",
       "\n",
       "            name     score  \n",
       "19547      sings  0.720717  \n",
       "19548       sits  0.554350  \n",
       "19549      slows  0.509294  \n",
       "19550     speaks  0.654322  \n",
       "19551      swims  0.664338  \n",
       "19552     talked  0.544719  \n",
       "19553     thinks  0.617773  \n",
       "19554  disappear  0.600271  \n",
       "19555      walks  0.553434  \n",
       "19556      works  0.538761  "
      ]
     },
     "execution_count": 138,
     "metadata": {},
     "output_type": "execute_result"
    }
   ],
   "source": [
    "df[-10:]"
   ]
  },
  {
   "attachments": {},
   "cell_type": "markdown",
   "metadata": {},
   "source": [
    "# 65. アナロジータスクでの正解率\n",
    "64の実行結果を用い，意味的アナロジー（semantic analogy）と文法的アナロジー（syntactic analogy）の正解率を測定せよ．\n",
    "先ほど出力したファイルを読み込み、適当なカラム同士を比較します。"
   ]
  },
  {
   "cell_type": "code",
   "execution_count": 15,
   "metadata": {},
   "outputs": [
    {
     "name": "stdout",
     "output_type": "stream",
     "text": [
      "意味的アナロジー：0.7308602999210734\n",
      "文法的アナロジー：0.7400468384074942\n"
     ]
    }
   ],
   "source": [
    "with open('./result.txt', 'r') as f:\n",
    "    lines = f.readlines()\n",
    "    sem_total, sem_correct = 0,0\n",
    "    syn_total, syn_correct = 0,0\n",
    "    task_type = None\n",
    "    for line in lines:\n",
    "        line = line.split()\n",
    "        if len(line) != 6:\n",
    "            if not line[1].startswith('gram'):    \n",
    "                task_type = 'sem'\n",
    "            else:\n",
    "                task_type = 'syn'\n",
    "        else:\n",
    "            if task_type == 'sem':\n",
    "                sem_total += 1\n",
    "                if line[3] == line[4]:\n",
    "                    sem_correct += 1\n",
    "            elif task_type == 'syn':\n",
    "                syn_total += 1\n",
    "                if line[3] == line[4]:\n",
    "                    syn_correct += 1\n",
    "    \n",
    "print(f'意味的アナロジー：{sem_correct/sem_total}')\n",
    "print(f'文法的アナロジー：{syn_correct/syn_total}')             "
   ]
  },
  {
   "attachments": {},
   "cell_type": "markdown",
   "metadata": {},
   "source": [
    "# 66. WordSimilarity-353での評価\n",
    "The WordSimilarity-353 Test Collectionの評価データをダウンロードし，単語ベクトルにより計算される類似度のランキングと，人間の類似度判定のランキングの間のスピアマン相関係数を計算せよ．"
   ]
  },
  {
   "cell_type": "code",
   "execution_count": 1,
   "metadata": {},
   "outputs": [],
   "source": [
    "from gensim.models import KeyedVectors\n",
    "model = KeyedVectors.load_word2vec_format('GoogleNews-vectors-negative300.bin.gz', binary=True)"
   ]
  },
  {
   "cell_type": "code",
   "execution_count": 2,
   "metadata": {},
   "outputs": [],
   "source": [
    "import pandas as pd"
   ]
  },
  {
   "cell_type": "code",
   "execution_count": 3,
   "metadata": {},
   "outputs": [],
   "source": [
    "def calc_similarity(row):\n",
    "    w1,w2 = row[0],row[1]\n",
    "    return model.similarity(w1,w2)"
   ]
  },
  {
   "cell_type": "code",
   "execution_count": 39,
   "metadata": {},
   "outputs": [],
   "source": [
    "df = pd.read_csv('./combined.csv', sep=',')\n",
    "df['model_score'] = df.apply(calc_similarity, axis=1, result_type=\"expand\")"
   ]
  },
  {
   "cell_type": "code",
   "execution_count": 47,
   "metadata": {},
   "outputs": [
    {
     "name": "stdout",
     "output_type": "stream",
     "text": [
      "              Human (mean)  model_score\n",
      "Human (mean)      1.000000     0.700017\n",
      "model_score       0.700017     1.000000\n"
     ]
    }
   ],
   "source": [
    "print(df[['Human (mean)', 'model_score']].corr(method='spearman'))"
   ]
  },
  {
   "attachments": {},
   "cell_type": "markdown",
   "metadata": {},
   "source": [
    "# 67. k-meansクラスタリング\n",
    "国名に関する単語ベクトルを抽出し，k-meansクラスタリングをクラスタ数k=5として実行せよ．"
   ]
  },
  {
   "cell_type": "code",
   "execution_count": 5,
   "metadata": {},
   "outputs": [
    {
     "name": "stdout",
     "output_type": "stream",
     "text": [
      "116\n"
     ]
    }
   ],
   "source": [
    "countries = set()\n",
    "with open('./questions-words.txt', 'r') as f:\n",
    "    lines = f.readlines()\n",
    "    target = ['capital-common-countries','capital-world']\n",
    "\n",
    "    for line in lines:\n",
    "        line = line.split()\n",
    "        if len(line) != 4:\n",
    "            if line[1] not in target:\n",
    "                break\n",
    "        else:\n",
    "            countries.add(line[1])\n",
    "            countries.add(line[3])\n",
    "countries = list(countries)\n",
    "print(len(countries))"
   ]
  },
  {
   "cell_type": "code",
   "execution_count": 6,
   "metadata": {},
   "outputs": [],
   "source": [
    "country_vec = [model[country] for country in countries]"
   ]
  },
  {
   "cell_type": "code",
   "execution_count": 7,
   "metadata": {},
   "outputs": [],
   "source": [
    "from sklearn.cluster import KMeans\n",
    "kmeans = KMeans(n_clusters=5, random_state=42)"
   ]
  },
  {
   "cell_type": "code",
   "execution_count": 8,
   "metadata": {},
   "outputs": [
    {
     "name": "stderr",
     "output_type": "stream",
     "text": [
      "C:\\Users\\shiny\\AppData\\Local\\Packages\\PythonSoftwareFoundation.Python.3.9_qbz5n2kfra8p0\\LocalCache\\local-packages\\Python39\\site-packages\\sklearn\\cluster\\_kmeans.py:870: FutureWarning: The default value of `n_init` will change from 10 to 'auto' in 1.4. Set the value of `n_init` explicitly to suppress the warning\n",
      "  warnings.warn(\n"
     ]
    }
   ],
   "source": [
    "pred = kmeans.fit_predict(country_vec)"
   ]
  },
  {
   "cell_type": "code",
   "execution_count": 10,
   "metadata": {},
   "outputs": [
    {
     "name": "stdout",
     "output_type": "stream",
     "text": [
      "country: Serbia, class: 3\n",
      "country: Iraq, class: 4\n",
      "country: Eritrea, class: 4\n",
      "country: Syria, class: 4\n",
      "country: Ukraine, class: 1\n",
      "country: Nicaragua, class: 0\n",
      "country: Sweden, class: 3\n",
      "country: Mozambique, class: 2\n",
      "country: Turkey, class: 3\n",
      "country: Rwanda, class: 2\n",
      "country: Fiji, class: 0\n",
      "country: Ghana, class: 2\n",
      "country: Angola, class: 2\n",
      "country: Zimbabwe, class: 2\n",
      "country: Greece, class: 3\n",
      "country: Belize, class: 0\n",
      "country: Indonesia, class: 0\n",
      "country: Lithuania, class: 3\n",
      "country: Kyrgyzstan, class: 1\n",
      "country: Honduras, class: 0\n",
      "country: Dominica, class: 0\n",
      "country: Spain, class: 3\n",
      "country: Latvia, class: 3\n",
      "country: Switzerland, class: 3\n",
      "country: Armenia, class: 1\n",
      "country: Zambia, class: 2\n",
      "country: Denmark, class: 3\n",
      "country: Guyana, class: 0\n",
      "country: Italy, class: 3\n",
      "country: Afghanistan, class: 4\n",
      "country: Turkmenistan, class: 1\n",
      "country: Tunisia, class: 4\n",
      "country: Bahamas, class: 0\n",
      "country: Kenya, class: 2\n",
      "country: Qatar, class: 4\n",
      "country: Moldova, class: 1\n",
      "country: Bhutan, class: 1\n",
      "country: Jordan, class: 4\n",
      "country: Liberia, class: 2\n",
      "country: Japan, class: 3\n",
      "country: France, class: 3\n",
      "country: Lebanon, class: 4\n",
      "country: Taiwan, class: 0\n",
      "country: Botswana, class: 2\n",
      "country: Uruguay, class: 0\n",
      "country: Albania, class: 3\n",
      "country: Bangladesh, class: 1\n",
      "country: Tajikistan, class: 1\n",
      "country: Macedonia, class: 3\n",
      "country: Guinea, class: 2\n",
      "country: Burundi, class: 2\n",
      "country: Madagascar, class: 2\n",
      "country: Uzbekistan, class: 1\n",
      "country: Senegal, class: 2\n",
      "country: Cuba, class: 0\n",
      "country: Gabon, class: 2\n",
      "country: Hungary, class: 3\n",
      "country: Germany, class: 3\n",
      "country: China, class: 0\n",
      "country: Croatia, class: 3\n",
      "country: Ireland, class: 3\n",
      "country: Finland, class: 3\n",
      "country: Peru, class: 0\n",
      "country: Russia, class: 1\n",
      "country: Liechtenstein, class: 3\n",
      "country: Laos, class: 0\n",
      "country: Georgia, class: 3\n",
      "country: Nepal, class: 1\n",
      "country: Azerbaijan, class: 1\n",
      "country: Pakistan, class: 1\n",
      "country: Iran, class: 4\n",
      "country: Morocco, class: 4\n",
      "country: Belarus, class: 1\n",
      "country: Gambia, class: 2\n",
      "country: Somalia, class: 4\n",
      "country: Namibia, class: 2\n",
      "country: Bulgaria, class: 3\n",
      "country: Ecuador, class: 0\n",
      "country: Mauritania, class: 4\n",
      "country: Algeria, class: 4\n",
      "country: Niger, class: 4\n",
      "country: Mali, class: 2\n",
      "country: Montenegro, class: 3\n",
      "country: Jamaica, class: 0\n",
      "country: Kazakhstan, class: 1\n",
      "country: Malawi, class: 2\n",
      "country: Poland, class: 3\n",
      "country: Samoa, class: 0\n",
      "country: Slovakia, class: 3\n",
      "country: Bahrain, class: 4\n",
      "country: Belgium, class: 3\n",
      "country: Cyprus, class: 3\n",
      "country: Oman, class: 4\n",
      "country: Tuvalu, class: 0\n",
      "country: Romania, class: 3\n",
      "country: Uganda, class: 2\n",
      "country: Suriname, class: 0\n",
      "country: Austria, class: 3\n",
      "country: Egypt, class: 4\n",
      "country: Norway, class: 3\n",
      "country: Nigeria, class: 2\n",
      "country: Sudan, class: 4\n",
      "country: Portugal, class: 3\n",
      "country: Philippines, class: 0\n",
      "country: Vietnam, class: 0\n",
      "country: Malta, class: 3\n",
      "country: Venezuela, class: 0\n",
      "country: Greenland, class: 3\n",
      "country: Australia, class: 0\n",
      "country: Chile, class: 0\n",
      "country: Estonia, class: 3\n",
      "country: Slovenia, class: 3\n",
      "country: Canada, class: 3\n",
      "country: Libya, class: 4\n",
      "country: England, class: 3\n",
      "country: Thailand, class: 0\n"
     ]
    }
   ],
   "source": [
    "for country, cluster in zip(countries,pred):\n",
    "    print(f'country: {country}, class: {cluster}')"
   ]
  },
  {
   "cell_type": "code",
   "execution_count": 29,
   "metadata": {},
   "outputs": [],
   "source": [
    "result = list(zip(countries,pred))\n",
    "sorted_data = sorted(result, key=lambda x: x[1])"
   ]
  },
  {
   "cell_type": "code",
   "execution_count": 30,
   "metadata": {},
   "outputs": [
    {
     "name": "stdout",
     "output_type": "stream",
     "text": [
      "Iran 0\n",
      "Qatar 0\n",
      "Algeria 0\n",
      "Spain 0\n",
      "Oman 0\n",
      "Libya 0\n",
      "Bahrain 0\n",
      "Turkey 0\n",
      "Portugal 0\n",
      "Iraq 0\n",
      "Malta 0\n",
      "Egypt 0\n",
      "France 0\n",
      "Greece 0\n",
      "Morocco 0\n",
      "Jordan 0\n",
      "Tunisia 0\n",
      "Lebanon 0\n",
      "Syria 0\n",
      "Ireland 0\n",
      "Cyprus 0\n",
      "Mozambique 1\n",
      "Botswana 1\n",
      "Gambia 1\n",
      "Gabon 1\n",
      "Eritrea 1\n",
      "Sudan 1\n",
      "Liberia 1\n",
      "Senegal 1\n",
      "Burundi 1\n",
      "Namibia 1\n",
      "Mali 1\n",
      "Somalia 1\n",
      "Mauritania 1\n",
      "Guinea 1\n",
      "Uganda 1\n",
      "Rwanda 1\n",
      "Malawi 1\n",
      "Zambia 1\n",
      "Madagascar 1\n",
      "Niger 1\n",
      "Zimbabwe 1\n",
      "Angola 1\n",
      "Ghana 1\n",
      "Kenya 1\n",
      "Nigeria 1\n",
      "Romania 2\n",
      "Albania 2\n",
      "Slovenia 2\n",
      "Macedonia 2\n",
      "Hungary 2\n",
      "Denmark 2\n",
      "Finland 2\n",
      "Norway 2\n",
      "Uruguay 2\n",
      "Serbia 2\n",
      "Italy 2\n",
      "Croatia 2\n",
      "Switzerland 2\n",
      "Germany 2\n",
      "Montenegro 2\n",
      "Poland 2\n",
      "Sweden 2\n",
      "Belgium 2\n",
      "Austria 2\n",
      "Liechtenstein 2\n",
      "Slovakia 2\n",
      "Ukraine 3\n",
      "Estonia 3\n",
      "Uzbekistan 3\n",
      "Azerbaijan 3\n",
      "Bulgaria 3\n",
      "Latvia 3\n",
      "Tajikistan 3\n",
      "Turkmenistan 3\n",
      "Kazakhstan 3\n",
      "Kyrgyzstan 3\n",
      "Belarus 3\n",
      "Russia 3\n",
      "Armenia 3\n",
      "Georgia 3\n",
      "Moldova 3\n",
      "Lithuania 3\n",
      "Vietnam 4\n",
      "Greenland 4\n",
      "Thailand 4\n",
      "Bhutan 4\n",
      "Bahamas 4\n",
      "Ecuador 4\n",
      "Peru 4\n",
      "Pakistan 4\n",
      "Australia 4\n",
      "Afghanistan 4\n",
      "Nicaragua 4\n",
      "Chile 4\n",
      "China 4\n",
      "Laos 4\n",
      "Bangladesh 4\n",
      "Venezuela 4\n",
      "Indonesia 4\n",
      "England 4\n",
      "Nepal 4\n",
      "Cuba 4\n",
      "Samoa 4\n",
      "Guyana 4\n",
      "Dominica 4\n",
      "Jamaica 4\n",
      "Canada 4\n",
      "Belize 4\n",
      "Fiji 4\n",
      "Japan 4\n",
      "Suriname 4\n",
      "Honduras 4\n",
      "Taiwan 4\n",
      "Philippines 4\n",
      "Tuvalu 4\n"
     ]
    }
   ],
   "source": [
    "for data in sorted_data:\n",
    "    print(data[0], data[1])"
   ]
  },
  {
   "attachments": {},
   "cell_type": "markdown",
   "metadata": {},
   "source": [
    "# 68. Ward法によるクラスタリング\n",
    "国名に関する単語ベクトルに対し，Ward法による階層型クラスタリングを実行せよ．さらに，クラスタリング結果をデンドログラムとして可視化せよ．"
   ]
  },
  {
   "cell_type": "code",
   "execution_count": 11,
   "metadata": {},
   "outputs": [
    {
     "data": {
      "image/png": "[encoded data removed]",
      "text/plain": [
       "<Figure size 3200x1800 with 1 Axes>"
      ]
     },
     "metadata": {},
     "output_type": "display_data"
    }
   ],
   "source": [
    "import matplotlib.pyplot as plt\n",
    "from scipy.cluster.hierarchy import linkage, dendrogram\n",
    " \n",
    "linkage_result = linkage(country_vec, method='ward', metric='euclidean')\n",
    "plt.figure(num=None, figsize=(16, 9), dpi=200, facecolor='w', edgecolor='k')\n",
    "dendrogram(linkage_result, labels=countries)\n",
    "plt.show()"
   ]
  },
  {
   "attachments": {},
   "cell_type": "markdown",
   "metadata": {},
   "source": [
    "# 69. t-SNEによる可視化\n",
    "国名に関する単語ベクトルのベクトル空間をt-SNEで可視化せよ．"
   ]
  },
  {
   "cell_type": "code",
   "execution_count": 13,
   "metadata": {},
   "outputs": [],
   "source": [
    "from sklearn.manifold import TSNE\n",
    "import pandas as pd"
   ]
  },
  {
   "cell_type": "code",
   "execution_count": 15,
   "metadata": {},
   "outputs": [],
   "source": [
    "tsne = TSNE(n_components=2, random_state = 42)\n",
    "emb = tsne.fit_transform(pd.DataFrame(country_vec))"
   ]
  },
  {
   "cell_type": "code",
   "execution_count": 16,
   "metadata": {},
   "outputs": [
    {
     "name": "stdout",
     "output_type": "stream",
     "text": [
      "         vec1      vec2\n",
      "0   -6.036703 -2.952968\n",
      "1    3.793320 -6.302176\n",
      "2    8.145866 -0.798827\n",
      "3    5.212216 -4.691840\n",
      "4   -9.256611 -4.855923\n",
      "..        ...       ...\n",
      "111 -6.807671 -1.814724\n",
      "112 -5.754280  4.627939\n",
      "113  5.632544 -2.832610\n",
      "114 -5.394861  3.295492\n",
      "115 -0.602680 -1.267192\n",
      "\n",
      "[116 rows x 2 columns]\n"
     ]
    }
   ],
   "source": [
    "df = pd.DataFrame(emb, columns=['vec1', 'vec2'])\n",
    "print(df)"
   ]
  },
  {
   "cell_type": "code",
   "execution_count": 17,
   "metadata": {},
   "outputs": [
    {
     "name": "stdout",
     "output_type": "stream",
     "text": [
      "     class\n",
      "0        3\n",
      "1        4\n",
      "2        4\n",
      "3        4\n",
      "4        1\n",
      "..     ...\n",
      "111      3\n",
      "112      3\n",
      "113      4\n",
      "114      3\n",
      "115      0\n",
      "\n",
      "[116 rows x 1 columns]\n"
     ]
    }
   ],
   "source": [
    "df_2 = pd.DataFrame(pred,columns=['class'])\n",
    "print(df_2)"
   ]
  },
  {
   "cell_type": "code",
   "execution_count": 18,
   "metadata": {},
   "outputs": [
    {
     "name": "stdout",
     "output_type": "stream",
     "text": [
      "         vec1      vec2  class\n",
      "0   -6.036703 -2.952968      3\n",
      "1    3.793320 -6.302176      4\n",
      "2    8.145866 -0.798827      4\n",
      "3    5.212216 -4.691840      4\n",
      "4   -9.256611 -4.855923      1\n",
      "..        ...       ...    ...\n",
      "111 -6.807671 -1.814724      3\n",
      "112 -5.754280  4.627939      3\n",
      "113  5.632544 -2.832610      4\n",
      "114 -5.394861  3.295492      3\n",
      "115 -0.602680 -1.267192      0\n",
      "\n",
      "[116 rows x 3 columns]\n"
     ]
    }
   ],
   "source": [
    "df_3 = pd.concat([df,df_2],axis=1)\n",
    "print(df_3)"
   ]
  },
  {
   "cell_type": "code",
   "execution_count": 19,
   "metadata": {},
   "outputs": [
    {
     "data": {
      "image/png": "[encoded data removed]",
      "text/plain": [
       "<Figure size 432x288 with 1 Axes>"
      ]
     },
     "metadata": {
      "needs_background": "light"
     },
     "output_type": "display_data"
    }
   ],
   "source": [
    "import seaborn as sns\n",
    "sns.scatterplot(data=df_3, x='vec1', y='vec2', hue='class',\n",
    "                palette=sns.color_palette('hls', 5))\n",
    "plt.savefig('tsne.png')\n",
    "plt.show()"
   ]
  },
  {
   "cell_type": "code",
   "execution_count": null,
   "metadata": {},
   "outputs": [],
   "source": []
  }
 ],
 "metadata": {
  "kernelspec": {
   "display_name": "Python 3",
   "language": "python",
   "name": "python3"
  },
  "language_info": {
   "codemirror_mode": {
    "name": "ipython",
    "version": 3
   },
   "file_extension": ".py",
   "mimetype": "text/x-python",
   "name": "python",
   "nbconvert_exporter": "python",
   "pygments_lexer": "ipython3",
   "version": "3.9.13"
  },
  "orig_nbformat": 4
 },
 "nbformat": 4,
 "nbformat_minor": 2
}

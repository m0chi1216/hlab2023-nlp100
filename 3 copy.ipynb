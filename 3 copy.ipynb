{
  "cells": [
    {
      "cell_type": "code",
      "execution_count": 1,
      "metadata": {},
      "outputs": [
        {
          "name": "stderr",
          "output_type": "stream",
          "text": [
            "fatal: destination path 'hlab2023-nlp100' already exists and is not an empty directory.\n"
          ]
        }
      ],
      "source": [
        "!git clone https://github.com/m0chi1216/hlab2023-nlp100.git"
      ]
    },
    {
      "cell_type": "code",
      "execution_count": 2,
      "metadata": {
        "colab": {
          "base_uri": "https://localhost:8080/"
        },
        "id": "5xj6Wp-r2_kb",
        "outputId": "258b08ab-3656-445b-8afa-796120502f41"
      },
      "outputs": [
        {
          "name": "stdout",
          "output_type": "stream",
          "text": [
            "c:\\Users\\rio_m\\OneDrive - 国立大学法人東海国立大学機構\\100knock\\hlab2023-nlp100\\hlab2023-nlp100\n"
          ]
        }
      ],
      "source": [
        "cd hlab2023-nlp100"
      ]
    },
    {
      "cell_type": "code",
      "execution_count": 3,
      "metadata": {
        "colab": {
          "base_uri": "https://localhost:8080/"
        },
        "id": "1hgTzA7r3JBC",
        "outputId": "413513f8-abae-491f-be8a-9713ad0c1a1a"
      },
      "outputs": [
        {
          "name": "stderr",
          "output_type": "stream",
          "text": [
            "fatal: a branch named 'suzuki' already exists\n"
          ]
        }
      ],
      "source": [
        "!git checkout -b suzuki origin/suzuki"
      ]
    },
    {
      "cell_type": "code",
      "execution_count": 4,
      "metadata": {},
      "outputs": [
        {
          "name": "stdout",
          "output_type": "stream",
          "text": [
            "c:\\Users\\rio_m\\OneDrive - 国立大学法人東海国立大学機構\\100knock\\hlab2023-nlp100\n"
          ]
        }
      ],
      "source": [
        "cd c:\\Users\\rio_m\\OneDrive - 国立大学法人東海国立大学機構\\100knock\\hlab2023-nlp100"
      ]
    },
    {
      "cell_type": "code",
      "execution_count": 5,
      "metadata": {
        "colab": {
          "base_uri": "https://localhost:8080/"
        },
        "id": "7bobRKMP3RoQ",
        "outputId": "931a4dee-9b4c-4e7c-c953-28c1afb17456"
      },
      "outputs": [
        {
          "name": "stdout",
          "output_type": "stream",
          "text": [
            "SUMMARY: Dataset of references (urls) to news web pages\n",
            "\n",
            "DESCRIPTION: Dataset of references to news web pages collected from an online aggregator in the period from March 10 to August 10 of 2014. The resources are grouped into clusters that represent pages discussing the same news story. The dataset includes also references to web pages that point (has a link to) one of the news page in the collection.\n",
            "\n",
            "TAGS: web pages, news, aggregator, classification, clustering\n",
            "\n",
            "LICENSE: Public domain - Due to restrictions on content and use of the news sources, the corpus is limited to web references (urls) to web pages and does not include any text content. The references have been retrieved from the news aggregator through traditional web browsers. \n",
            "\n",
            "FILE ENCODING: UTF-8\n",
            "\n",
            "FORMAT: Tab delimited CSV files. \n",
            "\n",
            "DATA SHAPE AND STATS: 422937 news pages and divided up into:\n",
            "\n",
            "152746 \tnews of business category\n",
            "108465 \tnews of science and technology category\n",
            "115920 \tnews of business category\n",
            " 45615 \tnews of health category\n",
            "\n",
            "2076 clusters of similar news for entertainment category\n",
            "1789 clusters of similar news for science and technology category\n",
            "2019 clusters of similar news for business category\n",
            "1347 clusters of similar news for health category\n",
            "\n",
            "References to web pages containing a link to one news included in the collection are also included. They are represented as pairs of urls corresponding to 2-page browsing sessions. The collection includes 15516 2-page browsing sessions covering 946 distinct clusters divided up into:\n",
            "\n",
            "6091 2-page sessions for business category\n",
            "9425 2-page sessions for entertainment category\n",
            "\n",
            " \n",
            "\n",
            "CONTENT\n",
            "=======\n",
            "\n",
            "FILENAME #1: newsCorpora.csv (102.297.000 bytes)\n",
            "DESCRIPTION: News pages\n",
            "FORMAT: ID \\t TITLE \\t URL \\t PUBLISHER \\t CATEGORY \\t STORY \\t HOSTNAME \\t TIMESTAMP\n",
            "\n",
            "where:\n",
            "ID\t\tNumeric ID\n",
            "TITLE\t\tNews title \n",
            "URL\t\tUrl\n",
            "PUBLISHER\tPublisher name\n",
            "CATEGORY\tNews category (b = business, t = science and technology, e = entertainment, m = health)\n",
            "STORY\t\tAlphanumeric ID of the cluster that includes news about the same story\n",
            "HOSTNAME\tUrl hostname\n",
            "TIMESTAMP \tApproximate time the news was published, as the number of milliseconds since the epoch 00:00:00 GMT, January 1, 1970\n",
            "\n",
            "\n",
            "FILENAME #2: 2pageSessions.csv (3.049.986 bytes)\n",
            "DESCRIPTION: 2-page sessions\n",
            "FORMAT: STORY \\t HOSTNAME \\t CATEGORY \\t URL\n",
            "\n",
            "where:\n",
            "STORY\t\tAlphanumeric ID of the cluster that includes news about the same story\n",
            "HOSTNAME\tUrl hostname\n",
            "CATEGORY\tNews category (b = business, t = science and technology, e = entertainment, m = health)\n",
            "URL\t\tTwo space-delimited urls representing a browsing session\n",
            "\n"
          ]
        }
      ],
      "source": [
        "with open(\"readme.txt\",\"r\")as fp:\n",
        "  words=fp.read()\n",
        "  print(words)\n",
        "  fp.close()"
      ]
    },
    {
      "cell_type": "code",
      "execution_count": 6,
      "metadata": {},
      "outputs": [
        {
          "name": "stdout",
          "output_type": "stream",
          "text": [
            "Requirement already satisfied: pandas in c:\\users\\rio_m\\appdata\\local\\programs\\python\\python311\\lib\\site-packages (2.0.2)\n",
            "Requirement already satisfied: python-dateutil>=2.8.2 in c:\\users\\rio_m\\appdata\\roaming\\python\\python311\\site-packages (from pandas) (2.8.2)\n",
            "Requirement already satisfied: pytz>=2020.1 in c:\\users\\rio_m\\appdata\\local\\programs\\python\\python311\\lib\\site-packages (from pandas) (2023.3)\n",
            "Requirement already satisfied: tzdata>=2022.1 in c:\\users\\rio_m\\appdata\\local\\programs\\python\\python311\\lib\\site-packages (from pandas) (2023.3)\n",
            "Requirement already satisfied: numpy>=1.21.0 in c:\\users\\rio_m\\appdata\\local\\programs\\python\\python311\\lib\\site-packages (from pandas) (1.24.3)\n",
            "Requirement already satisfied: six>=1.5 in c:\\users\\rio_m\\appdata\\roaming\\python\\python311\\site-packages (from python-dateutil>=2.8.2->pandas) (1.16.0)\n",
            "Note: you may need to restart the kernel to use updated packages.\n"
          ]
        }
      ],
      "source": [
        "%pip install pandas"
      ]
    },
    {
      "cell_type": "code",
      "execution_count": 7,
      "metadata": {},
      "outputs": [
        {
          "name": "stdout",
          "output_type": "stream",
          "text": [
            "Requirement already satisfied: scikit-learn in c:\\users\\rio_m\\appdata\\local\\programs\\python\\python311\\lib\\site-packages (1.2.2)Note: you may need to restart the kernel to use updated packages.\n",
            "\n",
            "Requirement already satisfied: numpy>=1.17.3 in c:\\users\\rio_m\\appdata\\local\\programs\\python\\python311\\lib\\site-packages (from scikit-learn) (1.24.3)\n",
            "Requirement already satisfied: scipy>=1.3.2 in c:\\users\\rio_m\\appdata\\local\\programs\\python\\python311\\lib\\site-packages (from scikit-learn) (1.10.1)\n",
            "Requirement already satisfied: joblib>=1.1.1 in c:\\users\\rio_m\\appdata\\local\\programs\\python\\python311\\lib\\site-packages (from scikit-learn) (1.2.0)\n",
            "Requirement already satisfied: threadpoolctl>=2.0.0 in c:\\users\\rio_m\\appdata\\local\\programs\\python\\python311\\lib\\site-packages (from scikit-learn) (3.1.0)\n"
          ]
        }
      ],
      "source": [
        "%pip install scikit-learn "
      ]
    },
    {
      "cell_type": "code",
      "execution_count": 8,
      "metadata": {
        "colab": {
          "base_uri": "https://localhost:8080/"
        },
        "id": "OgWyZkOT3sX7",
        "outputId": "aeef9a0d-ea11-4072-b487-22fb36f20304"
      },
      "outputs": [
        {
          "name": "stdout",
          "output_type": "stream",
          "text": [
            "学習データ\n",
            "CATEGORY\n",
            "b    4502\n",
            "e    4223\n",
            "t    1219\n",
            "m     728\n",
            "Name: count, dtype: int64\n",
            "検証データ\n",
            "CATEGORY\n",
            "b    563\n",
            "e    528\n",
            "t    152\n",
            "m     91\n",
            "Name: count, dtype: int64\n",
            "評価データ\n",
            "CATEGORY\n",
            "b    562\n",
            "e    528\n",
            "t    153\n",
            "m     91\n",
            "Name: count, dtype: int64\n"
          ]
        }
      ],
      "source": [
        "import pandas as pd\n",
        "from sklearn.model_selection import train_test_split\n",
        "\n",
        "df = pd.read_csv('./newsCorpora.csv',header=None, sep='\\t', names=['ID', 'TITLE', 'URL', 'PUBLISHER', 'CATEGORY', 'STORY', 'HOSTNAME', 'TIMESTAMP'])\n",
        "df=df.loc[df['PUBLISHER'].isin(['Reuters', 'Huffington Post', 'Businessweek', 'Contactmusic.com', 'Daily Mail']),['TITLE', 'CATEGORY']]\n",
        "\n",
        "train,valid=train_test_split(df,test_size=0.2,random_state=1,shuffle=True,stratify=df[\"CATEGORY\"])\n",
        "valid,test=train_test_split(valid,test_size=0.5,random_state=1,shuffle=True,stratify=valid[\"CATEGORY\"])\n",
        "\n",
        "train.to_csv('./train.txt', sep='\\t', index=False)\n",
        "valid.to_csv('./valid.txt', sep='\\t', index=False)\n",
        "test.to_csv('./test.txt', sep='\\t', index=False)\n",
        "\n",
        "print('学習データ')\n",
        "print(train['CATEGORY'].value_counts())\n",
        "print('検証データ')\n",
        "print(valid['CATEGORY'].value_counts())\n",
        "print('評価データ')\n",
        "print(test['CATEGORY'].value_counts())"
      ]
    },
    {
      "cell_type": "code",
      "execution_count": 9,
      "metadata": {
        "id": "z_yZya-v4h7s"
      },
      "outputs": [],
      "source": [
        "import string\n",
        "import re\n",
        "\n",
        "def preprocessing(text):\n",
        "  table = str.maketrans(string.punctuation, ' '*len(string.punctuation))\n",
        "  text = text.translate(table)  # 記号をスペースに置換\n",
        "  text = text.lower()  # 小文字化\n",
        "  text = re.sub('[0-9]+', '0', text)  # 数字列を0に置換\n",
        "\n",
        "  return text"
      ]
    },
    {
      "cell_type": "code",
      "execution_count": 10,
      "metadata": {
        "colab": {
          "base_uri": "https://localhost:8080/"
        },
        "id": "EX8myHzR9Vdb",
        "outputId": "3de5c886-6678-4c2f-8801-a248867a6d83"
      },
      "outputs": [
        {
          "name": "stdout",
          "output_type": "stream",
          "text": [
            "                                               TITLE CATEGORY\n",
            "0  corrected update 0 brent crude falls again as ...        b\n",
            "1  corrected retailer michaels stores confirms pa...        b\n",
            "2  britney spears hits her local supermarket dres...        e\n",
            "3  orders propel us service industries as sales i...        b\n",
            "4  column fed to widen main st wall st gap  james...        b\n"
          ]
        }
      ],
      "source": [
        "df=pd.concat([train,valid,test])\n",
        "df.reset_index(drop=True,inplace=True)\n",
        "df[\"TITLE\"]=df[\"TITLE\"].map(lambda x:preprocessing(x))\n",
        "print(df.head())"
      ]
    },
    {
      "cell_type": "code",
      "execution_count": 11,
      "metadata": {
        "colab": {
          "base_uri": "https://localhost:8080/"
        },
        "id": "gIWkTyk897Qb",
        "outputId": "2abbb854-ff47-460a-b712-6e7ddd6c6358"
      },
      "outputs": [
        {
          "name": "stdout",
          "output_type": "stream",
          "text": [
            "   0th  about  above  action  actor  adds  affirms  africa     after    again  \\\n",
            "0  0.0    0.0    0.0     0.0    0.0   0.0      0.0     0.0  0.000000  0.33371   \n",
            "1  0.0    0.0    0.0     0.0    0.0   0.0      0.0     0.0  0.000000  0.00000   \n",
            "2  0.0    0.0    0.0     0.0    0.0   0.0      0.0     0.0  0.425078  0.00000   \n",
            "3  0.0    0.0    0.0     0.0    0.0   0.0      0.0     0.0  0.000000  0.00000   \n",
            "4  0.0    0.0    0.0     0.0    0.0   0.0      0.0     0.0  0.000000  0.00000   \n",
            "\n",
            "   ...  yellen  yen  yet  yields  york  you  young  your  zac  zone  \n",
            "0  ...     0.0  0.0  0.0     0.0   0.0  0.0    0.0   0.0  0.0   0.0  \n",
            "1  ...     0.0  0.0  0.0     0.0   0.0  0.0    0.0   0.0  0.0   0.0  \n",
            "2  ...     0.0  0.0  0.0     0.0   0.0  0.0    0.0   0.0  0.0   0.0  \n",
            "3  ...     0.0  0.0  0.0     0.0   0.0  0.0    0.0   0.0  0.0   0.0  \n",
            "4  ...     0.0  0.0  0.0     0.0   0.0  0.0    0.0   0.0  0.0   0.0  \n",
            "\n",
            "[5 rows x 682 columns]\n"
          ]
        }
      ],
      "source": [
        "from sklearn.feature_extraction.text import TfidfVectorizer\n",
        "\n",
        "train_valid = df[:len(train) + len(valid)]\n",
        "test = df[len(train) + len(valid):]\n",
        "\n",
        "vec_tfidf=TfidfVectorizer(min_df=30)\n",
        "X_train_valid = vec_tfidf.fit_transform(train_valid['TITLE']) \n",
        "X_test = vec_tfidf.transform(test['TITLE'])\n",
        "\n",
        "X_train_valid = pd.DataFrame(X_train_valid.toarray(),columns=vec_tfidf.get_feature_names_out())\n",
        "X_test = pd.DataFrame(X_test.toarray(), columns=vec_tfidf.get_feature_names_out())\n",
        "\n",
        "X_train=X_train_valid[:len(train)]\n",
        "X_valid=X_train_valid[len(train):]\n",
        "\n",
        "print(X_train.head())\n"
      ]
    },
    {
      "cell_type": "code",
      "execution_count": 12,
      "metadata": {
        "colab": {
          "base_uri": "https://localhost:8080/",
          "height": 74
        },
        "id": "2wvOSfbfHAYS",
        "outputId": "da8b5b4f-eac4-4240-f8b1-e64e4f86d981"
      },
      "outputs": [
        {
          "data": {
            "text/html": [
              "<style>#sk-container-id-1 {color: black;background-color: white;}#sk-container-id-1 pre{padding: 0;}#sk-container-id-1 div.sk-toggleable {background-color: white;}#sk-container-id-1 label.sk-toggleable__label {cursor: pointer;display: block;width: 100%;margin-bottom: 0;padding: 0.3em;box-sizing: border-box;text-align: center;}#sk-container-id-1 label.sk-toggleable__label-arrow:before {content: \"▸\";float: left;margin-right: 0.25em;color: #696969;}#sk-container-id-1 label.sk-toggleable__label-arrow:hover:before {color: black;}#sk-container-id-1 div.sk-estimator:hover label.sk-toggleable__label-arrow:before {color: black;}#sk-container-id-1 div.sk-toggleable__content {max-height: 0;max-width: 0;overflow: hidden;text-align: left;background-color: #f0f8ff;}#sk-container-id-1 div.sk-toggleable__content pre {margin: 0.2em;color: black;border-radius: 0.25em;background-color: #f0f8ff;}#sk-container-id-1 input.sk-toggleable__control:checked~div.sk-toggleable__content {max-height: 200px;max-width: 100%;overflow: auto;}#sk-container-id-1 input.sk-toggleable__control:checked~label.sk-toggleable__label-arrow:before {content: \"▾\";}#sk-container-id-1 div.sk-estimator input.sk-toggleable__control:checked~label.sk-toggleable__label {background-color: #d4ebff;}#sk-container-id-1 div.sk-label input.sk-toggleable__control:checked~label.sk-toggleable__label {background-color: #d4ebff;}#sk-container-id-1 input.sk-hidden--visually {border: 0;clip: rect(1px 1px 1px 1px);clip: rect(1px, 1px, 1px, 1px);height: 1px;margin: -1px;overflow: hidden;padding: 0;position: absolute;width: 1px;}#sk-container-id-1 div.sk-estimator {font-family: monospace;background-color: #f0f8ff;border: 1px dotted black;border-radius: 0.25em;box-sizing: border-box;margin-bottom: 0.5em;}#sk-container-id-1 div.sk-estimator:hover {background-color: #d4ebff;}#sk-container-id-1 div.sk-parallel-item::after {content: \"\";width: 100%;border-bottom: 1px solid gray;flex-grow: 1;}#sk-container-id-1 div.sk-label:hover label.sk-toggleable__label {background-color: #d4ebff;}#sk-container-id-1 div.sk-serial::before {content: \"\";position: absolute;border-left: 1px solid gray;box-sizing: border-box;top: 0;bottom: 0;left: 50%;z-index: 0;}#sk-container-id-1 div.sk-serial {display: flex;flex-direction: column;align-items: center;background-color: white;padding-right: 0.2em;padding-left: 0.2em;position: relative;}#sk-container-id-1 div.sk-item {position: relative;z-index: 1;}#sk-container-id-1 div.sk-parallel {display: flex;align-items: stretch;justify-content: center;background-color: white;position: relative;}#sk-container-id-1 div.sk-item::before, #sk-container-id-1 div.sk-parallel-item::before {content: \"\";position: absolute;border-left: 1px solid gray;box-sizing: border-box;top: 0;bottom: 0;left: 50%;z-index: -1;}#sk-container-id-1 div.sk-parallel-item {display: flex;flex-direction: column;z-index: 1;position: relative;background-color: white;}#sk-container-id-1 div.sk-parallel-item:first-child::after {align-self: flex-end;width: 50%;}#sk-container-id-1 div.sk-parallel-item:last-child::after {align-self: flex-start;width: 50%;}#sk-container-id-1 div.sk-parallel-item:only-child::after {width: 0;}#sk-container-id-1 div.sk-dashed-wrapped {border: 1px dashed gray;margin: 0 0.4em 0.5em 0.4em;box-sizing: border-box;padding-bottom: 0.4em;background-color: white;}#sk-container-id-1 div.sk-label label {font-family: monospace;font-weight: bold;display: inline-block;line-height: 1.2em;}#sk-container-id-1 div.sk-label-container {text-align: center;}#sk-container-id-1 div.sk-container {/* jupyter's `normalize.less` sets `[hidden] { display: none; }` but bootstrap.min.css set `[hidden] { display: none !important; }` so we also need the `!important` here to be able to override the default hidden behavior on the sphinx rendered scikit-learn.org. See: https://github.com/scikit-learn/scikit-learn/issues/21755 */display: inline-block !important;position: relative;}#sk-container-id-1 div.sk-text-repr-fallback {display: none;}</style><div id=\"sk-container-id-1\" class=\"sk-top-container\"><div class=\"sk-text-repr-fallback\"><pre>LogisticRegression(max_iter=10000, random_state=123)</pre><b>In a Jupyter environment, please rerun this cell to show the HTML representation or trust the notebook. <br />On GitHub, the HTML representation is unable to render, please try loading this page with nbviewer.org.</b></div><div class=\"sk-container\" hidden><div class=\"sk-item\"><div class=\"sk-estimator sk-toggleable\"><input class=\"sk-toggleable__control sk-hidden--visually\" id=\"sk-estimator-id-1\" type=\"checkbox\" checked><label for=\"sk-estimator-id-1\" class=\"sk-toggleable__label sk-toggleable__label-arrow\">LogisticRegression</label><div class=\"sk-toggleable__content\"><pre>LogisticRegression(max_iter=10000, random_state=123)</pre></div></div></div></div></div>"
            ],
            "text/plain": [
              "LogisticRegression(max_iter=10000, random_state=123)"
            ]
          },
          "execution_count": 12,
          "metadata": {},
          "output_type": "execute_result"
        }
      ],
      "source": [
        "from sklearn.linear_model import LogisticRegression\n",
        "\n",
        "lg = LogisticRegression(random_state=123, max_iter=10000)\n",
        "lg.fit(X_train, train['CATEGORY'])"
      ]
    },
    {
      "cell_type": "code",
      "execution_count": 13,
      "metadata": {
        "id": "KnB6xEEEK3g7"
      },
      "outputs": [],
      "source": [
        "import numpy as np\n",
        "def score(lg,x):\n",
        "  return[np.max(lg.predict_proba(x),axis=1),lg.predict(x)]"
      ]
    },
    {
      "cell_type": "code",
      "execution_count": 14,
      "metadata": {
        "colab": {
          "base_uri": "https://localhost:8080/"
        },
        "id": "jtauOQbVMo4L",
        "outputId": "5ccc75c1-b3c6-484a-a25e-f0fa14ea9ece"
      },
      "outputs": [
        {
          "name": "stdout",
          "output_type": "stream",
          "text": [
            "[array([0.94465832, 0.53412461, 0.74239951, ..., 0.96803602, 0.66861914,\n",
            "       0.92907688]), array(['b', 'b', 'e', ..., 'b', 'b', 'b'], dtype=object)]\n"
          ]
        }
      ],
      "source": [
        "train_predict=score(lg,X_train)\n",
        "test_predict=score(lg,X_test)\n",
        "print(train_predict)"
      ]
    },
    {
      "cell_type": "code",
      "execution_count": 15,
      "metadata": {
        "colab": {
          "base_uri": "https://localhost:8080/"
        },
        "id": "SgJfX7tbM0I4",
        "outputId": "d0e5e8c6-e02a-4346-e005-2e0efb9e7ca0"
      },
      "outputs": [
        {
          "name": "stdout",
          "output_type": "stream",
          "text": [
            "学習データの正解率=0.868\n",
            "テストデータの正解率=0.827\n"
          ]
        }
      ],
      "source": [
        "from sklearn.metrics import accuracy_score\n",
        "\n",
        "train_accuracy=accuracy_score(train[\"CATEGORY\"],train_predict[1])\n",
        "test_accuracy=accuracy_score(test[\"CATEGORY\"],test_predict[1])\n",
        "\n",
        "print(f\"学習データの正解率={train_accuracy:.3f}\")\n",
        "print(f\"テストデータの正解率={test_accuracy:.3f}\")"
      ]
    },
    {
      "cell_type": "code",
      "execution_count": 16,
      "metadata": {},
      "outputs": [
        {
          "name": "stdout",
          "output_type": "stream",
          "text": [
            "Requirement already satisfied: seaborn in c:\\users\\rio_m\\appdata\\local\\programs\\python\\python311\\lib\\site-packages (0.12.2)\n",
            "Requirement already satisfied: numpy!=1.24.0,>=1.17 in c:\\users\\rio_m\\appdata\\local\\programs\\python\\python311\\lib\\site-packages (from seaborn) (1.24.3)\n",
            "Requirement already satisfied: pandas>=0.25 in c:\\users\\rio_m\\appdata\\local\\programs\\python\\python311\\lib\\site-packages (from seaborn) (2.0.2)\n",
            "Requirement already satisfied: matplotlib!=3.6.1,>=3.1 in c:\\users\\rio_m\\appdata\\local\\programs\\python\\python311\\lib\\site-packages (from seaborn) (3.7.1)\n",
            "Requirement already satisfied: contourpy>=1.0.1 in c:\\users\\rio_m\\appdata\\local\\programs\\python\\python311\\lib\\site-packages (from matplotlib!=3.6.1,>=3.1->seaborn) (1.0.7)\n",
            "Requirement already satisfied: cycler>=0.10 in c:\\users\\rio_m\\appdata\\local\\programs\\python\\python311\\lib\\site-packages (from matplotlib!=3.6.1,>=3.1->seaborn) (0.11.0)\n",
            "Requirement already satisfied: fonttools>=4.22.0 in c:\\users\\rio_m\\appdata\\local\\programs\\python\\python311\\lib\\site-packages (from matplotlib!=3.6.1,>=3.1->seaborn) (4.39.4)\n",
            "Requirement already satisfied: kiwisolver>=1.0.1 in c:\\users\\rio_m\\appdata\\local\\programs\\python\\python311\\lib\\site-packages (from matplotlib!=3.6.1,>=3.1->seaborn) (1.4.4)\n",
            "Requirement already satisfied: packaging>=20.0 in c:\\users\\rio_m\\appdata\\roaming\\python\\python311\\site-packages (from matplotlib!=3.6.1,>=3.1->seaborn) (23.1)\n",
            "Requirement already satisfied: pillow>=6.2.0 in c:\\users\\rio_m\\appdata\\local\\programs\\python\\python311\\lib\\site-packages (from matplotlib!=3.6.1,>=3.1->seaborn) (9.5.0)\n",
            "Requirement already satisfied: pyparsing>=2.3.1 in c:\\users\\rio_m\\appdata\\local\\programs\\python\\python311\\lib\\site-packages (from matplotlib!=3.6.1,>=3.1->seaborn) (3.0.9)\n",
            "Requirement already satisfied: python-dateutil>=2.7 in c:\\users\\rio_m\\appdata\\roaming\\python\\python311\\site-packages (from matplotlib!=3.6.1,>=3.1->seaborn) (2.8.2)\n",
            "Requirement already satisfied: pytz>=2020.1 in c:\\users\\rio_m\\appdata\\local\\programs\\python\\python311\\lib\\site-packages (from pandas>=0.25->seaborn) (2023.3)\n",
            "Requirement already satisfied: tzdata>=2022.1 in c:\\users\\rio_m\\appdata\\local\\programs\\python\\python311\\lib\\site-packages (from pandas>=0.25->seaborn) (2023.3)\n",
            "Requirement already satisfied: six>=1.5 in c:\\users\\rio_m\\appdata\\roaming\\python\\python311\\site-packages (from python-dateutil>=2.7->matplotlib!=3.6.1,>=3.1->seaborn) (1.16.0)\n",
            "Note: you may need to restart the kernel to use updated packages.\n"
          ]
        }
      ],
      "source": [
        "%pip install seaborn"
      ]
    },
    {
      "cell_type": "code",
      "execution_count": 17,
      "metadata": {},
      "outputs": [],
      "source": [
        "from sklearn.metrics import confusion_matrix\n",
        "import seaborn as sns\n",
        "import matplotlib.pyplot as plt\n"
      ]
    },
    {
      "cell_type": "code",
      "execution_count": 18,
      "metadata": {},
      "outputs": [
        {
          "name": "stdout",
          "output_type": "stream",
          "text": [
            "[[4149  253   19   81]\n",
            " [ 154 4031   16   22]\n",
            " [ 120  204  387   17]\n",
            " [ 260  250   18  691]]\n"
          ]
        },
        {
          "data": {
            "image/png": "[encoded data removed]",
            "text/plain": [
              "<Figure size 640x480 with 2 Axes>"
            ]
          },
          "metadata": {},
          "output_type": "display_data"
        }
      ],
      "source": [
        "train_confusion=confusion_matrix(train[\"CATEGORY\"],train_predict[1])\n",
        "print(train_confusion)\n",
        "sns.heatmap(train_confusion,annot=True)\n",
        "plt.show()"
      ]
    },
    {
      "cell_type": "code",
      "execution_count": 19,
      "metadata": {},
      "outputs": [
        {
          "name": "stdout",
          "output_type": "stream",
          "text": [
            "[[501  37   4  20]\n",
            " [ 23 494   3   8]\n",
            " [ 15  37  34   5]\n",
            " [ 41  35   3  74]]\n"
          ]
        },
        {
          "data": {
            "image/png": "[encoded data removed]",
            "text/plain": [
              "<Figure size 640x480 with 2 Axes>"
            ]
          },
          "metadata": {},
          "output_type": "display_data"
        }
      ],
      "source": [
        "test_confusion=confusion_matrix(test[\"CATEGORY\"],test_predict[1])\n",
        "print(test_confusion)\n",
        "sns.heatmap(test_confusion,annot=True)\n",
        "plt.show()"
      ]
    },
    {
      "cell_type": "code",
      "execution_count": 20,
      "metadata": {},
      "outputs": [
        {
          "name": "stdout",
          "output_type": "stream",
          "text": [
            "             適合率       再現率     F1スコア\n",
            "b       0.863793  0.891459  0.877408\n",
            "e       0.819237  0.935606  0.873563\n",
            "t       0.691589  0.483660  0.569231\n",
            "m       0.772727  0.373626  0.503704\n",
            "マイクロ平均  0.826837  0.826837  0.826837\n",
            "マクロ平均   0.786837  0.671088  0.705976\n"
          ]
        }
      ],
      "source": [
        "from sklearn.metrics import precision_score, recall_score, f1_score\n",
        "\n",
        "def calculate(answer,predict):\n",
        "    precision=precision_score(answer,predict,average=None,labels=['b', 'e', 't', 'm'])\n",
        "    precision=np.append(precision,precision_score(answer,predict,average=\"micro\"))\n",
        "    precision=np.append(precision,precision_score(answer,predict,average=\"macro\"))\n",
        "\n",
        "    recall=recall_score(answer,predict,average=None,labels=['b', 'e', 't', 'm'])\n",
        "    recall=np.append(recall,recall_score(answer,predict,average=\"micro\"))\n",
        "    recall=np.append(recall,recall_score(answer,predict,average=\"macro\"))\n",
        "\n",
        "    f1=f1_score(answer,predict,average=None,labels=['b', 'e', 't', 'm'])\n",
        "    f1=np.append(f1,f1_score(answer,predict,average=\"micro\"))\n",
        "    f1=np.append(f1,f1_score(answer,predict,average=\"macro\"))\n",
        "\n",
        "    scores=pd.DataFrame({\"適合率\": precision,\"再現率\": recall,\"F1スコア\": f1},index=['b', 'e', 't', 'm', 'マイクロ平均', 'マクロ平均'])                    \n",
        "    return scores\n",
        "\n",
        "print(calculate(test[\"CATEGORY\"],test_predict[1]))"
      ]
    },
    {
      "cell_type": "code",
      "execution_count": 21,
      "metadata": {},
      "outputs": [
        {
          "name": "stdout",
          "output_type": "stream",
          "text": [
            "              precision    recall  f1-score   support\n",
            "\n",
            "           b       0.86      0.89      0.88       562\n",
            "           e       0.82      0.94      0.87       528\n",
            "           m       0.77      0.37      0.50        91\n",
            "           t       0.69      0.48      0.57       153\n",
            "\n",
            "    accuracy                           0.83      1334\n",
            "   macro avg       0.79      0.67      0.71      1334\n",
            "weighted avg       0.82      0.83      0.82      1334\n",
            "\n"
          ]
        }
      ],
      "source": [
        "from sklearn.metrics import classification_report\n",
        "\n",
        "print(classification_report(test['CATEGORY'], test_predict[1], labels=['b', 'e', 'm', 't']))"
      ]
    },
    {
      "cell_type": "code",
      "execution_count": 22,
      "metadata": {},
      "outputs": [
        {
          "name": "stdout",
          "output_type": "stream",
          "text": [
            "b\n",
            "best\n",
            "('bank', 3.520338060619401)\n",
            "('stocks', 3.3230982703016556)\n",
            "('fed', 3.186135387461966)\n",
            "('ecb', 3.1110467002835485)\n",
            "('china', 2.91248404139848)\n",
            "('oil', 2.7667692372002617)\n",
            "('euro', 2.731408903147505)\n",
            "('ukraine', 2.6028433801141366)\n",
            "('dollar', 2.6005727019336717)\n",
            "('obamacare', 2.5582205374427724)\n",
            "worst\n",
            "('last', 0.0014772112188540043)\n",
            "('late', 0.0021761067334205306)\n",
            "('do', 0.0022480434661783255)\n",
            "('case', 0.0029052349199880896)\n",
            "('beats', 0.00637935259684704)\n",
            "('second', 0.008131991784760852)\n",
            "('news', 0.009688984491575976)\n",
            "('to', 0.010446700912796274)\n",
            "('another', 0.013242195031976314)\n",
            "('all', 0.014933846173449741)\n",
            "e\n",
            "best\n",
            "('kardashian', 2.937065409941254)\n",
            "('google', 2.866332140258023)\n",
            "('chris', 2.772537821237053)\n",
            "('china', 2.4708005609483883)\n",
            "('movie', 2.4646437043497227)\n",
            "('update', 2.4451006351585822)\n",
            "('film', 2.443813367861445)\n",
            "('thrones', 2.411793166358106)\n",
            "('data', 2.4102580087097167)\n",
            "('fans', 2.324650109796834)\n",
            "worst\n",
            "('week', 0.0006689304320942949)\n",
            "('three', 0.0015646110639395015)\n",
            "('old', 0.0025395815987431718)\n",
            "('model', 0.005534235646355593)\n",
            "('they', 0.006144424655299601)\n",
            "('run', 0.006591598504791341)\n",
            "('service', 0.007853437302347685)\n",
            "('files', 0.01069265071041324)\n",
            "('take', 0.011404853441097887)\n",
            "('it', 0.012658766977190563)\n",
            "m\n",
            "best\n",
            "('ebola', 4.749045689395448)\n",
            "('mers', 3.835203571134037)\n",
            "('study', 3.7654425308796564)\n",
            "('fda', 3.752873361534834)\n",
            "('cancer', 3.566082141816562)\n",
            "('drug', 3.1723733505761267)\n",
            "('outbreak', 2.719656146512456)\n",
            "('heart', 2.4086337328523157)\n",
            "('virus', 2.3711028141703703)\n",
            "('could', 2.3183098810328744)\n",
            "worst\n",
            "('live', 0.0011598500892075192)\n",
            "('him', 0.002399051840580904)\n",
            "('amazing', 0.0026431348056505043)\n",
            "('mtv', 0.005501726252017385)\n",
            "('holds', 0.005971089956395541)\n",
            "('we', 0.00766758643726585)\n",
            "('capital', 0.007869729282395228)\n",
            "('near', 0.009045361883251689)\n",
            "('gives', 0.009803586828589788)\n",
            "('former', 0.012059464354192324)\n",
            "t\n",
            "best\n",
            "('google', 5.191235610032032)\n",
            "('facebook', 4.626945888450042)\n",
            "('apple', 4.194905474033564)\n",
            "('microsoft', 4.0972167047925145)\n",
            "('climate', 3.230810387417522)\n",
            "('gm', 3.0932894836609295)\n",
            "('tesla', 3.016996420435714)\n",
            "('comcast', 2.800419171849358)\n",
            "('samsung', 2.7992981364329346)\n",
            "('mobile', 2.71581105589639)\n",
            "worst\n",
            "('study', 2.2071790523948937e-05)\n",
            "('biggest', 0.0005372275289717905)\n",
            "('com', 0.002354621255641948)\n",
            "('estimates', 0.003456474897830337)\n",
            "('short', 0.0036522039214274223)\n",
            "('australia', 0.00549164420455166)\n",
            "('how', 0.00624419173052342)\n",
            "('go', 0.007317335000306718)\n",
            "('get', 0.00825828812154878)\n",
            "('quarterly', 0.010625503466308287)\n"
          ]
        }
      ],
      "source": [
        "feature_names = X_train.columns.values\n",
        "\n",
        "for i in range(len(lg.classes_)):\n",
        "    coef=lg.coef_[i]\n",
        "    features=[(feature_names[j],np.abs(coef[j])) for j in range(len(feature_names))]\n",
        "    print(lg.classes_[i])\n",
        "    best=sorted(features,key=lambda x:x[1],reverse=True)\n",
        "    worst=sorted(features,key=lambda x:x[1],reverse=False)\n",
        "    print(\"best\")\n",
        "    for i in range(10):\n",
        "        print(best[i])\n",
        "    print(\"worst\")\n",
        "    for i in range(10):\n",
        "        print(worst[i])\n"
      ]
    },
    {
      "cell_type": "code",
      "execution_count": 23,
      "metadata": {},
      "outputs": [
        {
          "name": "stderr",
          "output_type": "stream",
          "text": [
            "100%|██████████| 10/10 [00:31<00:00,  3.15s/it]\n"
          ]
        }
      ],
      "source": [
        "from tqdm import tqdm\n",
        "\n",
        "result=[]\n",
        "for C in tqdm(np.logspace(-5, 4, 10, base=10)):\n",
        "    lg=LogisticRegression(random_state=123,max_iter=10000,C=C)\n",
        "    lg.fit(X_train,train[\"CATEGORY\"])\n",
        "\n",
        "    train_predict=score(lg,X_train)\n",
        "    valid_predict=score(lg,X_valid)\n",
        "    test_predict=score(lg,X_test)\n",
        "\n",
        "    train_accuracy=accuracy_score(train[\"CATEGORY\"],train_predict[1])\n",
        "    valid_accuracy=accuracy_score(valid[\"CATEGORY\"],valid_predict[1])\n",
        "    test_accuracy=accuracy_score(test[\"CATEGORY\"],test_predict[1])\n",
        "    result.append([C, train_accuracy, valid_accuracy, test_accuracy])"
      ]
    },
    {
      "cell_type": "code",
      "execution_count": 24,
      "metadata": {},
      "outputs": [
        {
          "name": "stdout",
          "output_type": "stream",
          "text": [
            "[[1e-05, 0.42185157421289354, 0.42203898050974514, 0.42128935532233885], [0.0001, 0.42185157421289354, 0.42203898050974514, 0.42128935532233885], [0.001, 0.5668103448275862, 0.5667166416791605, 0.5599700149925038], [0.01, 0.7440967016491754, 0.7353823088455772, 0.7368815592203898], [0.1, 0.8061281859070465, 0.7886056971514243, 0.7818590704647677], [1.0, 0.867503748125937, 0.8403298350824587, 0.8268365817091454], [10.0, 0.8856821589205397, 0.841079460269865, 0.8178410794602698], [100.0, 0.8872751124437781, 0.8328335832083958, 0.8088455772113943], [1000.0, 0.8867128935532234, 0.8335832083958021, 0.8095952023988006], [10000.0, 0.8868065967016492, 0.8335832083958021, 0.8095952023988006]]\n"
          ]
        }
      ],
      "source": [
        "print(result)"
      ]
    },
    {
      "cell_type": "code",
      "execution_count": 25,
      "metadata": {},
      "outputs": [
        {
          "data": {
            "image/png": "[encoded data removed]",
            "text/plain": [
              "<Figure size 640x480 with 1 Axes>"
            ]
          },
          "metadata": {},
          "output_type": "display_data"
        }
      ],
      "source": [
        "result = np.array(result).T\n",
        "plt.plot(result[0], result[1], label='train')\n",
        "plt.plot(result[0], result[2], label='valid')\n",
        "plt.plot(result[0], result[3], label='test')\n",
        "plt.ylim(0, 1.1)\n",
        "plt.ylabel('Accuracy')\n",
        "plt.xscale ('log')\n",
        "plt.xlabel('C')\n",
        "plt.legend()\n",
        "plt.show()"
      ]
    },
    {
      "cell_type": "code",
      "execution_count": null,
      "metadata": {},
      "outputs": [],
      "source": []
    },
    {
      "cell_type": "code",
      "execution_count": null,
      "metadata": {},
      "outputs": [],
      "source": []
    }
  ],
  "metadata": {
    "colab": {
      "provenance": []
    },
    "kernelspec": {
      "display_name": "Python 3",
      "name": "python3"
    },
    "language_info": {
      "codemirror_mode": {
        "name": "ipython",
        "version": 3
      },
      "file_extension": ".py",
      "mimetype": "text/x-python",
      "name": "python",
      "nbconvert_exporter": "python",
      "pygments_lexer": "ipython3",
      "version": "3.11.3"
    }
  },
  "nbformat": 4,
  "nbformat_minor": 0
}

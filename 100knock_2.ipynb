{
  "nbformat": 4,
  "nbformat_minor": 0,
  "metadata": {
    "colab": {
      "provenance": []
    },
    "kernelspec": {
      "name": "python3",
      "display_name": "Python 3"
    },
    "language_info": {
      "name": "python"
    }
  },
  "cells": [
    {
      "cell_type": "code",
      "execution_count": 81,
      "metadata": {
        "colab": {
          "base_uri": "https://localhost:8080/"
        },
        "id": "6spvgNL4240K",
        "outputId": "e6d338e9-d042-4a6c-895e-8b002b2d0ea3"
      },
      "outputs": [
        {
          "output_type": "stream",
          "name": "stdout",
          "text": [
            "Cloning into 'hlab2023-nlp100'...\n",
            "remote: Enumerating objects: 108, done.\u001b[K\n",
            "remote: Counting objects: 100% (108/108), done.\u001b[K\n",
            "remote: Compressing objects: 100% (77/77), done.\u001b[K\n",
            "remote: Total 108 (delta 35), reused 96 (delta 24), pack-reused 0\u001b[K\n",
            "Receiving objects: 100% (108/108), 16.99 MiB | 24.58 MiB/s, done.\n",
            "Resolving deltas: 100% (35/35), done.\n"
          ]
        }
      ],
      "source": [
        "!git clone https://github.com/m0chi1216/hlab2023-nlp100.git"
      ]
    },
    {
      "cell_type": "code",
      "source": [
        "cd hlab2023-nlp100"
      ],
      "metadata": {
        "colab": {
          "base_uri": "https://localhost:8080/"
        },
        "id": "5xj6Wp-r2_kb",
        "outputId": "258b08ab-3656-445b-8afa-796120502f41"
      },
      "execution_count": 82,
      "outputs": [
        {
          "output_type": "stream",
          "name": "stdout",
          "text": [
            "/content/hlab2023-nlp100/hlab2023-nlp100\n"
          ]
        }
      ]
    },
    {
      "cell_type": "code",
      "source": [
        "!git checkout -b suzuki origin/suzuki"
      ],
      "metadata": {
        "colab": {
          "base_uri": "https://localhost:8080/"
        },
        "id": "1hgTzA7r3JBC",
        "outputId": "413513f8-abae-491f-be8a-9713ad0c1a1a"
      },
      "execution_count": 83,
      "outputs": [
        {
          "output_type": "stream",
          "name": "stdout",
          "text": [
            "Branch 'suzuki' set up to track remote branch 'suzuki' from 'origin'.\n",
            "Switched to a new branch 'suzuki'\n"
          ]
        }
      ]
    },
    {
      "cell_type": "code",
      "source": [
        "!wget https://archive.ics.uci.edu/ml/machine-learning-databases/00359/NewsAggregatorDataset.zip\n",
        "!unzip NewsAggregatorDataset.zip"
      ],
      "metadata": {
        "colab": {
          "base_uri": "https://localhost:8080/"
        },
        "id": "FjB-L5LL3KTp",
        "outputId": "77a15f10-ffb4-4480-b6bf-bdaf36383452"
      },
      "execution_count": 84,
      "outputs": [
        {
          "output_type": "stream",
          "name": "stdout",
          "text": [
            "--2023-05-29 11:19:08--  https://archive.ics.uci.edu/ml/machine-learning-databases/00359/NewsAggregatorDataset.zip\n",
            "Resolving archive.ics.uci.edu (archive.ics.uci.edu)... 128.195.10.252\n",
            "Connecting to archive.ics.uci.edu (archive.ics.uci.edu)|128.195.10.252|:443... connected.\n",
            "HTTP request sent, awaiting response... 200 OK\n",
            "Length: 29224203 (28M) [application/x-httpd-php]\n",
            "Saving to: ‘NewsAggregatorDataset.zip’\n",
            "\n",
            "NewsAggregatorDatas 100%[===================>]  27.87M  35.3MB/s    in 0.8s    \n",
            "\n",
            "2023-05-29 11:19:09 (35.3 MB/s) - ‘NewsAggregatorDataset.zip’ saved [29224203/29224203]\n",
            "\n",
            "Archive:  NewsAggregatorDataset.zip\n",
            "  inflating: 2pageSessions.csv       \n",
            "   creating: __MACOSX/\n",
            "  inflating: __MACOSX/._2pageSessions.csv  \n",
            "  inflating: newsCorpora.csv         \n",
            "  inflating: __MACOSX/._newsCorpora.csv  \n",
            "  inflating: readme.txt              \n",
            "  inflating: __MACOSX/._readme.txt   \n"
          ]
        }
      ]
    },
    {
      "cell_type": "code",
      "source": [
        "!sed -e 's/\"/'\\''/g' ./newsCorpora.csv > ./newsCorpora_re.csv\n"
      ],
      "metadata": {
        "id": "bbzTyLo843KW"
      },
      "execution_count": 85,
      "outputs": []
    },
    {
      "cell_type": "code",
      "source": [
        "with open(\"readme.txt\",\"r\")as fp:\n",
        "  words=fp.read()\n",
        "  print(words)\n",
        "  fp.close()"
      ],
      "metadata": {
        "colab": {
          "base_uri": "https://localhost:8080/"
        },
        "id": "7bobRKMP3RoQ",
        "outputId": "931a4dee-9b4c-4e7c-c953-28c1afb17456"
      },
      "execution_count": 86,
      "outputs": [
        {
          "output_type": "stream",
          "name": "stdout",
          "text": [
            "SUMMARY: Dataset of references (urls) to news web pages\n",
            "\n",
            "DESCRIPTION: Dataset of references to news web pages collected from an online aggregator in the period from March 10 to August 10 of 2014. The resources are grouped into clusters that represent pages discussing the same news story. The dataset includes also references to web pages that point (has a link to) one of the news page in the collection.\n",
            "\n",
            "TAGS: web pages, news, aggregator, classification, clustering\n",
            "\n",
            "LICENSE: Public domain - Due to restrictions on content and use of the news sources, the corpus is limited to web references (urls) to web pages and does not include any text content. The references have been retrieved from the news aggregator through traditional web browsers. \n",
            "\n",
            "FILE ENCODING: UTF-8\n",
            "\n",
            "FORMAT: Tab delimited CSV files. \n",
            "\n",
            "DATA SHAPE AND STATS: 422937 news pages and divided up into:\n",
            "\n",
            "152746 \tnews of business category\n",
            "108465 \tnews of science and technology category\n",
            "115920 \tnews of business category\n",
            " 45615 \tnews of health category\n",
            "\n",
            "2076 clusters of similar news for entertainment category\n",
            "1789 clusters of similar news for science and technology category\n",
            "2019 clusters of similar news for business category\n",
            "1347 clusters of similar news for health category\n",
            "\n",
            "References to web pages containing a link to one news included in the collection are also included. They are represented as pairs of urls corresponding to 2-page browsing sessions. The collection includes 15516 2-page browsing sessions covering 946 distinct clusters divided up into:\n",
            "\n",
            "6091 2-page sessions for business category\n",
            "9425 2-page sessions for entertainment category\n",
            "\n",
            " \n",
            "\n",
            "CONTENT\n",
            "=======\n",
            "\n",
            "FILENAME #1: newsCorpora.csv (102.297.000 bytes)\n",
            "DESCRIPTION: News pages\n",
            "FORMAT: ID \\t TITLE \\t URL \\t PUBLISHER \\t CATEGORY \\t STORY \\t HOSTNAME \\t TIMESTAMP\n",
            "\n",
            "where:\n",
            "ID\t\tNumeric ID\n",
            "TITLE\t\tNews title \n",
            "URL\t\tUrl\n",
            "PUBLISHER\tPublisher name\n",
            "CATEGORY\tNews category (b = business, t = science and technology, e = entertainment, m = health)\n",
            "STORY\t\tAlphanumeric ID of the cluster that includes news about the same story\n",
            "HOSTNAME\tUrl hostname\n",
            "TIMESTAMP \tApproximate time the news was published, as the number of milliseconds since the epoch 00:00:00 GMT, January 1, 1970\n",
            "\n",
            "\n",
            "FILENAME #2: 2pageSessions.csv (3.049.986 bytes)\n",
            "DESCRIPTION: 2-page sessions\n",
            "FORMAT: STORY \\t HOSTNAME \\t CATEGORY \\t URL\n",
            "\n",
            "where:\n",
            "STORY\t\tAlphanumeric ID of the cluster that includes news about the same story\n",
            "HOSTNAME\tUrl hostname\n",
            "CATEGORY\tNews category (b = business, t = science and technology, e = entertainment, m = health)\n",
            "URL\t\tTwo space-delimited urls representing a browsing session\n",
            "\n"
          ]
        }
      ]
    },
    {
      "cell_type": "code",
      "source": [
        "!pip install -U scikit-learn"
      ],
      "metadata": {
        "colab": {
          "base_uri": "https://localhost:8080/"
        },
        "id": "23GUVJSGGAzR",
        "outputId": "639e1914-dc64-4c4c-9330-bf111cceef3f"
      },
      "execution_count": 87,
      "outputs": [
        {
          "output_type": "stream",
          "name": "stdout",
          "text": [
            "Looking in indexes: https://pypi.org/simple, https://us-python.pkg.dev/colab-wheels/public/simple/\n",
            "Requirement already satisfied: scikit-learn in /usr/local/lib/python3.10/dist-packages (1.2.2)\n",
            "Requirement already satisfied: numpy>=1.17.3 in /usr/local/lib/python3.10/dist-packages (from scikit-learn) (1.22.4)\n",
            "Requirement already satisfied: scipy>=1.3.2 in /usr/local/lib/python3.10/dist-packages (from scikit-learn) (1.10.1)\n",
            "Requirement already satisfied: joblib>=1.1.1 in /usr/local/lib/python3.10/dist-packages (from scikit-learn) (1.2.0)\n",
            "Requirement already satisfied: threadpoolctl>=2.0.0 in /usr/local/lib/python3.10/dist-packages (from scikit-learn) (3.1.0)\n"
          ]
        }
      ]
    },
    {
      "cell_type": "code",
      "source": [
        "import pandas as pd\n",
        "from sklearn.model_selection import train_test_split\n",
        "\n",
        "df = pd.read_csv('./newsCorpora_re.csv',header=None, sep='\\t', names=['ID', 'TITLE', 'URL', 'PUBLISHER', 'CATEGORY', 'STORY', 'HOSTNAME', 'TIMESTAMP'])\n",
        "df=df.loc[df['PUBLISHER'].isin(['Reuters', 'Huffington Post', 'Businessweek', 'Contactmusic.com', 'Daily Mail']),['TITLE', 'CATEGORY']]\n",
        "\n",
        "train,valid=train_test_split(df,test_size=0.2,random_state=1,shuffle=True,stratify=df[\"CATEGORY\"])\n",
        "valid,test=train_test_split(valid,test_size=0.5,random_state=1,shuffle=True,stratify=valid[\"CATEGORY\"])\n",
        "\n",
        "train.to_csv('./train.txt', sep='\\t', index=False)\n",
        "valid.to_csv('./valid.txt', sep='\\t', index=False)\n",
        "test.to_csv('./test.txt', sep='\\t', index=False)\n",
        "\n",
        "print('学習データ')\n",
        "print(train['CATEGORY'].value_counts())\n",
        "print('検証データ')\n",
        "print(valid['CATEGORY'].value_counts())\n",
        "print('評価データ')\n",
        "print(test['CATEGORY'].value_counts())"
      ],
      "metadata": {
        "colab": {
          "base_uri": "https://localhost:8080/"
        },
        "id": "OgWyZkOT3sX7",
        "outputId": "aeef9a0d-ea11-4072-b487-22fb36f20304"
      },
      "execution_count": 88,
      "outputs": [
        {
          "output_type": "stream",
          "name": "stdout",
          "text": [
            "学習データ\n",
            "b    4501\n",
            "e    4235\n",
            "t    1220\n",
            "m     728\n",
            "Name: CATEGORY, dtype: int64\n",
            "検証データ\n",
            "b    563\n",
            "e    530\n",
            "t    152\n",
            "m     91\n",
            "Name: CATEGORY, dtype: int64\n",
            "評価データ\n",
            "b    563\n",
            "e    529\n",
            "t    153\n",
            "m     91\n",
            "Name: CATEGORY, dtype: int64\n"
          ]
        }
      ]
    },
    {
      "cell_type": "code",
      "source": [
        "import string\n",
        "import re\n",
        "\n",
        "def preprocessing(text):\n",
        "  table = str.maketrans(string.punctuation, ' '*len(string.punctuation))\n",
        "  text = text.translate(table)  # 記号をスペースに置換\n",
        "  text = text.lower()  # 小文字化\n",
        "  text = re.sub('[0-9]+', '0', text)  # 数字列を0に置換\n",
        "\n",
        "  return text"
      ],
      "metadata": {
        "id": "z_yZya-v4h7s"
      },
      "execution_count": 89,
      "outputs": []
    },
    {
      "cell_type": "code",
      "source": [
        "df=pd.concat([train,valid,test])\n",
        "df.reset_index(drop=True,inplace=True)\n",
        "df[\"TITLE\"]=df[\"TITLE\"].map(lambda x:preprocessing(x))\n",
        "print(df.head())"
      ],
      "metadata": {
        "colab": {
          "base_uri": "https://localhost:8080/"
        },
        "id": "EX8myHzR9Vdb",
        "outputId": "3de5c886-6678-4c2f-8801-a248867a6d83"
      },
      "execution_count": 90,
      "outputs": [
        {
          "output_type": "stream",
          "name": "stdout",
          "text": [
            "                                               TITLE CATEGORY\n",
            "0  new microsoft ceo nadella impresses wall stree...        b\n",
            "1  argentina won t make june 0 debt payment after...        b\n",
            "2  is the ipad a big iphone or a small mac  or is...        t\n",
            "3  strong jobs report raises a question  how much...        b\n",
            "4  tougher leverage caps for us banks set for reg...        b\n"
          ]
        }
      ]
    },
    {
      "cell_type": "code",
      "source": [
        "from sklearn.feature_extraction.text import TfidfVectorizer\n",
        "\n",
        "train_valid = df[:len(train) + len(valid)]\n",
        "test = df[len(train) + len(valid):]\n",
        "\n",
        "vec_tfidf=TfidfVectorizer(min_df=30)\n",
        "X_train_valid = vec_tfidf.fit_transform(train_valid['TITLE']) \n",
        "X_test = vec_tfidf.transform(test['TITLE'])\n",
        "\n",
        "X_train_valid = pd.DataFrame(X_train_valid.toarray(),columns=vec_tfidf.get_feature_names_out())\n",
        "X_test = pd.DataFrame(X_test.toarray(), columns=vec_tfidf.get_feature_names_out())\n",
        "\n",
        "X_train=X_train_valid[:len(train)]\n",
        "X_valid=X_train_valid[len(train):]\n",
        "\n",
        "print(X_train.head())\n"
      ],
      "metadata": {
        "colab": {
          "base_uri": "https://localhost:8080/"
        },
        "id": "gIWkTyk897Qb",
        "outputId": "2abbb854-ff47-460a-b712-6e7ddd6c6358"
      },
      "execution_count": 91,
      "outputs": [
        {
          "output_type": "stream",
          "name": "stdout",
          "text": [
            "   0th  about  action  actor  adds  affirms  africa     after  again  against  \\\n",
            "0  0.0    0.0     0.0    0.0   0.0      0.0     0.0  0.000000    0.0      0.0   \n",
            "1  0.0    0.0     0.0    0.0   0.0      0.0     0.0  0.268464    0.0      0.0   \n",
            "2  0.0    0.0     0.0    0.0   0.0      0.0     0.0  0.000000    0.0      0.0   \n",
            "3  0.0    0.0     0.0    0.0   0.0      0.0     0.0  0.000000    0.0      0.0   \n",
            "4  0.0    0.0     0.0    0.0   0.0      0.0     0.0  0.000000    0.0      0.0   \n",
            "\n",
            "   ...  yen  yet  yields  york  you  young  your  yuan  zac  zone  \n",
            "0  ...  0.0  0.0     0.0   0.0  0.0    0.0   0.0   0.0  0.0   0.0  \n",
            "1  ...  0.0  0.0     0.0   0.0  0.0    0.0   0.0   0.0  0.0   0.0  \n",
            "2  ...  0.0  0.0     0.0   0.0  0.0    0.0   0.0   0.0  0.0   0.0  \n",
            "3  ...  0.0  0.0     0.0   0.0  0.0    0.0   0.0   0.0  0.0   0.0  \n",
            "4  ...  0.0  0.0     0.0   0.0  0.0    0.0   0.0   0.0  0.0   0.0  \n",
            "\n",
            "[5 rows x 687 columns]\n"
          ]
        }
      ]
    },
    {
      "cell_type": "code",
      "source": [
        "from sklearn.linear_model import LogisticRegression\n",
        "\n",
        "lg = LogisticRegression(random_state=123, max_iter=10000)\n",
        "lg.fit(X_train, train['CATEGORY'])"
      ],
      "metadata": {
        "colab": {
          "base_uri": "https://localhost:8080/",
          "height": 74
        },
        "id": "2wvOSfbfHAYS",
        "outputId": "da8b5b4f-eac4-4240-f8b1-e64e4f86d981"
      },
      "execution_count": 92,
      "outputs": [
        {
          "output_type": "execute_result",
          "data": {
            "text/plain": [
              "LogisticRegression(max_iter=10000, random_state=123)"
            ],
            "text/html": [
              "<style>#sk-container-id-4 {color: black;background-color: white;}#sk-container-id-4 pre{padding: 0;}#sk-container-id-4 div.sk-toggleable {background-color: white;}#sk-container-id-4 label.sk-toggleable__label {cursor: pointer;display: block;width: 100%;margin-bottom: 0;padding: 0.3em;box-sizing: border-box;text-align: center;}#sk-container-id-4 label.sk-toggleable__label-arrow:before {content: \"▸\";float: left;margin-right: 0.25em;color: #696969;}#sk-container-id-4 label.sk-toggleable__label-arrow:hover:before {color: black;}#sk-container-id-4 div.sk-estimator:hover label.sk-toggleable__label-arrow:before {color: black;}#sk-container-id-4 div.sk-toggleable__content {max-height: 0;max-width: 0;overflow: hidden;text-align: left;background-color: #f0f8ff;}#sk-container-id-4 div.sk-toggleable__content pre {margin: 0.2em;color: black;border-radius: 0.25em;background-color: #f0f8ff;}#sk-container-id-4 input.sk-toggleable__control:checked~div.sk-toggleable__content {max-height: 200px;max-width: 100%;overflow: auto;}#sk-container-id-4 input.sk-toggleable__control:checked~label.sk-toggleable__label-arrow:before {content: \"▾\";}#sk-container-id-4 div.sk-estimator input.sk-toggleable__control:checked~label.sk-toggleable__label {background-color: #d4ebff;}#sk-container-id-4 div.sk-label input.sk-toggleable__control:checked~label.sk-toggleable__label {background-color: #d4ebff;}#sk-container-id-4 input.sk-hidden--visually {border: 0;clip: rect(1px 1px 1px 1px);clip: rect(1px, 1px, 1px, 1px);height: 1px;margin: -1px;overflow: hidden;padding: 0;position: absolute;width: 1px;}#sk-container-id-4 div.sk-estimator {font-family: monospace;background-color: #f0f8ff;border: 1px dotted black;border-radius: 0.25em;box-sizing: border-box;margin-bottom: 0.5em;}#sk-container-id-4 div.sk-estimator:hover {background-color: #d4ebff;}#sk-container-id-4 div.sk-parallel-item::after {content: \"\";width: 100%;border-bottom: 1px solid gray;flex-grow: 1;}#sk-container-id-4 div.sk-label:hover label.sk-toggleable__label {background-color: #d4ebff;}#sk-container-id-4 div.sk-serial::before {content: \"\";position: absolute;border-left: 1px solid gray;box-sizing: border-box;top: 0;bottom: 0;left: 50%;z-index: 0;}#sk-container-id-4 div.sk-serial {display: flex;flex-direction: column;align-items: center;background-color: white;padding-right: 0.2em;padding-left: 0.2em;position: relative;}#sk-container-id-4 div.sk-item {position: relative;z-index: 1;}#sk-container-id-4 div.sk-parallel {display: flex;align-items: stretch;justify-content: center;background-color: white;position: relative;}#sk-container-id-4 div.sk-item::before, #sk-container-id-4 div.sk-parallel-item::before {content: \"\";position: absolute;border-left: 1px solid gray;box-sizing: border-box;top: 0;bottom: 0;left: 50%;z-index: -1;}#sk-container-id-4 div.sk-parallel-item {display: flex;flex-direction: column;z-index: 1;position: relative;background-color: white;}#sk-container-id-4 div.sk-parallel-item:first-child::after {align-self: flex-end;width: 50%;}#sk-container-id-4 div.sk-parallel-item:last-child::after {align-self: flex-start;width: 50%;}#sk-container-id-4 div.sk-parallel-item:only-child::after {width: 0;}#sk-container-id-4 div.sk-dashed-wrapped {border: 1px dashed gray;margin: 0 0.4em 0.5em 0.4em;box-sizing: border-box;padding-bottom: 0.4em;background-color: white;}#sk-container-id-4 div.sk-label label {font-family: monospace;font-weight: bold;display: inline-block;line-height: 1.2em;}#sk-container-id-4 div.sk-label-container {text-align: center;}#sk-container-id-4 div.sk-container {/* jupyter's `normalize.less` sets `[hidden] { display: none; }` but bootstrap.min.css set `[hidden] { display: none !important; }` so we also need the `!important` here to be able to override the default hidden behavior on the sphinx rendered scikit-learn.org. See: https://github.com/scikit-learn/scikit-learn/issues/21755 */display: inline-block !important;position: relative;}#sk-container-id-4 div.sk-text-repr-fallback {display: none;}</style><div id=\"sk-container-id-4\" class=\"sk-top-container\"><div class=\"sk-text-repr-fallback\"><pre>LogisticRegression(max_iter=10000, random_state=123)</pre><b>In a Jupyter environment, please rerun this cell to show the HTML representation or trust the notebook. <br />On GitHub, the HTML representation is unable to render, please try loading this page with nbviewer.org.</b></div><div class=\"sk-container\" hidden><div class=\"sk-item\"><div class=\"sk-estimator sk-toggleable\"><input class=\"sk-toggleable__control sk-hidden--visually\" id=\"sk-estimator-id-4\" type=\"checkbox\" checked><label for=\"sk-estimator-id-4\" class=\"sk-toggleable__label sk-toggleable__label-arrow\">LogisticRegression</label><div class=\"sk-toggleable__content\"><pre>LogisticRegression(max_iter=10000, random_state=123)</pre></div></div></div></div></div>"
            ]
          },
          "metadata": {},
          "execution_count": 92
        }
      ]
    },
    {
      "cell_type": "code",
      "source": [
        "import numpy as np\n",
        "def score(lg,x):\n",
        "  return[np.max(lg.predict_proba(x),axis=1),lg.predict(x)]"
      ],
      "metadata": {
        "id": "KnB6xEEEK3g7"
      },
      "execution_count": 93,
      "outputs": []
    },
    {
      "cell_type": "code",
      "source": [
        "train_predict=score(lg,X_train)\n",
        "test_predict=score(lg,X_test)\n",
        "print(train_predict)"
      ],
      "metadata": {
        "colab": {
          "base_uri": "https://localhost:8080/"
        },
        "id": "jtauOQbVMo4L",
        "outputId": "5ccc75c1-b3c6-484a-a25e-f0fa14ea9ece"
      },
      "execution_count": 94,
      "outputs": [
        {
          "output_type": "stream",
          "name": "stdout",
          "text": [
            "[array([0.56948183, 0.87281235, 0.63563146, ..., 0.85853555, 0.60660315,\n",
            "       0.72324666]), array(['b', 'b', 'e', ..., 'b', 'e', 'e'], dtype=object)]\n"
          ]
        }
      ]
    },
    {
      "cell_type": "code",
      "source": [
        "from sklearn.metrics import accuracy_score\n",
        "\n",
        "train_accuracy=accuracy_score(train[\"CATEGORY\"],train_predict[1])\n",
        "test_accuracy=accuracy_score(test[\"CATEGORY\"],test_predict[1])\n",
        "\n",
        "print(f\"学習データの正解率={0}.3f\",train_accuracy)\n",
        "print(f\"テストデータの正解率={0}.3f\",test_accuracy)"
      ],
      "metadata": {
        "colab": {
          "base_uri": "https://localhost:8080/"
        },
        "id": "SgJfX7tbM0I4",
        "outputId": "d0e5e8c6-e02a-4346-e005-2e0efb9e7ca0"
      },
      "execution_count": 95,
      "outputs": [
        {
          "output_type": "stream",
          "name": "stdout",
          "text": [
            "学習データの正解率=0.3f 0.8675589666791463\n",
            "テストデータの正解率=0.3f 0.8413173652694611\n"
          ]
        }
      ]
    },
    {
      "cell_type": "code",
      "source": [
        "!git status"
      ],
      "metadata": {
        "colab": {
          "base_uri": "https://localhost:8080/"
        },
        "id": "UvMVJ920OAS0",
        "outputId": "cb684b55-4a5a-466a-f7a2-54fd870dddd8"
      },
      "execution_count": 96,
      "outputs": [
        {
          "output_type": "stream",
          "name": "stdout",
          "text": [
            "On branch suzuki\n",
            "Your branch is up to date with 'origin/suzuki'.\n",
            "\n",
            "Untracked files:\n",
            "  (use \"git add <file>...\" to include in what will be committed)\n",
            "\t\u001b[31m2pageSessions.csv\u001b[m\n",
            "\t\u001b[31mNewsAggregatorDataset.zip\u001b[m\n",
            "\t\u001b[31m__MACOSX/\u001b[m\n",
            "\t\u001b[31mnewsCorpora.csv\u001b[m\n",
            "\t\u001b[31mnewsCorpora_re.csv\u001b[m\n",
            "\t\u001b[31mreadme.txt\u001b[m\n",
            "\t\u001b[31mtest.txt\u001b[m\n",
            "\t\u001b[31mtrain.txt\u001b[m\n",
            "\t\u001b[31mvalid.txt\u001b[m\n",
            "\n",
            "nothing added to commit but untracked files present (use \"git add\" to track)\n"
          ]
        }
      ]
    },
    {
      "cell_type": "code",
      "source": [
        "!git add ."
      ],
      "metadata": {
        "id": "83GBfoDEOHuj"
      },
      "execution_count": 97,
      "outputs": []
    },
    {
      "cell_type": "code",
      "source": [
        "!git config --global user.email \"riors2020@gmail.com\"\n",
        "!git config --global user.name \"rio-user11\""
      ],
      "metadata": {
        "id": "8GLkXUXFPROK"
      },
      "execution_count": 101,
      "outputs": []
    },
    {
      "cell_type": "code",
      "source": [
        "!git commit -m “commit2”\n"
      ],
      "metadata": {
        "colab": {
          "base_uri": "https://localhost:8080/"
        },
        "id": "khxMvm5nPkPM",
        "outputId": "90ee9d53-1ea2-43a2-d3b4-a9e8fa780fb7"
      },
      "execution_count": 102,
      "outputs": [
        {
          "output_type": "stream",
          "name": "stdout",
          "text": [
            "[suzuki 0df0188] “commit2”\n",
            " 11 files changed, 874807 insertions(+)\n",
            " create mode 100644 2pageSessions.csv\n",
            " create mode 100644 NewsAggregatorDataset.zip\n",
            " create mode 100644 __MACOSX/._2pageSessions.csv\n",
            " create mode 100644 __MACOSX/._newsCorpora.csv\n",
            " create mode 100644 __MACOSX/._readme.txt\n",
            " create mode 100644 newsCorpora.csv\n",
            " create mode 100644 newsCorpora_re.csv\n",
            " create mode 100644 readme.txt\n",
            " create mode 100644 test.txt\n",
            " create mode 100644 train.txt\n",
            " create mode 100644 valid.txt\n"
          ]
        }
      ]
    },
    {
      "cell_type": "code",
      "source": [],
      "metadata": {
        "id": "qtDcRel_QZXl"
      },
      "execution_count": null,
      "outputs": []
    }
  ]
}
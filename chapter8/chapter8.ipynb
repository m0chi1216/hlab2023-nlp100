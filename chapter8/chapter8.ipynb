{
 "cells": [
  {
   "cell_type": "code",
   "execution_count": 1,
   "metadata": {},
   "outputs": [
    {
     "name": "stdout",
     "output_type": "stream",
     "text": [
      "[-3.61328125e-02 -4.83398438e-02  2.35351562e-01  1.74804688e-01\n",
      " -1.46484375e-01 -7.42187500e-02 -1.01562500e-01 -7.71484375e-02\n",
      "  1.09375000e-01 -5.71289062e-02 -1.48437500e-01 -6.00585938e-02\n",
      "  1.74804688e-01 -7.71484375e-02  2.58789062e-02 -7.66601562e-02\n",
      " -3.80859375e-02  1.35742188e-01  3.75976562e-02 -4.19921875e-02\n",
      " -3.56445312e-02  5.34667969e-02  3.68118286e-04 -1.66992188e-01\n",
      " -1.17187500e-01  1.41601562e-01 -1.69921875e-01 -6.49414062e-02\n",
      " -1.66992188e-01  1.00585938e-01  1.15722656e-01 -2.18750000e-01\n",
      " -9.86328125e-02 -2.56347656e-02  1.23046875e-01 -3.54003906e-02\n",
      " -1.58203125e-01 -1.60156250e-01  2.94189453e-02  8.15429688e-02\n",
      "  6.88476562e-02  1.87500000e-01  6.49414062e-02  1.15234375e-01\n",
      " -2.27050781e-02  3.32031250e-01 -3.27148438e-02  1.77734375e-01\n",
      " -2.08007812e-01  4.54101562e-02 -1.23901367e-02  1.19628906e-01\n",
      "  7.44628906e-03 -9.03320312e-03  1.14257812e-01  1.69921875e-01\n",
      " -2.38281250e-01 -2.79541016e-02 -1.21093750e-01  2.47802734e-02\n",
      "  7.71484375e-02 -2.81982422e-02 -4.71191406e-02  1.78222656e-02\n",
      " -1.23046875e-01 -5.32226562e-02  2.68554688e-02 -3.11279297e-02\n",
      " -5.59082031e-02 -5.00488281e-02 -3.73535156e-02  1.25976562e-01\n",
      "  5.61523438e-02  1.51367188e-01  4.29687500e-02 -2.08007812e-01\n",
      " -4.78515625e-02  2.78320312e-02  1.81640625e-01  2.20703125e-01\n",
      " -3.61328125e-02 -8.39843750e-02 -3.69548798e-05 -9.52148438e-02\n",
      " -1.25000000e-01 -1.95312500e-01 -1.50390625e-01 -4.15039062e-02\n",
      "  1.31835938e-01  1.17675781e-01  1.91650391e-02  5.51757812e-02\n",
      " -9.42382812e-02 -1.08886719e-01  7.32421875e-02 -1.15234375e-01\n",
      "  8.93554688e-02 -1.40625000e-01  1.45507812e-01  4.49218750e-02\n",
      " -1.10473633e-02 -1.62353516e-02  4.05883789e-03  3.75976562e-02\n",
      " -6.98242188e-02 -5.46875000e-02  2.17285156e-02 -9.47265625e-02\n",
      "  4.24804688e-02  1.81884766e-02 -1.73339844e-02  4.63867188e-02\n",
      " -1.42578125e-01  1.99218750e-01  1.10839844e-01  2.58789062e-02\n",
      " -7.08007812e-02 -5.54199219e-02  3.45703125e-01  1.61132812e-01\n",
      " -2.44140625e-01 -2.59765625e-01 -9.71679688e-02  8.00781250e-02\n",
      " -8.78906250e-02 -7.22656250e-02  1.42578125e-01 -8.54492188e-02\n",
      " -3.18359375e-01  8.30078125e-02  6.34765625e-02  1.64062500e-01\n",
      " -1.92382812e-01 -1.17675781e-01 -5.41992188e-02 -1.56250000e-01\n",
      " -1.21582031e-01 -4.95605469e-02  1.20117188e-01 -3.83300781e-02\n",
      "  5.51757812e-02 -8.97216797e-03  4.32128906e-02  6.93359375e-02\n",
      "  8.93554688e-02  2.53906250e-01  1.65039062e-01  1.64062500e-01\n",
      " -1.41601562e-01  4.58984375e-02  1.97265625e-01 -8.98437500e-02\n",
      "  3.90625000e-02 -1.51367188e-01 -8.60595703e-03 -1.17675781e-01\n",
      " -1.97265625e-01 -1.12792969e-01  1.29882812e-01  1.96289062e-01\n",
      "  1.56402588e-03  3.93066406e-02  2.17773438e-01 -1.43554688e-01\n",
      "  6.03027344e-02 -1.35742188e-01  1.16210938e-01 -1.59912109e-02\n",
      "  2.79296875e-01  1.46484375e-01 -1.19628906e-01  1.76757812e-01\n",
      "  1.28906250e-01 -1.49414062e-01  6.93359375e-02 -1.72851562e-01\n",
      "  9.22851562e-02  1.33056641e-02 -2.00195312e-01 -9.76562500e-02\n",
      " -1.65039062e-01 -2.46093750e-01 -2.35595703e-02 -2.11914062e-01\n",
      "  1.84570312e-01 -1.85546875e-02  2.16796875e-01  5.05371094e-02\n",
      "  2.02636719e-02  4.25781250e-01  1.28906250e-01 -2.77099609e-02\n",
      "  1.29882812e-01 -1.15722656e-01 -2.05078125e-02  1.49414062e-01\n",
      "  7.81250000e-03 -2.05078125e-01 -8.05664062e-02 -2.67578125e-01\n",
      " -2.29492188e-02 -8.20312500e-02  8.64257812e-02  7.61718750e-02\n",
      " -3.66210938e-02  5.22460938e-02 -1.22070312e-01 -1.44042969e-02\n",
      " -2.69531250e-01  8.44726562e-02 -2.52685547e-02 -2.96630859e-02\n",
      " -1.68945312e-01  1.93359375e-01 -1.08398438e-01  1.94091797e-02\n",
      " -1.80664062e-01  1.93359375e-01 -7.08007812e-02  5.85937500e-02\n",
      " -1.01562500e-01 -1.31835938e-01  7.51953125e-02 -7.66601562e-02\n",
      "  3.37219238e-03 -8.59375000e-02  1.25000000e-01  2.92968750e-02\n",
      "  1.70898438e-01 -9.37500000e-02 -1.09375000e-01 -2.50244141e-02\n",
      "  2.11914062e-01 -4.44335938e-02  6.12792969e-02  2.62451172e-02\n",
      " -1.77734375e-01  1.23046875e-01 -7.42187500e-02 -1.67968750e-01\n",
      " -1.08886719e-01 -9.04083252e-04 -7.37304688e-02  5.49316406e-02\n",
      "  6.03027344e-02  8.39843750e-02  9.17968750e-02 -1.32812500e-01\n",
      "  1.22070312e-01 -8.78906250e-03  1.19140625e-01 -1.94335938e-01\n",
      " -6.64062500e-02 -2.07031250e-01  7.37304688e-02  8.93554688e-02\n",
      "  1.81884766e-02 -1.20605469e-01 -2.61230469e-02  2.67333984e-02\n",
      "  7.76367188e-02 -8.30078125e-02  6.78710938e-02 -3.54003906e-02\n",
      "  3.10546875e-01 -2.42919922e-02 -1.41601562e-01 -2.08007812e-01\n",
      " -4.57763672e-03 -6.54296875e-02 -4.95605469e-02  2.22656250e-01\n",
      "  1.53320312e-01 -1.38671875e-01 -5.24902344e-02  4.24804688e-02\n",
      " -2.38281250e-01  1.56250000e-01  5.83648682e-04 -1.20605469e-01\n",
      " -9.22851562e-02 -4.44335938e-02  3.61328125e-02 -1.86767578e-02\n",
      " -8.25195312e-02 -8.25195312e-02 -4.05273438e-02  1.19018555e-02\n",
      "  1.69921875e-01 -2.80761719e-02  3.03649902e-03  9.32617188e-02\n",
      " -8.49609375e-02  1.57470703e-02  7.03125000e-02  1.62353516e-02\n",
      " -2.27050781e-02  3.51562500e-02  2.47070312e-01 -2.67333984e-02]\n",
      "(300,)\n"
     ]
    }
   ],
   "source": [
    "from gensim.models import KeyedVectors\n",
    "\n",
    "model = KeyedVectors.load_word2vec_format('./GoogleNews-vectors-negative300.bin.gz', binary=True)\n",
    "print(model['United_States'])\n",
    "print(model['United_States'].shape)"
   ]
  },
  {
   "cell_type": "code",
   "execution_count": 2,
   "metadata": {},
   "outputs": [
    {
     "data": {
      "text/plain": [
       "label\n",
       "0    4481\n",
       "2    4240\n",
       "1    1214\n",
       "3     737\n",
       "Name: count, dtype: int64"
      ]
     },
     "execution_count": 2,
     "metadata": {},
     "output_type": "execute_result"
    }
   ],
   "source": [
    "import pandas as pd\n",
    "import numpy as np\n",
    "columns = ['label', 'text']\n",
    "labels = {'b': 0, 't': 1, 'e': 2, 'm': 3}\n",
    "def read_txt(name):\n",
    "    df = pd.DataFrame(columns=columns)\n",
    "    with open(f'./{name}.txt', 'r') as f:\n",
    "        lines = f.readlines()\n",
    "\n",
    "    for l in lines:\n",
    "        label = labels[l[0]]\n",
    "        text = l[2:]\n",
    "        sr = pd.Series([label, text])\n",
    "        df = pd.concat([df, pd.DataFrame(sr.values.reshape(1,-1), columns=columns)], axis=0)\n",
    "    \n",
    "    return df\n",
    "\n",
    "train_df = pd.DataFrame(columns=columns)\n",
    "valid_df = pd.DataFrame(columns=columns)\n",
    "test_df = pd.DataFrame(columns=columns)\n",
    "train_df = read_txt('train')\n",
    "valid_df = read_txt('valid')\n",
    "test_df = read_txt('test')\n",
    "\n",
    "train_df['label'].value_counts()"
   ]
  },
  {
   "cell_type": "code",
   "execution_count": 3,
   "metadata": {},
   "outputs": [],
   "source": [
    "y_train = np.array(train_df['label'])\n",
    "y_valid = np.array(valid_df['label'])\n",
    "y_test = np.array(test_df['label'])"
   ]
  },
  {
   "cell_type": "code",
   "execution_count": 4,
   "metadata": {},
   "outputs": [
    {
     "name": "stdout",
     "output_type": "stream",
     "text": [
      "(1334, 300) (1334,)\n"
     ]
    }
   ],
   "source": [
    "def vectorize(df):\n",
    "    X = []\n",
    "    for i in range(len(df)):\n",
    "        text = df.iloc[i]['text'].replace('...', '')\n",
    "        words = text.split()\n",
    "        vecs = []\n",
    "        for w in words:\n",
    "            try:\n",
    "                vec = model[w]\n",
    "            except:\n",
    "                vec = [0] * 300\n",
    "            vecs.append(vec)\n",
    "        vecs = np.array(vecs)\n",
    "        X.append(np.mean(vecs, axis=0))\n",
    "    return np.array(X)\n",
    "X_train = vectorize(train_df)\n",
    "X_valid = vectorize(valid_df)\n",
    "X_test = vectorize(test_df)\n",
    "print(X_valid.shape, y_valid.shape)\n",
    "\n",
    "np.save('./data/X_train', X_train)\n",
    "np.save('./data/X_valid', X_valid)\n",
    "np.save('./data/X_test', X_test)\n",
    "np.save('./data/y_train', y_train)\n",
    "np.save('./data/y_valid', y_valid)\n",
    "np.save('./data/y_test', y_test)"
   ]
  },
  {
   "cell_type": "code",
   "execution_count": 30,
   "metadata": {},
   "outputs": [
    {
     "name": "stdout",
     "output_type": "stream",
     "text": [
      "[[0.26925589 0.23516366 0.18075532 0.31482513]]\n",
      "[[0.26925589 0.23516366 0.18075532 0.31482513]\n",
      " [0.27871925 0.21475735 0.24964409 0.25687931]\n",
      " [0.26180623 0.21482765 0.26645002 0.25691611]\n",
      " [0.29311885 0.25514649 0.20816675 0.24356791]]\n"
     ]
    }
   ],
   "source": [
    "def softmax(X):\n",
    "    Y = np.zeros(X.shape)\n",
    "    for i in range(X.shape[0]):\n",
    "        x = X[i]\n",
    "        u = np.sum(np.exp(x))\n",
    "        Y[i] = np.exp(x)/u\n",
    "    return Y\n",
    "\n",
    "W = np.random.rand(X_train.shape[1], 4)\n",
    "arr1 = np.dot(X_train[0], W)\n",
    "arr2 = np.dot(X_train[:4], W)\n",
    "y_h = softmax(arr1.reshape(1,-1))\n",
    "Y_h = softmax(arr2)\n",
    "print(y_h)\n",
    "print(Y_h)"
   ]
  },
  {
   "cell_type": "code",
   "execution_count": 41,
   "metadata": {},
   "outputs": [
    {
     "name": "stdout",
     "output_type": "stream",
     "text": [
      "1.3120930841204022\n",
      "1.397949126379722\n"
     ]
    }
   ],
   "source": [
    "def calc_loss(Y_pred, y_true):\n",
    "    l = 0\n",
    "    for i in range(Y_pred.shape[0]):\n",
    "        l += -1 * np.log(Y_pred[i][y_true[i]])\n",
    "    l /= Y_pred.shape[0]\n",
    "    return l\n",
    "\n",
    "l_1 = calc_loss(y_h, [y_train[0]])\n",
    "l_2 = calc_loss(Y_h, y_train[:4])\n",
    "print(l_1)\n",
    "print(l_2)"
   ]
  },
  {
   "cell_type": "code",
   "execution_count": 122,
   "metadata": {},
   "outputs": [],
   "source": [
    "## SGD\n",
    "import torch\n",
    "import torch.nn as nn\n",
    "import torch.optim as optim\n",
    "\n",
    "def softmax(X):\n",
    "    Y = np.zeros(X.shape)\n",
    "    for i in range(X.shape[0]):\n",
    "        x = X[i]\n",
    "        u = np.sum(np.exp(x))\n",
    "        Y[i] = np.exp(x)/u\n",
    "    return Y\n",
    "\n",
    "class Net(nn.Module):\n",
    "    def __init__(self):\n",
    "        super().__init__()\n",
    "        self.fc1 = nn.Linear(300,4)\n",
    "        nn.init.normal_(self.fc1.weight, 0.0, 1.0)\n",
    "    def forward(self,x):\n",
    "        x = self.fc1(x)\n",
    "        return x"
   ]
  },
  {
   "cell_type": "code",
   "execution_count": 124,
   "metadata": {},
   "outputs": [],
   "source": [
    "from torch.utils.data import Dataset\n",
    "\n",
    "class NewsDataset(Dataset):\n",
    "  def __init__(self, X, y):  # datasetの構成要素を指定\n",
    "    self.X = X\n",
    "    self.y = y\n",
    "\n",
    "  def __len__(self):  # len(dataset)で返す値を指定\n",
    "    return len(self.y)\n",
    "\n",
    "  def __getitem__(self, idx):  # dataset[idx]で返す値を指定\n",
    "    return [self.X[idx], self.y[idx]]"
   ]
  },
  {
   "cell_type": "code",
   "execution_count": 128,
   "metadata": {},
   "outputs": [],
   "source": [
    "from torch.utils.data import DataLoader\n",
    "\n",
    "X_train_tensor = torch.from_numpy(X_train.astype(np.float32))\n",
    "X_valid_tensor = torch.from_numpy(X_valid.astype(np.float32))\n",
    "X_test_tensor = torch.from_numpy(X_test.astype(np.float32))\n",
    "\n",
    "dataset_train = NewsDataset(X_train_tensor, y_train)\n",
    "dataset_valid = NewsDataset(X_valid_tensor, y_valid)\n",
    "dataset_test = NewsDataset(X_test_tensor, y_test)\n",
    "\n",
    "dataloader_train = DataLoader(dataset_train, batch_size=1, shuffle=True)\n",
    "dataloader_valid = DataLoader(dataset_valid, batch_size=len(dataset_valid), shuffle=False)\n",
    "dataloader_test = DataLoader(dataset_test, batch_size=len(dataset_test), shuffle=False)"
   ]
  },
  {
   "cell_type": "code",
   "execution_count": 135,
   "metadata": {},
   "outputs": [
    {
     "name": "stdout",
     "output_type": "stream",
     "text": [
      "epoch: 1, loss_train: 0.5163, loss_valid: 0.3900\n",
      "epoch: 2, loss_train: 0.3620, loss_valid: 0.3625\n",
      "epoch: 3, loss_train: 0.3327, loss_valid: 0.3537\n",
      "epoch: 4, loss_train: 0.3162, loss_valid: 0.3515\n",
      "epoch: 5, loss_train: 0.3060, loss_valid: 0.3394\n",
      "epoch: 6, loss_train: 0.2980, loss_valid: 0.3405\n",
      "epoch: 7, loss_train: 0.2915, loss_valid: 0.3414\n",
      "epoch: 8, loss_train: 0.2877, loss_valid: 0.3528\n",
      "epoch: 9, loss_train: 0.2839, loss_valid: 0.3368\n",
      "epoch: 10, loss_train: 0.2814, loss_valid: 0.3461\n"
     ]
    }
   ],
   "source": [
    "model = Net()\n",
    "optimizer = optim.SGD(model.parameters(), lr=0.1)\n",
    "criterion = nn.CrossEntropyLoss()\n",
    "\n",
    "num_epoch = 10\n",
    "for epoch in range(num_epoch):\n",
    "    model.train()\n",
    "    loss_train = 0.0\n",
    "    for i, (inputs, labels) in enumerate(dataloader_train):\n",
    "        optimizer.zero_grad()\n",
    "\n",
    "        outputs = model.forward(inputs)\n",
    "        loss = criterion(outputs, labels)\n",
    "        loss.backward()\n",
    "        optimizer.step()\n",
    "\n",
    "        loss_train += loss.item()\n",
    "    \n",
    "    loss_train = loss_train / len(dataloader_train)\n",
    "\n",
    "    model.eval() \n",
    "    with torch.no_grad():\n",
    "        inputs, labels = next(iter(dataloader_valid))\n",
    "        outputs = model(inputs)\n",
    "        loss_valid = criterion(outputs, labels)\n",
    "\n",
    "    print(f'epoch: {epoch + 1}, loss_train: {loss_train:.4f}, loss_valid: {loss_valid:.4f}')  "
   ]
  },
  {
   "cell_type": "code",
   "execution_count": 136,
   "metadata": {},
   "outputs": [
    {
     "data": {
      "text/plain": [
       "OrderedDict([('fc1.weight',\n",
       "              tensor([[-0.1581,  1.2723,  0.6204,  ...,  0.6563,  1.2444, -0.6489],\n",
       "                      [ 2.1271,  0.8945,  1.9790,  ...,  0.1347, -2.0921, -0.9562],\n",
       "                      [ 1.5047,  0.3856, -2.1583,  ...,  0.1969,  0.2468,  0.1364],\n",
       "                      [ 0.3052, -0.1845, -0.0099,  ...,  1.1239,  0.9849,  2.1927]])),\n",
       "             ('fc1.bias', tensor([ 0.1601,  0.0389,  1.7267, -1.9025]))])"
      ]
     },
     "execution_count": 136,
     "metadata": {},
     "output_type": "execute_result"
    }
   ],
   "source": [
    "model.state_dict()"
   ]
  },
  {
   "cell_type": "code",
   "execution_count": 140,
   "metadata": {},
   "outputs": [
    {
     "name": "stdout",
     "output_type": "stream",
     "text": [
      "train: 0.8606634182908546\n",
      "test: 0.843328335832084\n"
     ]
    }
   ],
   "source": [
    "def calc_loss_acc(model, criterion, loader):\n",
    "    model.eval()\n",
    "    loss = 0.0\n",
    "    total = 0\n",
    "    correct = 0\n",
    "    with torch.no_grad():\n",
    "        for inputs, labels in loader:\n",
    "            outputs = model(inputs)\n",
    "            loss += criterion(outputs, labels).item()\n",
    "            pred = torch.argmax(outputs, dim=-1)\n",
    "            total += len(inputs)\n",
    "            correct += (pred == labels).sum().item()\n",
    "    return loss / len(loader), correct / total\n",
    "\n",
    "loss_train, acc_train = calc_loss_acc(model, criterion, dataloader_train)\n",
    "loss_test, acc_test = calc_loss_acc(model, criterion, dataloader_test)\n",
    "print(f'train: {acc_train}\\ntest: {acc_test}')"
   ]
  },
  {
   "cell_type": "code",
   "execution_count": 144,
   "metadata": {},
   "outputs": [
    {
     "name": "stdout",
     "output_type": "stream",
     "text": [
      "epoch: 1, loss_train: 0.4526, loss_valid: 0.4373\n",
      "epoch: 2, loss_train: 0.3886, loss_valid: 0.3945\n",
      "epoch: 3, loss_train: 0.3538, loss_valid: 0.3668\n",
      "epoch: 4, loss_train: 0.3334, loss_valid: 0.3571\n",
      "epoch: 5, loss_train: 0.3217, loss_valid: 0.3506\n",
      "epoch: 6, loss_train: 0.3176, loss_valid: 0.3494\n",
      "epoch: 7, loss_train: 0.3069, loss_valid: 0.3409\n",
      "epoch: 8, loss_train: 0.2968, loss_valid: 0.3358\n",
      "epoch: 9, loss_train: 0.2926, loss_valid: 0.3355\n",
      "epoch: 10, loss_train: 0.2881, loss_valid: 0.3343\n",
      "epoch: 11, loss_train: 0.2883, loss_valid: 0.3360\n",
      "epoch: 12, loss_train: 0.2819, loss_valid: 0.3323\n",
      "epoch: 13, loss_train: 0.2907, loss_valid: 0.3408\n",
      "epoch: 14, loss_train: 0.2776, loss_valid: 0.3343\n",
      "epoch: 15, loss_train: 0.2788, loss_valid: 0.3341\n",
      "epoch: 16, loss_train: 0.2730, loss_valid: 0.3317\n",
      "epoch: 17, loss_train: 0.2732, loss_valid: 0.3298\n",
      "epoch: 18, loss_train: 0.2697, loss_valid: 0.3319\n",
      "epoch: 19, loss_train: 0.2683, loss_valid: 0.3317\n",
      "epoch: 20, loss_train: 0.2672, loss_valid: 0.3299\n",
      "epoch: 21, loss_train: 0.2661, loss_valid: 0.3320\n",
      "epoch: 22, loss_train: 0.2656, loss_valid: 0.3326\n",
      "epoch: 23, loss_train: 0.2674, loss_valid: 0.3398\n",
      "epoch: 24, loss_train: 0.2656, loss_valid: 0.3361\n",
      "epoch: 25, loss_train: 0.2621, loss_valid: 0.3332\n",
      "epoch: 26, loss_train: 0.2658, loss_valid: 0.3355\n",
      "epoch: 27, loss_train: 0.2624, loss_valid: 0.3388\n",
      "epoch: 28, loss_train: 0.2600, loss_valid: 0.3340\n",
      "epoch: 29, loss_train: 0.2680, loss_valid: 0.3400\n",
      "epoch: 30, loss_train: 0.2605, loss_valid: 0.3350\n"
     ]
    }
   ],
   "source": [
    "model = Net()\n",
    "optimizer = optim.SGD(model.parameters(), lr=0.05)\n",
    "criterion = nn.CrossEntropyLoss()\n",
    "num_epoch = 30\n",
    "\n",
    "log_train = []\n",
    "log_valid = []\n",
    "\n",
    "for epoch in range(num_epoch):\n",
    "    model.train()\n",
    "    loss_train = 0.0\n",
    "    for i, (inputs, labels) in enumerate(dataloader_train):\n",
    "        optimizer.zero_grad()\n",
    "\n",
    "        outputs = model.forward(inputs)\n",
    "        loss = criterion(outputs, labels)\n",
    "        loss.backward()\n",
    "        optimizer.step()\n",
    "\n",
    "        loss_train += loss.item()\n",
    "    \n",
    "    loss_train = loss_train / len(dataloader_train)\n",
    "\n",
    "    loss_train, acc_train = calc_loss_acc(model, criterion, dataloader_train)\n",
    "    loss_valid, acc_valid = calc_loss_acc(model, criterion, dataloader_valid)\n",
    "    log_train.append([loss_train, acc_train])\n",
    "    log_valid.append([loss_valid, acc_valid])\n",
    "    print(f'epoch: {epoch + 1}, loss_train: {loss_train:.4f}, loss_valid: {loss_valid:.4f}')  \n",
    "    "
   ]
  },
  {
   "cell_type": "markdown",
   "metadata": {},
   "source": [
    "### 75. 損失と正解率のプロット\n",
    "問題73のコードを改変し，各エポックのパラメータ更新が完了するたびに，訓練データでの損失，正解率，検証データでの損失，正解率をグラフにプロットし，学習の進捗状況を確認できるようにせよ．"
   ]
  },
  {
   "cell_type": "code",
   "execution_count": 147,
   "metadata": {},
   "outputs": [
    {
     "data": {
      "image/png": "[encoded data removed]",
      "text/plain": [
       "<Figure size 1000x500 with 2 Axes>"
      ]
     },
     "metadata": {},
     "output_type": "display_data"
    }
   ],
   "source": [
    "import matplotlib.pyplot as plt\n",
    "fig, ax = plt.subplots(1, 2, figsize=(10, 5))\n",
    "\n",
    "ax[0].plot([l[0] for l in log_train], label='train')\n",
    "ax[0].plot([l[0] for l in log_valid], label='valid')\n",
    "ax[0].set_xlabel('epoch')\n",
    "ax[0].set_ylabel('loss')\n",
    "ax[0].legend()\n",
    "ax[1].plot([l[1] for l in log_train], label='train')\n",
    "ax[1].plot([l[1] for l in log_valid], label='valid')\n",
    "ax[1].set_xlabel('epoch')\n",
    "ax[1].set_ylabel('accuracy')\n",
    "ax[1].legend()\n",
    "plt.show()"
   ]
  },
  {
   "cell_type": "markdown",
   "metadata": {},
   "source": [
    "### 76. チェックポイント\n",
    "問題75のコードを改変し，各エポックのパラメータ更新が完了するたびに，チェックポイント（学習途中のパラメータ（重み行列など）の値や最適化アルゴリズムの内部状態）をファイルに書き出せ．"
   ]
  },
  {
   "cell_type": "code",
   "execution_count": 63,
   "metadata": {},
   "outputs": [
    {
     "ename": "RuntimeError",
     "evalue": "Tensor for 'out' is on CPU, Tensor for argument #1 'self' is on CPU, but expected them to be on GPU (while checking arguments for addmm)",
     "output_type": "error",
     "traceback": [
      "\u001b[0;31m---------------------------------------------------------------------------\u001b[0m",
      "\u001b[0;31mRuntimeError\u001b[0m                              Traceback (most recent call last)",
      "Cell \u001b[0;32mIn[63], line 24\u001b[0m\n\u001b[1;32m     20\u001b[0m     loss_train \u001b[39m+\u001b[39m\u001b[39m=\u001b[39m loss\u001b[39m.\u001b[39mitem()\n\u001b[1;32m     22\u001b[0m loss_train \u001b[39m=\u001b[39m loss_train \u001b[39m/\u001b[39m \u001b[39mlen\u001b[39m(dataloader_train)\n\u001b[0;32m---> 24\u001b[0m loss_train, acc_train \u001b[39m=\u001b[39m calc_loss_acc(model, criterion, dataloader_train)\n\u001b[1;32m     25\u001b[0m loss_valid, acc_valid \u001b[39m=\u001b[39m calc_loss_acc(model, criterion, dataloader_valid)\n\u001b[1;32m     26\u001b[0m log_train\u001b[39m.\u001b[39mappend([loss_train, acc_train])\n",
      "Cell \u001b[0;32mIn[60], line 64\u001b[0m, in \u001b[0;36mcalc_loss_acc\u001b[0;34m(model, criterion, loader)\u001b[0m\n\u001b[1;32m     62\u001b[0m inputs \u001b[39m=\u001b[39m inputs\u001b[39m.\u001b[39mto(device)\n\u001b[1;32m     63\u001b[0m labels \u001b[39m=\u001b[39m labels\u001b[39m.\u001b[39mto(device)\n\u001b[0;32m---> 64\u001b[0m outputs \u001b[39m=\u001b[39m model(inputs)\n\u001b[1;32m     65\u001b[0m loss \u001b[39m+\u001b[39m\u001b[39m=\u001b[39m criterion(outputs, labels)\u001b[39m.\u001b[39mitem()\n\u001b[1;32m     66\u001b[0m pred \u001b[39m=\u001b[39m torch\u001b[39m.\u001b[39margmax(outputs, dim\u001b[39m=\u001b[39m\u001b[39m-\u001b[39m\u001b[39m1\u001b[39m)\n",
      "File \u001b[0;32m~/miniconda3/envs/nlp100/lib/python3.8/site-packages/torch/nn/modules/module.py:889\u001b[0m, in \u001b[0;36mModule._call_impl\u001b[0;34m(self, *input, **kwargs)\u001b[0m\n\u001b[1;32m    887\u001b[0m     result \u001b[39m=\u001b[39m \u001b[39mself\u001b[39m\u001b[39m.\u001b[39m_slow_forward(\u001b[39m*\u001b[39m\u001b[39minput\u001b[39m, \u001b[39m*\u001b[39m\u001b[39m*\u001b[39mkwargs)\n\u001b[1;32m    888\u001b[0m \u001b[39melse\u001b[39;00m:\n\u001b[0;32m--> 889\u001b[0m     result \u001b[39m=\u001b[39m \u001b[39mself\u001b[39;49m\u001b[39m.\u001b[39;49mforward(\u001b[39m*\u001b[39;49m\u001b[39minput\u001b[39;49m, \u001b[39m*\u001b[39;49m\u001b[39m*\u001b[39;49mkwargs)\n\u001b[1;32m    890\u001b[0m \u001b[39mfor\u001b[39;00m hook \u001b[39min\u001b[39;00m itertools\u001b[39m.\u001b[39mchain(\n\u001b[1;32m    891\u001b[0m         _global_forward_hooks\u001b[39m.\u001b[39mvalues(),\n\u001b[1;32m    892\u001b[0m         \u001b[39mself\u001b[39m\u001b[39m.\u001b[39m_forward_hooks\u001b[39m.\u001b[39mvalues()):\n\u001b[1;32m    893\u001b[0m     hook_result \u001b[39m=\u001b[39m hook(\u001b[39mself\u001b[39m, \u001b[39minput\u001b[39m, result)\n",
      "Cell \u001b[0;32mIn[28], line 7\u001b[0m, in \u001b[0;36mNet.forward\u001b[0;34m(self, x)\u001b[0m\n\u001b[1;32m      6\u001b[0m \u001b[39mdef\u001b[39;00m \u001b[39mforward\u001b[39m(\u001b[39mself\u001b[39m,x):\n\u001b[0;32m----> 7\u001b[0m     x \u001b[39m=\u001b[39m \u001b[39mself\u001b[39;49m\u001b[39m.\u001b[39;49mfc1(x)\n\u001b[1;32m      8\u001b[0m     \u001b[39mreturn\u001b[39;00m x\n",
      "File \u001b[0;32m~/miniconda3/envs/nlp100/lib/python3.8/site-packages/torch/nn/modules/module.py:889\u001b[0m, in \u001b[0;36mModule._call_impl\u001b[0;34m(self, *input, **kwargs)\u001b[0m\n\u001b[1;32m    887\u001b[0m     result \u001b[39m=\u001b[39m \u001b[39mself\u001b[39m\u001b[39m.\u001b[39m_slow_forward(\u001b[39m*\u001b[39m\u001b[39minput\u001b[39m, \u001b[39m*\u001b[39m\u001b[39m*\u001b[39mkwargs)\n\u001b[1;32m    888\u001b[0m \u001b[39melse\u001b[39;00m:\n\u001b[0;32m--> 889\u001b[0m     result \u001b[39m=\u001b[39m \u001b[39mself\u001b[39;49m\u001b[39m.\u001b[39;49mforward(\u001b[39m*\u001b[39;49m\u001b[39minput\u001b[39;49m, \u001b[39m*\u001b[39;49m\u001b[39m*\u001b[39;49mkwargs)\n\u001b[1;32m    890\u001b[0m \u001b[39mfor\u001b[39;00m hook \u001b[39min\u001b[39;00m itertools\u001b[39m.\u001b[39mchain(\n\u001b[1;32m    891\u001b[0m         _global_forward_hooks\u001b[39m.\u001b[39mvalues(),\n\u001b[1;32m    892\u001b[0m         \u001b[39mself\u001b[39m\u001b[39m.\u001b[39m_forward_hooks\u001b[39m.\u001b[39mvalues()):\n\u001b[1;32m    893\u001b[0m     hook_result \u001b[39m=\u001b[39m hook(\u001b[39mself\u001b[39m, \u001b[39minput\u001b[39m, result)\n",
      "File \u001b[0;32m~/miniconda3/envs/nlp100/lib/python3.8/site-packages/torch/nn/modules/linear.py:94\u001b[0m, in \u001b[0;36mLinear.forward\u001b[0;34m(self, input)\u001b[0m\n\u001b[1;32m     93\u001b[0m \u001b[39mdef\u001b[39;00m \u001b[39mforward\u001b[39m(\u001b[39mself\u001b[39m, \u001b[39minput\u001b[39m: Tensor) \u001b[39m-\u001b[39m\u001b[39m>\u001b[39m Tensor:\n\u001b[0;32m---> 94\u001b[0m     \u001b[39mreturn\u001b[39;00m F\u001b[39m.\u001b[39;49mlinear(\u001b[39minput\u001b[39;49m, \u001b[39mself\u001b[39;49m\u001b[39m.\u001b[39;49mweight, \u001b[39mself\u001b[39;49m\u001b[39m.\u001b[39;49mbias)\n",
      "File \u001b[0;32m~/miniconda3/envs/nlp100/lib/python3.8/site-packages/torch/nn/functional.py:1753\u001b[0m, in \u001b[0;36mlinear\u001b[0;34m(input, weight, bias)\u001b[0m\n\u001b[1;32m   1751\u001b[0m \u001b[39mif\u001b[39;00m has_torch_function_variadic(\u001b[39minput\u001b[39m, weight):\n\u001b[1;32m   1752\u001b[0m     \u001b[39mreturn\u001b[39;00m handle_torch_function(linear, (\u001b[39minput\u001b[39m, weight), \u001b[39minput\u001b[39m, weight, bias\u001b[39m=\u001b[39mbias)\n\u001b[0;32m-> 1753\u001b[0m \u001b[39mreturn\u001b[39;00m torch\u001b[39m.\u001b[39;49m_C\u001b[39m.\u001b[39;49m_nn\u001b[39m.\u001b[39;49mlinear(\u001b[39minput\u001b[39;49m, weight, bias)\n",
      "\u001b[0;31mRuntimeError\u001b[0m: Tensor for 'out' is on CPU, Tensor for argument #1 'self' is on CPU, but expected them to be on GPU (while checking arguments for addmm)"
     ]
    }
   ],
   "source": [
    "model = Net()\n",
    "optimizer = optim.SGD(model.parameters(), lr=0.05)\n",
    "criterion = nn.CrossEntropyLoss()\n",
    "num_epoch = 30\n",
    "\n",
    "log_train = []\n",
    "log_valid = []\n",
    "\n",
    "for epoch in range(num_epoch):\n",
    "    model.train()\n",
    "    loss_train = 0.0\n",
    "    for i, (inputs, labels) in enumerate(dataloader_train):\n",
    "        optimizer.zero_grad()\n",
    "\n",
    "        outputs = model.forward(inputs)\n",
    "        loss = criterion(outputs, labels)\n",
    "        loss.backward()\n",
    "        optimizer.step()\n",
    "\n",
    "        loss_train += loss.item()\n",
    "    \n",
    "    loss_train = loss_train / len(dataloader_train)\n",
    "\n",
    "    loss_train, acc_train = calc_loss_acc(model, criterion, dataloader_train)\n",
    "    loss_valid, acc_valid = calc_loss_acc(model, criterion, dataloader_valid)\n",
    "    log_train.append([loss_train, acc_train])\n",
    "    log_valid.append([loss_valid, acc_valid])\n",
    "\n",
    "    torch.save({'epoch': epoch+1, 'model': model.state_dict(), 'optimizer': optimizer.state_dict()}, f'./checkpoint/chpt{epoch+1}.pt')\n",
    "    print(f'epoch: {epoch + 1}, loss_train: {loss_train:.4f}, loss_valid: {loss_valid:.4f}')  "
   ]
  },
  {
   "cell_type": "code",
   "execution_count": 149,
   "metadata": {},
   "outputs": [
    {
     "data": {
      "text/plain": [
       "{'epoch': 15,\n",
       " 'model': OrderedDict([('fc1.weight',\n",
       "               tensor([[-0.6915, -0.2605,  0.5325,  ..., -0.2305, -0.1752, -0.8984],\n",
       "                       [ 1.1867,  0.1870,  1.0034,  ..., -0.2187, -3.4911,  0.2249],\n",
       "                       [ 1.0728,  0.6875, -1.6922,  ..., -0.7220, -0.7426,  0.8257],\n",
       "                       [-2.0930, -0.8952,  0.6244,  ...,  0.0182,  0.1495,  2.3421]])),\n",
       "              ('fc1.bias', tensor([ 0.3135, -0.4250,  1.7785, -1.5858]))]),\n",
       " 'optimizer': {'state': {0: {'momentum_buffer': None},\n",
       "   1: {'momentum_buffer': None}},\n",
       "  'param_groups': [{'lr': 0.05,\n",
       "    'momentum': 0,\n",
       "    'dampening': 0,\n",
       "    'weight_decay': 0,\n",
       "    'nesterov': False,\n",
       "    'params': [0, 1]}]}}"
      ]
     },
     "execution_count": 149,
     "metadata": {},
     "output_type": "execute_result"
    }
   ],
   "source": [
    "chpt_15 = torch.load('./checkpoint/chpt15.pt')\n",
    "chpt_15"
   ]
  },
  {
   "cell_type": "markdown",
   "metadata": {},
   "source": [
    "### 77. ミニバッチ化\n",
    "問題76のコードを改変し，B事例ごとに損失・勾配を計算し，行列Wの値を更新せよ（ミニバッチ化）．Bの値を1,2,4,8,…と変化させながら，1エポックの学習に要する時間を比較せよ．"
   ]
  },
  {
   "cell_type": "code",
   "execution_count": 160,
   "metadata": {},
   "outputs": [],
   "source": [
    "import time\n",
    "secs = []\n",
    "def train(batch_size=1, num_epoch=10):\n",
    "    dataloader_train = DataLoader(dataset_train, batch_size=batch_size, shuffle=True)\n",
    "    dataloader_valid = DataLoader(dataset_valid, batch_size=len(dataset_valid), shuffle=False)\n",
    "\n",
    "    model = Net()\n",
    "    optimizer = optim.SGD(model.parameters(), lr=0.05)\n",
    "    criterion = nn.CrossEntropyLoss()\n",
    "    num_epoch = num_epoch\n",
    "\n",
    "    for epoch in range(num_epoch):\n",
    "        start_time = time.time()\n",
    "        model.train()\n",
    "        loss_train = 0.0\n",
    "        for i, (inputs, labels) in enumerate(dataloader_train):\n",
    "            optimizer.zero_grad()\n",
    "\n",
    "            outputs = model(inputs)\n",
    "            loss = criterion(outputs, labels)\n",
    "            loss.backward()\n",
    "            optimizer.step()\n",
    "\n",
    "            loss_train += loss.item()\n",
    "        \n",
    "        loss_train = loss_train / len(dataloader_train)\n",
    "\n",
    "        loss_train, acc_train = calc_loss_acc(model, criterion, dataloader_train)\n",
    "        loss_valid, acc_valid = calc_loss_acc(model, criterion, dataloader_valid)\n",
    "\n",
    "        end_time = time.time()\n",
    "        print(f'epoch: {epoch + 1}, loss_train: {loss_train:.4f}, loss_valid: {loss_valid:.4f}, time: {(end_time - start_time):.4f}sec') "
   ]
  },
  {
   "cell_type": "code",
   "execution_count": 155,
   "metadata": {},
   "outputs": [
    {
     "name": "stdout",
     "output_type": "stream",
     "text": [
      "batch_size: 1\n",
      "epoch: 1, loss_train: 0.4642, loss_valid: 0.4633, time: 3.0684sec\n",
      "batch_size: 2\n",
      "epoch: 1, loss_train: 0.5503, loss_valid: 0.5492, time: 1.6975sec\n",
      "batch_size: 4\n",
      "epoch: 1, loss_train: 0.6677, loss_valid: 0.6648, time: 0.9081sec\n",
      "batch_size: 8\n",
      "epoch: 1, loss_train: 0.7998, loss_valid: 0.7518, time: 0.5242sec\n",
      "batch_size: 16\n",
      "epoch: 1, loss_train: 1.0443, loss_valid: 1.0272, time: 0.3272sec\n",
      "batch_size: 32\n",
      "epoch: 1, loss_train: 1.0694, loss_valid: 1.0345, time: 0.2254sec\n",
      "batch_size: 64\n",
      "epoch: 1, loss_train: 1.2916, loss_valid: 1.2762, time: 0.1708sec\n",
      "batch_size: 128\n",
      "epoch: 1, loss_train: 1.3164, loss_valid: 1.2846, time: 0.1409sec\n",
      "batch_size: 256\n",
      "epoch: 1, loss_train: 1.4647, loss_valid: 1.3960, time: 0.1117sec\n",
      "batch_size: 512\n",
      "epoch: 1, loss_train: 1.4183, loss_valid: 1.4022, time: 0.0895sec\n"
     ]
    }
   ],
   "source": [
    "for b in [2**i for i in range(10)]:\n",
    "    print(f'batch_size: {b}')\n",
    "    train(batch_size=b, num_epoch=1)"
   ]
  },
  {
   "cell_type": "markdown",
   "metadata": {},
   "source": [
    "### 78. GPU上での学習Permalink\n",
    "問題77のコードを改変し，GPU上で学習を実行せよ．"
   ]
  },
  {
   "cell_type": "code",
   "execution_count": 1,
   "metadata": {},
   "outputs": [
    {
     "name": "stdout",
     "output_type": "stream",
     "text": [
      "Wed Jul 12 13:29:30 2023       \n",
      "+-----------------------------------------------------------------------------+\n",
      "| NVIDIA-SMI 525.60.13    Driver Version: 525.60.13    CUDA Version: 12.0     |\n",
      "|-------------------------------+----------------------+----------------------+\n",
      "| GPU  Name        Persistence-M| Bus-Id        Disp.A | Volatile Uncorr. ECC |\n",
      "| Fan  Temp  Perf  Pwr:Usage/Cap|         Memory-Usage | GPU-Util  Compute M. |\n",
      "|                               |                      |               MIG M. |\n",
      "|===============================+======================+======================|\n",
      "|   0  Tesla V100-SXM2...  On   | 00000000:B2:00.0 Off |                    0 |\n",
      "| N/A   34C    P0    40W / 300W |      0MiB / 32768MiB |      0%      Default |\n",
      "|                               |                      |                  N/A |\n",
      "+-------------------------------+----------------------+----------------------+\n",
      "                                                                               \n",
      "+-----------------------------------------------------------------------------+\n",
      "| Processes:                                                                  |\n",
      "|  GPU   GI   CI        PID   Type   Process name                  GPU Memory |\n",
      "|        ID   ID                                                   Usage      |\n",
      "|=============================================================================|\n",
      "|  No running processes found                                                 |\n",
      "+-----------------------------------------------------------------------------+\n"
     ]
    }
   ],
   "source": [
    "# GPU確認\n",
    "!nvidia-smi"
   ]
  },
  {
   "cell_type": "code",
   "execution_count": 64,
   "metadata": {},
   "outputs": [
    {
     "name": "stdout",
     "output_type": "stream",
     "text": [
      "cuda:0\n"
     ]
    }
   ],
   "source": [
    "import torch\n",
    "import torch.nn as nn\n",
    "import torch.optim as optim\n",
    "import numpy as np\n",
    "import time\n",
    "\n",
    "device = torch.device(\"cuda:0\" if torch.cuda.is_available() else \"cpu\")\n",
    "print(device)"
   ]
  },
  {
   "cell_type": "code",
   "execution_count": 73,
   "metadata": {},
   "outputs": [],
   "source": [
    "def train(dataset_train, dataset_valid, model, batch_size=4, num_epoch=100, early_stopping=5):\n",
    "    dataloader_train = DataLoader(dataset_train, batch_size=batch_size, shuffle=True)\n",
    "    dataloader_valid = DataLoader(dataset_valid, batch_size=len(dataset_valid), shuffle=False)\n",
    "\n",
    "    device = torch.device(\"cuda:0\" if torch.cuda.is_available() else \"cpu\")\n",
    "\n",
    "    model.to(device)\n",
    "\n",
    "    min_loss_valid = 100\n",
    "    stop_count = 0\n",
    "\n",
    "    log_train = []\n",
    "    log_valid = []\n",
    "    \n",
    "    for epoch in range(num_epoch):\n",
    "        start_time = time.time()\n",
    "        model.train()\n",
    "        loss_train = 0.0\n",
    "        for i, (inputs, labels) in enumerate(dataloader_train):\n",
    "            optimizer.zero_grad()\n",
    "\n",
    "            inputs = inputs.to(device)\n",
    "            labels = labels.to(device)\n",
    "\n",
    "            outputs = model.forward(inputs)\n",
    "            loss = criterion(outputs, labels)\n",
    "            loss.backward()\n",
    "            optimizer.step()\n",
    "\n",
    "            loss_train += loss.item()\n",
    "        \n",
    "        loss_train = loss_train / len(dataloader_train)\n",
    "\n",
    "        loss_train, acc_train = calc_loss_acc(model, criterion, dataloader_train)\n",
    "        loss_valid, acc_valid = calc_loss_acc(model, criterion, dataloader_valid)\n",
    "        log_train.append([loss_train, acc_train])\n",
    "        log_valid.append([loss_valid, acc_valid])\n",
    "\n",
    "        if loss_valid < min_loss_valid:\n",
    "            min_loss_valid = loss_valid\n",
    "            stop_count = 0\n",
    "        else:\n",
    "            stop_count += 1\n",
    "\n",
    "        end_time = time.time()\n",
    "        print(f'epoch: {epoch + 1}, loss_train: {loss_train:.4f}, loss_valid: {loss_valid:.4f}, acc_train: {acc_train:.4f}, acc_valid: {acc_valid:.4f}, time: {(end_time - start_time):.4f}sec') \n",
    "\n",
    "        if stop_count == early_stopping:\n",
    "            print('early stopping')\n",
    "            return log_train, log_valid\n",
    "        \n",
    "    return log_train, log_valid\n",
    "\n",
    "\n",
    "def calc_loss_acc(model, criterion, loader):\n",
    "    device = torch.device(\"cuda:0\" if torch.cuda.is_available() else \"cpu\")\n",
    "    model.eval()\n",
    "    loss = 0.0\n",
    "    total = 0\n",
    "    correct = 0\n",
    "    with torch.no_grad():\n",
    "        for inputs, labels in loader:\n",
    "            inputs = inputs.to(device)\n",
    "            labels = labels.to(device)\n",
    "            outputs = model(inputs)\n",
    "            loss += criterion(outputs, labels).item()\n",
    "            pred = torch.argmax(outputs, dim=-1)\n",
    "            total += len(inputs)\n",
    "            correct += (pred == labels).sum().item()\n",
    "    return loss / len(loader), correct / total"
   ]
  },
  {
   "cell_type": "code",
   "execution_count": 43,
   "metadata": {},
   "outputs": [],
   "source": [
    "from torch.utils.data import Dataset, DataLoader\n",
    "\n",
    "class NewsDataset(Dataset):\n",
    "  def __init__(self, X, y):\n",
    "    self.X = X\n",
    "    self.y = y\n",
    "\n",
    "  def __len__(self):\n",
    "    return len(self.y)\n",
    "\n",
    "  def __getitem__(self, idx):\n",
    "    return [self.X[idx], self.y[idx]]\n",
    "\n",
    "\n",
    "X_train = np.load('./data/X_train.npy', allow_pickle=True)\n",
    "X_valid = np.load('./data/X_valid.npy', allow_pickle=True)\n",
    "X_test = np.load('./data/X_test.npy', allow_pickle=True)\n",
    "y_train = np.load('./data/y_train.npy', allow_pickle=True)\n",
    "y_valid = np.load('./data/y_valid.npy', allow_pickle=True)\n",
    "y_test = np.load('./data/y_test.npy', allow_pickle=True)\n",
    "\n",
    "X_train_tensor = torch.from_numpy(X_train.astype(np.float32))\n",
    "X_valid_tensor = torch.from_numpy(X_valid.astype(np.float32))\n",
    "X_test_tensor = torch.from_numpy(X_test.astype(np.float32))\n",
    "\n",
    "dataset_train = NewsDataset(X_train_tensor, y_train)\n",
    "dataset_valid = NewsDataset(X_valid_tensor, y_valid)\n",
    "dataset_test = NewsDataset(X_test_tensor, y_test)\n",
    "\n",
    "# dataloader_train = DataLoader(dataset_train, batch_size=1, shuffle=True)\n",
    "# dataloader_valid = DataLoader(dataset_valid, batch_size=len(dataset_valid), shuffle=False)\n",
    "# dataloader_test = DataLoader(dataset_test, batch_size=len(dataset_test), shuffle=False)"
   ]
  },
  {
   "cell_type": "code",
   "execution_count": 66,
   "metadata": {},
   "outputs": [],
   "source": [
    "class Net(nn.Module):\n",
    "    def __init__(self):\n",
    "        super().__init__()\n",
    "        self.fc1 = nn.Linear(300,4)\n",
    "        nn.init.normal_(self.fc1.weight, 0.0, 1.0)\n",
    "    def forward(self,x):\n",
    "        x = self.fc1(x)\n",
    "        return x"
   ]
  },
  {
   "cell_type": "code",
   "execution_count": 68,
   "metadata": {},
   "outputs": [
    {
     "name": "stdout",
     "output_type": "stream",
     "text": [
      "epoch: 1, loss_train: 0.4600, loss_valid: 0.4610, acc_train: 0.8360, acc_valid: 0.8388, time: 6.4729sec\n",
      "epoch: 2, loss_train: 0.3856, loss_valid: 0.4030, acc_train: 0.8658, acc_valid: 0.8508, time: 6.5182sec\n",
      "epoch: 3, loss_train: 0.3554, loss_valid: 0.3771, acc_train: 0.8778, acc_valid: 0.8561, time: 6.4970sec\n",
      "epoch: 4, loss_train: 0.3357, loss_valid: 0.3669, acc_train: 0.8843, acc_valid: 0.8651, time: 6.4397sec\n",
      "epoch: 5, loss_train: 0.3219, loss_valid: 0.3563, acc_train: 0.8906, acc_valid: 0.8703, time: 6.5226sec\n",
      "epoch: 6, loss_train: 0.3156, loss_valid: 0.3533, acc_train: 0.8921, acc_valid: 0.8756, time: 6.4301sec\n",
      "epoch: 7, loss_train: 0.3059, loss_valid: 0.3495, acc_train: 0.8946, acc_valid: 0.8748, time: 6.3852sec\n",
      "epoch: 8, loss_train: 0.2997, loss_valid: 0.3461, acc_train: 0.9002, acc_valid: 0.8756, time: 6.4968sec\n",
      "epoch: 9, loss_train: 0.2954, loss_valid: 0.3435, acc_train: 0.8995, acc_valid: 0.8801, time: 6.4807sec\n",
      "epoch: 10, loss_train: 0.2918, loss_valid: 0.3441, acc_train: 0.9000, acc_valid: 0.8801, time: 6.4130sec\n"
     ]
    }
   ],
   "source": [
    "model = Net()\n",
    "optimizer = optim.SGD(model.parameters(), lr=0.05)\n",
    "criterion = nn.CrossEntropyLoss()\n",
    "log_train, log_valid = train(dataset_train=dataset_train, dataset_valid=dataset_valid, model=model, batch_size=1, num_epoch=10)"
   ]
  },
  {
   "cell_type": "code",
   "execution_count": 70,
   "metadata": {},
   "outputs": [
    {
     "name": "stdout",
     "output_type": "stream",
     "text": [
      "accuracy: 0.8860569715142429\n"
     ]
    }
   ],
   "source": [
    "loss_test, acc_test = calc_loss_acc(model, criterion, dataloader_test)\n",
    "print(f'accuracy: {acc_test}')"
   ]
  },
  {
   "cell_type": "markdown",
   "metadata": {},
   "source": [
    "### 79. 多層ニューラルネットワーク\n",
    "問題78のコードを改変し，バイアス項の導入や多層化など，ニューラルネットワークの形状を変更しながら，高性能なカテゴリ分類器を構築せよ．"
   ]
  },
  {
   "cell_type": "code",
   "execution_count": 109,
   "metadata": {},
   "outputs": [],
   "source": [
    "from torch.nn import functional as F\n",
    "\n",
    "class MLP(nn.Module):\n",
    "    def __init__(self, mid_layer_num=2, mid_unit=200):\n",
    "        super().__init__()\n",
    "        self.mid_layer_num = mid_layer_num\n",
    "        self.fc_in = nn.Linear(300, mid_unit)\n",
    "        self.fc_mid = nn.Linear(mid_unit, mid_unit)\n",
    "        self.fc_out = nn.Linear(mid_unit, 4)\n",
    "\n",
    "    def forward(self,x):\n",
    "        x = F.relu(self.fc_in(x))\n",
    "        for i in range(self.mid_layer_num):\n",
    "            x = F.relu(self.fc_mid(x))\n",
    "        x = self.fc_out(x)\n",
    "        return x"
   ]
  },
  {
   "cell_type": "code",
   "execution_count": 122,
   "metadata": {},
   "outputs": [
    {
     "name": "stdout",
     "output_type": "stream",
     "text": [
      "epoch: 1, loss_train: 1.1756, loss_valid: 1.1659, acc_train: 0.4199, acc_valid: 0.4310, time: 0.9401sec\n",
      "epoch: 2, loss_train: 1.1624, loss_valid: 1.1504, acc_train: 0.4199, acc_valid: 0.4310, time: 0.9407sec\n",
      "epoch: 3, loss_train: 1.1616, loss_valid: 1.1492, acc_train: 0.4199, acc_valid: 0.4310, time: 0.9418sec\n",
      "epoch: 4, loss_train: 1.1609, loss_valid: 1.1490, acc_train: 0.4199, acc_valid: 0.4310, time: 0.9428sec\n",
      "epoch: 5, loss_train: 1.1602, loss_valid: 1.1481, acc_train: 0.4199, acc_valid: 0.4310, time: 0.9383sec\n",
      "epoch: 6, loss_train: 1.1588, loss_valid: 1.1463, acc_train: 0.4199, acc_valid: 0.4310, time: 0.9402sec\n",
      "epoch: 7, loss_train: 1.1564, loss_valid: 1.1443, acc_train: 0.4199, acc_valid: 0.4310, time: 0.9388sec\n",
      "epoch: 8, loss_train: 1.1524, loss_valid: 1.1404, acc_train: 0.4267, acc_valid: 0.4400, time: 0.9402sec\n",
      "epoch: 9, loss_train: 1.1433, loss_valid: 1.1307, acc_train: 0.4487, acc_valid: 0.4625, time: 0.9346sec\n",
      "epoch: 10, loss_train: 1.1131, loss_valid: 1.0998, acc_train: 0.7225, acc_valid: 0.7369, time: 0.9387sec\n",
      "epoch: 11, loss_train: 0.9434, loss_valid: 0.9246, acc_train: 0.7731, acc_valid: 0.7901, time: 0.9382sec\n",
      "epoch: 12, loss_train: 0.6707, loss_valid: 0.6423, acc_train: 0.7786, acc_valid: 0.7916, time: 0.9262sec\n",
      "epoch: 13, loss_train: 0.5965, loss_valid: 0.5739, acc_train: 0.7837, acc_valid: 0.7976, time: 0.9307sec\n",
      "epoch: 14, loss_train: 0.5637, loss_valid: 0.5449, acc_train: 0.7881, acc_valid: 0.7984, time: 0.9825sec\n",
      "epoch: 15, loss_train: 0.5426, loss_valid: 0.5295, acc_train: 0.7963, acc_valid: 0.7999, time: 0.9232sec\n",
      "epoch: 16, loss_train: 0.5297, loss_valid: 0.5211, acc_train: 0.7974, acc_valid: 0.7991, time: 0.9337sec\n",
      "epoch: 17, loss_train: 0.5240, loss_valid: 0.5191, acc_train: 0.7996, acc_valid: 0.7976, time: 0.9353sec\n",
      "epoch: 18, loss_train: 0.5219, loss_valid: 0.5222, acc_train: 0.7993, acc_valid: 0.8013, time: 0.9308sec\n",
      "epoch: 19, loss_train: 0.5124, loss_valid: 0.5149, acc_train: 0.8029, acc_valid: 0.7984, time: 0.9264sec\n",
      "epoch: 20, loss_train: 0.4967, loss_valid: 0.5030, acc_train: 0.8082, acc_valid: 0.8006, time: 0.9364sec\n",
      "epoch: 21, loss_train: 0.4946, loss_valid: 0.5051, acc_train: 0.8103, acc_valid: 0.8028, time: 0.9334sec\n",
      "epoch: 22, loss_train: 0.4846, loss_valid: 0.4958, acc_train: 0.8116, acc_valid: 0.8028, time: 0.9332sec\n",
      "epoch: 23, loss_train: 0.4865, loss_valid: 0.4991, acc_train: 0.8082, acc_valid: 0.8028, time: 0.9373sec\n",
      "epoch: 24, loss_train: 0.4642, loss_valid: 0.4833, acc_train: 0.8193, acc_valid: 0.8088, time: 0.9345sec\n",
      "epoch: 25, loss_train: 0.4581, loss_valid: 0.4803, acc_train: 0.8217, acc_valid: 0.8118, time: 0.9371sec\n",
      "epoch: 26, loss_train: 0.4447, loss_valid: 0.4714, acc_train: 0.8272, acc_valid: 0.8163, time: 0.9320sec\n",
      "epoch: 27, loss_train: 0.4454, loss_valid: 0.4734, acc_train: 0.8310, acc_valid: 0.8186, time: 0.9433sec\n",
      "epoch: 28, loss_train: 0.4189, loss_valid: 0.4569, acc_train: 0.8393, acc_valid: 0.8216, time: 0.9389sec\n",
      "epoch: 29, loss_train: 0.3954, loss_valid: 0.4387, acc_train: 0.8480, acc_valid: 0.8276, time: 0.9294sec\n",
      "epoch: 30, loss_train: 0.3792, loss_valid: 0.4293, acc_train: 0.8612, acc_valid: 0.8441, time: 0.9274sec\n",
      "epoch: 31, loss_train: 0.3684, loss_valid: 0.4224, acc_train: 0.8657, acc_valid: 0.8426, time: 0.9150sec\n",
      "epoch: 32, loss_train: 0.3638, loss_valid: 0.4228, acc_train: 0.8722, acc_valid: 0.8531, time: 0.9495sec\n",
      "epoch: 33, loss_train: 0.3517, loss_valid: 0.4179, acc_train: 0.8779, acc_valid: 0.8553, time: 0.9259sec\n",
      "epoch: 34, loss_train: 0.3388, loss_valid: 0.4077, acc_train: 0.8814, acc_valid: 0.8613, time: 0.9236sec\n",
      "epoch: 35, loss_train: 0.3286, loss_valid: 0.4008, acc_train: 0.8876, acc_valid: 0.8643, time: 0.9259sec\n",
      "epoch: 36, loss_train: 0.3200, loss_valid: 0.3940, acc_train: 0.8927, acc_valid: 0.8666, time: 0.9261sec\n",
      "epoch: 37, loss_train: 0.3208, loss_valid: 0.4008, acc_train: 0.8900, acc_valid: 0.8658, time: 0.9327sec\n",
      "epoch: 38, loss_train: 0.3197, loss_valid: 0.4012, acc_train: 0.8885, acc_valid: 0.8583, time: 0.9380sec\n",
      "epoch: 39, loss_train: 0.3062, loss_valid: 0.3922, acc_train: 0.8954, acc_valid: 0.8703, time: 0.9369sec\n",
      "epoch: 40, loss_train: 0.3031, loss_valid: 0.3916, acc_train: 0.8961, acc_valid: 0.8621, time: 0.9412sec\n",
      "epoch: 41, loss_train: 0.2868, loss_valid: 0.3770, acc_train: 0.9051, acc_valid: 0.8763, time: 0.9426sec\n",
      "epoch: 42, loss_train: 0.2906, loss_valid: 0.3851, acc_train: 0.8992, acc_valid: 0.8666, time: 0.9364sec\n",
      "epoch: 43, loss_train: 0.2942, loss_valid: 0.3945, acc_train: 0.8980, acc_valid: 0.8741, time: 0.9384sec\n",
      "epoch: 44, loss_train: 0.2848, loss_valid: 0.3748, acc_train: 0.9013, acc_valid: 0.8778, time: 0.9414sec\n",
      "epoch: 45, loss_train: 0.2583, loss_valid: 0.3619, acc_train: 0.9145, acc_valid: 0.8823, time: 0.9348sec\n",
      "epoch: 46, loss_train: 0.2525, loss_valid: 0.3579, acc_train: 0.9180, acc_valid: 0.8846, time: 0.9336sec\n",
      "epoch: 47, loss_train: 0.2590, loss_valid: 0.3615, acc_train: 0.9098, acc_valid: 0.8831, time: 0.9342sec\n",
      "epoch: 48, loss_train: 0.2499, loss_valid: 0.3627, acc_train: 0.9134, acc_valid: 0.8823, time: 0.9357sec\n",
      "epoch: 49, loss_train: 0.2380, loss_valid: 0.3508, acc_train: 0.9176, acc_valid: 0.8823, time: 0.9405sec\n",
      "epoch: 50, loss_train: 0.2278, loss_valid: 0.3475, acc_train: 0.9227, acc_valid: 0.8891, time: 0.9370sec\n",
      "epoch: 51, loss_train: 0.2172, loss_valid: 0.3439, acc_train: 0.9265, acc_valid: 0.8936, time: 0.9350sec\n",
      "epoch: 52, loss_train: 0.2158, loss_valid: 0.3497, acc_train: 0.9263, acc_valid: 0.8883, time: 0.9389sec\n",
      "epoch: 53, loss_train: 0.2230, loss_valid: 0.3558, acc_train: 0.9211, acc_valid: 0.8921, time: 0.9353sec\n",
      "epoch: 54, loss_train: 0.1996, loss_valid: 0.3341, acc_train: 0.9316, acc_valid: 0.8891, time: 0.9392sec\n",
      "epoch: 55, loss_train: 0.1945, loss_valid: 0.3357, acc_train: 0.9342, acc_valid: 0.8876, time: 0.9362sec\n",
      "epoch: 56, loss_train: 0.2006, loss_valid: 0.3496, acc_train: 0.9308, acc_valid: 0.8861, time: 0.9342sec\n",
      "epoch: 57, loss_train: 0.1979, loss_valid: 0.3557, acc_train: 0.9313, acc_valid: 0.8816, time: 0.9384sec\n",
      "epoch: 58, loss_train: 0.1970, loss_valid: 0.3623, acc_train: 0.9292, acc_valid: 0.8891, time: 0.9385sec\n",
      "epoch: 59, loss_train: 0.1743, loss_valid: 0.3424, acc_train: 0.9410, acc_valid: 0.8898, time: 0.9349sec\n",
      "epoch: 60, loss_train: 0.1653, loss_valid: 0.3359, acc_train: 0.9447, acc_valid: 0.8928, time: 0.9370sec\n",
      "epoch: 61, loss_train: 0.1620, loss_valid: 0.3490, acc_train: 0.9447, acc_valid: 0.8936, time: 0.9345sec\n",
      "epoch: 62, loss_train: 0.1499, loss_valid: 0.3384, acc_train: 0.9522, acc_valid: 0.8906, time: 0.9419sec\n",
      "epoch: 63, loss_train: 0.1487, loss_valid: 0.3542, acc_train: 0.9507, acc_valid: 0.8943, time: 0.9364sec\n",
      "epoch: 64, loss_train: 0.1449, loss_valid: 0.3527, acc_train: 0.9505, acc_valid: 0.8943, time: 0.9404sec\n",
      "early stopping\n"
     ]
    }
   ],
   "source": [
    "model = MLP(mid_layer_num=3, mid_unit=200)\n",
    "optimizer = optim.SGD(model.parameters(), lr=0.005)\n",
    "criterion = nn.CrossEntropyLoss()\n",
    "log_train, log_valid = train(dataset_train=dataset_train, dataset_valid=dataset_valid, model=model, batch_size=16, num_epoch=300, early_stopping=10)"
   ]
  },
  {
   "cell_type": "code",
   "execution_count": 123,
   "metadata": {},
   "outputs": [
    {
     "name": "stdout",
     "output_type": "stream",
     "text": [
      "accuracy: 0.8875562218890555\n"
     ]
    }
   ],
   "source": [
    "loss_test, acc_test = calc_loss_acc(model, criterion, dataloader_test)\n",
    "print(f'accuracy: {acc_test}')"
   ]
  },
  {
   "cell_type": "code",
   "execution_count": null,
   "metadata": {},
   "outputs": [],
   "source": []
  }
 ],
 "metadata": {
  "kernelspec": {
   "display_name": "Python 3 (ipykernel)",
   "language": "python",
   "name": "python3"
  },
  "language_info": {
   "codemirror_mode": {
    "name": "ipython",
    "version": 3
   },
   "file_extension": ".py",
   "mimetype": "text/x-python",
   "name": "python",
   "nbconvert_exporter": "python",
   "pygments_lexer": "ipython3",
   "version": "3.8.16"
  },
  "orig_nbformat": 4
 },
 "nbformat": 4,
 "nbformat_minor": 2
}
